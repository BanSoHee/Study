{
  "nbformat": 4,
  "nbformat_minor": 0,
  "metadata": {
    "colab": {
      "name": "Keras의 RNN과 LSTM.ipynb",
      "provenance": []
    },
    "kernelspec": {
      "name": "python3",
      "display_name": "Python 3"
    },
    "language_info": {
      "name": "python"
    }
  },
  "cells": [
    {
      "cell_type": "markdown",
      "source": [
        "## 임의의 입력 생성"
      ],
      "metadata": {
        "id": "i0HM2lIqKvYx"
      }
    },
    {
      "cell_type": "code",
      "execution_count": 15,
      "metadata": {
        "id": "io3Ocff-Kche"
      },
      "outputs": [],
      "source": [
        "import numpy as np\n",
        "import tensorflow as tf\n",
        "from tensorflow.keras.layers import SimpleRNN, LSTM, Bidirectional\n",
        "from tensorflow.keras.models import Sequential"
      ]
    },
    {
      "cell_type": "code",
      "source": [
        "## 단어의 벡터 차원은 5, 문장의 길이는 4인 경우를 가정\n",
        "## = 4번의 시점 (timesteps) 이 존재하고, 각 시점마다 5차원의 단어 벡터가 입력으로 사용됨\n",
        "train_X = [[0.1, 4.2, 1.5, 1.1, 2.8], \n",
        "           [1.0, 3.1, 2.5, 0.7, 1.1], \n",
        "           [0.3, 2.1, 1.5, 2.1, 0.1], \n",
        "           [2.2, 1.4, 0.5, 0.9, 1.1]]"
      ],
      "metadata": {
        "id": "4gIT-VfDKycq"
      },
      "execution_count": 2,
      "outputs": []
    },
    {
      "cell_type": "code",
      "source": [
        "np.shape(train_X)"
      ],
      "metadata": {
        "colab": {
          "base_uri": "https://localhost:8080/"
        },
        "id": "rx-SPMi-K4ww",
        "outputId": "adde9541-fb92-4a5a-d56b-d469534c1acc"
      },
      "execution_count": 6,
      "outputs": [
        {
          "output_type": "execute_result",
          "data": {
            "text/plain": [
              "(4, 5)"
            ]
          },
          "metadata": {},
          "execution_count": 6
        }
      ]
    },
    {
      "cell_type": "code",
      "source": [
        "## RNN은 3D 텐서를 입력받기 때문에 batch_size=1 를 추가하여 2D 텐서 => 3D 텐서로 변경\n",
        "## batch_size=1 은 현재 샘플이 한 개 밖에 없기 때문에 임의로 설정한 값!\n",
        "train_X = [[[0.1, 4.2, 1.5, 1.1, 2.8], \n",
        "            [1.0, 3.1, 2.5, 0.7, 1.1], \n",
        "            [0.3, 2.1, 1.5, 2.1, 0.1], \n",
        "            [2.2, 1.4, 0.5, 0.9, 1.1]]]\n",
        "            \n",
        "train_X = np.array(train_X, dtype=np.float32)"
      ],
      "metadata": {
        "id": "vGlx13ASK6UA"
      },
      "execution_count": 29,
      "outputs": []
    },
    {
      "cell_type": "code",
      "source": [
        "## (batch_size, timesteps, input_dim) = (1, 4, 5)\n",
        "np.shape(train_X)"
      ],
      "metadata": {
        "colab": {
          "base_uri": "https://localhost:8080/"
        },
        "id": "0G7GIjnFLrrZ",
        "outputId": "481de0a6-a8c6-4846-ddd5-287037ca6233"
      },
      "execution_count": 30,
      "outputs": [
        {
          "output_type": "execute_result",
          "data": {
            "text/plain": [
              "(1, 4, 5)"
            ]
          },
          "metadata": {},
          "execution_count": 30
        }
      ]
    },
    {
      "cell_type": "markdown",
      "source": [
        "## SimpleRNN"
      ],
      "metadata": {
        "id": "_ZzA0BUwOJTn"
      }
    },
    {
      "cell_type": "markdown",
      "source": [
        "- 위에서 임의로 생성한 데이터를 SimpleRNN의 입력으로 하여 출력값을 생성함"
      ],
      "metadata": {
        "id": "QBLoxW8oOVVJ"
      }
    },
    {
      "cell_type": "markdown",
      "source": [
        "- 은닉 상태 = 3\n",
        "- return_sequences = False\n",
        "- return_state = False\n"
      ],
      "metadata": {
        "id": "gOXMG9E9TwBN"
      }
    },
    {
      "cell_type": "code",
      "source": [
        "## SimpleRNN의 대표적인 인자\n",
        "## 1) return_sequences=False\n",
        "## 2) return_state=False\n",
        "\n",
        "## 은닉 상태의 크기를 3으로 지정\n",
        "rnn = SimpleRNN(3) # = SimpleRNN(3, return_sequences=False, return_state=False)와 동일.\n",
        "hidden_state = rnn(train_X)\n",
        "\n",
        "print(hidden_state)\n",
        "print(hidden_state.shape) ## 은닉 상태=3, return_sequences=False => 마지막 시점의 은닉 상태만 출력 => (1, 3) 크기의 텐서 반환"
      ],
      "metadata": {
        "colab": {
          "base_uri": "https://localhost:8080/"
        },
        "id": "4YNRL02ELr3P",
        "outputId": "41e1af0b-ab32-49e8-bbdc-706fd48f247d"
      },
      "execution_count": 33,
      "outputs": [
        {
          "output_type": "stream",
          "name": "stdout",
          "text": [
            "tf.Tensor([[-0.99920297 -0.90079504 -0.63070214]], shape=(1, 3), dtype=float32)\n",
            "(1, 3)\n"
          ]
        }
      ]
    },
    {
      "cell_type": "markdown",
      "source": [
        "- 은닉 상태 = 3\n",
        "- return_sequences = True\n",
        "- return_state = False\n"
      ],
      "metadata": {
        "id": "R0-2TLK8T5h6"
      }
    },
    {
      "cell_type": "code",
      "source": [
        "rnn = SimpleRNN(3, return_sequences=True) # = SimpleRNN(3, return_sequences=True, return_state=False)와 동일.\n",
        "hidden_state = rnn(train_X)\n",
        "\n",
        "print(hidden_state)\n",
        "print(hidden_state.shape) ## 은닉 상태=3, return_sequences=True => 모든 시점의 은닉 상태 출력 => (1, 4, 3) 크기의 텐서 반환"
      ],
      "metadata": {
        "colab": {
          "base_uri": "https://localhost:8080/"
        },
        "id": "vOgftWyjTSVM",
        "outputId": "28c74952-a030-4a91-b49d-c098eb91e688"
      },
      "execution_count": 37,
      "outputs": [
        {
          "output_type": "stream",
          "name": "stdout",
          "text": [
            "tf.Tensor(\n",
            "[[[ 0.96075356 -0.99996823 -0.91444737]\n",
            "  [ 0.83762455 -0.99996656 -0.5097923 ]\n",
            "  [ 0.1969568  -0.96925104  0.9248392 ]\n",
            "  [ 0.61809283 -0.66473997 -0.62028956]]], shape=(1, 4, 3), dtype=float32)\n",
            "(1, 4, 3)\n"
          ]
        }
      ]
    },
    {
      "cell_type": "markdown",
      "source": [
        "- 은닉 상태 = 3\n",
        "- return_sequences = False\n",
        "- return_state = True"
      ],
      "metadata": {
        "id": "2ODzk33HhHsC"
      }
    },
    {
      "cell_type": "code",
      "source": [
        "rnn = SimpleRNN(3, return_sequences=False, return_state=True)\n",
        "hidden_states, last_state = rnn(train_X)\n",
        "\n",
        "## return_sequences=False 에 의한 마지막 시점 은닉 상태\n",
        "print(hidden_states)\n",
        "print(hidden_states.shape) ## 은닉 상태=3, return_state=True => return_state=True 이면 return_sequences 값에 상관없이 마지막 시점의 은닉 상태 출력\n",
        "## return_state=True 에 의한 마지막 시점 은닉 상태\n",
        "print(last_state)\n",
        "print(last_state.shape)"
      ],
      "metadata": {
        "colab": {
          "base_uri": "https://localhost:8080/"
        },
        "id": "l2zmxwq4UuD-",
        "outputId": "c161c7b4-3291-454d-cc0d-30c58ff3834e"
      },
      "execution_count": 40,
      "outputs": [
        {
          "output_type": "stream",
          "name": "stdout",
          "text": [
            "tf.Tensor([[ 0.83888245  0.29763344 -0.8472526 ]], shape=(1, 3), dtype=float32)\n",
            "(1, 3)\n",
            "tf.Tensor([[ 0.83888245  0.29763344 -0.8472526 ]], shape=(1, 3), dtype=float32)\n",
            "(1, 3)\n"
          ]
        }
      ]
    },
    {
      "cell_type": "markdown",
      "source": [
        "- 은닉 상태 = 3\n",
        "- return_sequences = True\n",
        "- return_state = True"
      ],
      "metadata": {
        "id": "9ORa9C4vhF9A"
      }
    },
    {
      "cell_type": "code",
      "source": [
        "rnn = SimpleRNN(3, return_sequences=True, return_state=True)\n",
        "hidden_states, last_state = rnn(train_X)\n",
        "\n",
        "## return_sequences=True 에 의한 모든 시점 은닉 상태\n",
        "print(hidden_states)\n",
        "print(hidden_states.shape) ## 은닉 상태=3, return_state=True => return_state=True 이면 return_sequences 값에 상관없이 마지막 시점의 은닉 상태 출력\n",
        "## return_state=True 에 의한 마지막 시점 은닉 상태\n",
        "print(last_state)\n",
        "print(last_state.shape)"
      ],
      "metadata": {
        "colab": {
          "base_uri": "https://localhost:8080/"
        },
        "id": "YrjW5dxIUDak",
        "outputId": "f9aedf03-f2dd-49f5-c3c9-22eff5036385"
      },
      "execution_count": 38,
      "outputs": [
        {
          "output_type": "stream",
          "name": "stdout",
          "text": [
            "tf.Tensor(\n",
            "[[[ 0.25307786 -0.99758774  0.99185723]\n",
            "  [ 0.06171196 -0.998129    0.9762221 ]\n",
            "  [ 0.6062321  -0.9971669   0.94836664]\n",
            "  [ 0.48797077 -0.9983326   0.989138  ]]], shape=(1, 4, 3), dtype=float32)\n",
            "(1, 4, 3)\n",
            "tf.Tensor([[ 0.48797077 -0.9983326   0.989138  ]], shape=(1, 3), dtype=float32)\n",
            "(1, 3)\n"
          ]
        }
      ]
    },
    {
      "cell_type": "markdown",
      "source": [
        "## LSTM"
      ],
      "metadata": {
        "id": "KqR5rxAehCGO"
      }
    },
    {
      "cell_type": "markdown",
      "source": [
        "- 은닉 상태 = 3\n",
        "- return_sequences = False\n",
        "- return_state = False"
      ],
      "metadata": {
        "id": "URj8uwFfhO2O"
      }
    },
    {
      "cell_type": "code",
      "source": [
        "lstm = LSTM(3)\n",
        "hidden_state = lstm(train_X)\n",
        "\n",
        "print(hidden_state)\n",
        "print(hidden_state.shape)"
      ],
      "metadata": {
        "colab": {
          "base_uri": "https://localhost:8080/"
        },
        "id": "Nh-JiIjig-di",
        "outputId": "c5c986bc-ec3d-4f72-9ef8-97da06a09696"
      },
      "execution_count": 41,
      "outputs": [
        {
          "output_type": "stream",
          "name": "stdout",
          "text": [
            "tf.Tensor([[-0.02579624 -0.05711701 -0.31112766]], shape=(1, 3), dtype=float32)\n",
            "(1, 3)\n"
          ]
        }
      ]
    },
    {
      "cell_type": "markdown",
      "source": [
        "- 은닉 상태 = 3\n",
        "- return_sequences = True\n",
        "- return_state = False"
      ],
      "metadata": {
        "id": "e1pMn1PZhhpu"
      }
    },
    {
      "cell_type": "code",
      "source": [
        "lstm = LSTM(3, return_sequences=True)\n",
        "hidden_state = lstm(train_X)\n",
        "\n",
        "print(hidden_state)\n",
        "print(hidden_state.shape)"
      ],
      "metadata": {
        "colab": {
          "base_uri": "https://localhost:8080/"
        },
        "id": "7tS6Ja8BhfXI",
        "outputId": "41bc8181-284b-4e82-bf84-d85349effa71"
      },
      "execution_count": 42,
      "outputs": [
        {
          "output_type": "stream",
          "name": "stdout",
          "text": [
            "tf.Tensor(\n",
            "[[[-0.52221864 -0.44488105 -0.23758584]\n",
            "  [-0.33502948 -0.6736479  -0.2429331 ]\n",
            "  [ 0.08276625 -0.78515166 -0.18412358]\n",
            "  [-0.21635228 -0.29922092 -0.39098972]]], shape=(1, 4, 3), dtype=float32)\n",
            "(1, 4, 3)\n"
          ]
        }
      ]
    },
    {
      "cell_type": "markdown",
      "source": [
        "- 은닉 상태 = 3\n",
        "- return_sequences = False\n",
        "- return_state = True"
      ],
      "metadata": {
        "id": "lSzJBP9upPcw"
      }
    },
    {
      "cell_type": "code",
      "source": [
        "lstm = LSTM(3, return_state=True)\n",
        "hidden_state, last_state, last_cell_state = lstm(train_X)\n",
        "\n",
        "## 마지막 시점 은닉 상태\n",
        "print(hidden_state)\n",
        "print(hidden_state.shape)\n",
        "## 마지막 시점 은닉 상태\n",
        "print(last_state)\n",
        "print(last_state.shape)\n",
        "## 마지막 셀 상태\n",
        "print(last_cell_state) \n",
        "print(last_cell_state.shape)"
      ],
      "metadata": {
        "colab": {
          "base_uri": "https://localhost:8080/"
        },
        "id": "iCrwHQe5hvAK",
        "outputId": "1e96c08e-5586-431e-a836-a245712ac386"
      },
      "execution_count": 43,
      "outputs": [
        {
          "output_type": "stream",
          "name": "stdout",
          "text": [
            "tf.Tensor([[-2.9086057e-05  2.1537215e-01  5.2070860e-02]], shape=(1, 3), dtype=float32)\n",
            "(1, 3)\n",
            "tf.Tensor([[-2.9086057e-05  2.1537215e-01  5.2070860e-02]], shape=(1, 3), dtype=float32)\n",
            "(1, 3)\n",
            "tf.Tensor([[-1.3716891e-04  2.8001732e-01  1.5381490e-01]], shape=(1, 3), dtype=float32)\n",
            "(1, 3)\n"
          ]
        }
      ]
    },
    {
      "cell_type": "markdown",
      "source": [
        "- 은닉 상태 = 3\n",
        "- return_sequences = True\n",
        "- return_state = True"
      ],
      "metadata": {
        "id": "-BaSbzCopWF8"
      }
    },
    {
      "cell_type": "code",
      "source": [
        "lstm = LSTM(3, return_sequences=True, return_state=True)\n",
        "hidden_state, last_state, last_cell_state = lstm(train_X)\n",
        "\n",
        "## 모든 시점 은닉 상태\n",
        "print(hidden_state)\n",
        "print(hidden_state.shape)\n",
        "## 마지막 시점 은닉 상태\n",
        "print(last_state)\n",
        "print(last_state.shape)\n",
        "## 마지막 셀 상태\n",
        "print(last_cell_state) \n",
        "print(last_cell_state.shape)"
      ],
      "metadata": {
        "colab": {
          "base_uri": "https://localhost:8080/"
        },
        "id": "jaLo2f98h6ef",
        "outputId": "f66d51dd-1280-4ce8-ac7d-6edbcc26ffca"
      },
      "execution_count": 44,
      "outputs": [
        {
          "output_type": "stream",
          "name": "stdout",
          "text": [
            "tf.Tensor(\n",
            "[[[ 0.01266283 -0.01073732 -0.26956397]\n",
            "  [ 0.06335244  0.0129718  -0.29681572]\n",
            "  [ 0.06446633  0.13837092 -0.19866091]\n",
            "  [ 0.15899025  0.26276284 -0.18384273]]], shape=(1, 4, 3), dtype=float32)\n",
            "(1, 4, 3)\n",
            "tf.Tensor([[ 0.15899025  0.26276284 -0.18384273]], shape=(1, 3), dtype=float32)\n",
            "(1, 3)\n",
            "tf.Tensor([[ 0.32054126  0.3726378  -0.78897256]], shape=(1, 3), dtype=float32)\n",
            "(1, 3)\n"
          ]
        }
      ]
    },
    {
      "cell_type": "markdown",
      "source": [
        "## 양방향 LSTM"
      ],
      "metadata": {
        "id": "fitVIEhuiYqN"
      }
    },
    {
      "cell_type": "markdown",
      "source": [
        "- 출력되는 은닉 상태 값 고정"
      ],
      "metadata": {
        "id": "volvOKVXqJ0Y"
      }
    },
    {
      "cell_type": "code",
      "source": [
        "k_init = tf.keras.initializers.Constant(value=0.1)\n",
        "b_init = tf.keras.initializers.Constant(value=0)\n",
        "r_init = tf.keras.initializers.Constant(value=0.1)"
      ],
      "metadata": {
        "id": "ZA9qDn-riQdg"
      },
      "execution_count": 45,
      "outputs": []
    },
    {
      "cell_type": "markdown",
      "source": [
        "- 은닉 상태 = 3\n",
        "- return_sequences = False\n",
        "- return_state = False"
      ],
      "metadata": {
        "id": "7OW1PXtIq2Qs"
      }
    },
    {
      "cell_type": "code",
      "source": [
        "bilstm = Bidirectional(LSTM(3, \n",
        "                            return_sequences=False, \n",
        "                            return_state=False,\n",
        "                            kernel_initializer=k_init, \n",
        "                            bias_initializer=b_init, \n",
        "                            recurrent_initializer=r_init))\n",
        "\n",
        "hidden_states = bilstm(train_X)\n",
        "\n",
        "print(hidden_states)\n",
        "print(hidden_states.shape)"
      ],
      "metadata": {
        "colab": {
          "base_uri": "https://localhost:8080/"
        },
        "id": "_njn9-6jqOEq",
        "outputId": "3659f49b-4430-4459-b883-f8638b893f85"
      },
      "execution_count": 47,
      "outputs": [
        {
          "output_type": "stream",
          "name": "stdout",
          "text": [
            "tf.Tensor([[0.63031393 0.63031393 0.63031393 0.7038734  0.7038734  0.7038734 ]], shape=(1, 6), dtype=float32)\n",
            "(1, 6)\n"
          ]
        }
      ]
    },
    {
      "cell_type": "markdown",
      "source": [
        "- 은닉 상태 = 3\n",
        "- return_sequences = True\n",
        "- return_state = False"
      ],
      "metadata": {
        "id": "W9CGbKY_rJ7N"
      }
    },
    {
      "cell_type": "code",
      "source": [
        "bilstm = Bidirectional(LSTM(3, \n",
        "                            return_sequences=True, \n",
        "                            return_state=False,\n",
        "                            kernel_initializer=k_init, \n",
        "                            bias_initializer=b_init, \n",
        "                            recurrent_initializer=r_init))\n",
        "\n",
        "hidden_states = bilstm(train_X)\n",
        "\n",
        "print(hidden_states)\n",
        "print(hidden_states.shape)"
      ],
      "metadata": {
        "colab": {
          "base_uri": "https://localhost:8080/"
        },
        "id": "OmnpUX_GrFWN",
        "outputId": "a5b52b03-bb1f-4b1c-d63a-7517ca6531d3"
      },
      "execution_count": 48,
      "outputs": [
        {
          "output_type": "stream",
          "name": "stdout",
          "text": [
            "tf.Tensor(\n",
            "[[[0.35906473 0.35906473 0.35906473 0.7038734  0.7038734  0.7038734 ]\n",
            "  [0.5511133  0.5511133  0.5511133  0.58863586 0.58863586 0.58863586]\n",
            "  [0.59115744 0.59115744 0.59115744 0.3951699  0.3951699  0.3951699 ]\n",
            "  [0.63031393 0.63031393 0.63031393 0.21942244 0.21942244 0.21942244]]], shape=(1, 4, 6), dtype=float32)\n",
            "(1, 4, 6)\n"
          ]
        }
      ]
    },
    {
      "cell_type": "markdown",
      "source": [
        "- 은닉 상태 = 3\n",
        "- return_sequences = False\n",
        "- return_state = True"
      ],
      "metadata": {
        "id": "2w76XesHrPT1"
      }
    },
    {
      "cell_type": "code",
      "source": [
        "bilstm = Bidirectional(LSTM(3, \n",
        "                            return_sequences=False, \n",
        "                            return_state=True,\n",
        "                            kernel_initializer=k_init, \n",
        "                            bias_initializer=b_init, \n",
        "                            recurrent_initializer=r_init))\n",
        "\n",
        "## return_state=True 일 때, 정향향 LSTM과 역방향 LSTM의 은닉 상태 및 셀 상태 모두를 반환함\n",
        "hidden_states, forward_h, forward_c, backward_h, backward_c = bilstm(train_X)\n",
        "\n",
        "## hidden states\n",
        "print(hidden_states)\n",
        "print(hidden_states.shape)\n",
        "\n",
        "## forward state\n",
        "print(forward_h)  ## 정방향 LSTM의 마지막 시점의 은닉 상태 값\n",
        "print(forward_h.shape)\n",
        "\n",
        "## backward state\n",
        "print(backward_h) ## 역방향 LSTM의 첫 번째 시점의 은닉 상태 값\n",
        "print(backward_h.shape)"
      ],
      "metadata": {
        "colab": {
          "base_uri": "https://localhost:8080/"
        },
        "id": "C9bFHHKjrNqB",
        "outputId": "950bbddc-cfa6-45b8-c0be-f3fb7b0ee0a1"
      },
      "execution_count": 49,
      "outputs": [
        {
          "output_type": "stream",
          "name": "stdout",
          "text": [
            "tf.Tensor([[0.63031393 0.63031393 0.63031393 0.7038734  0.7038734  0.7038734 ]], shape=(1, 6), dtype=float32)\n",
            "(1, 6)\n",
            "tf.Tensor([[0.63031393 0.63031393 0.63031393]], shape=(1, 3), dtype=float32)\n",
            "(1, 3)\n",
            "tf.Tensor([[0.7038734 0.7038734 0.7038734]], shape=(1, 3), dtype=float32)\n",
            "(1, 3)\n"
          ]
        }
      ]
    },
    {
      "cell_type": "markdown",
      "source": [
        "- 은닉 상태 = 3\n",
        "- return_sequences = True\n",
        "- return_state = True"
      ],
      "metadata": {
        "id": "a4Y6E-RHuPVt"
      }
    },
    {
      "cell_type": "code",
      "source": [
        "bilstm = Bidirectional(LSTM(3, \n",
        "                            return_sequences=True, \n",
        "                            return_state=True,\n",
        "                            kernel_initializer=k_init, \n",
        "                            bias_initializer=b_init, \n",
        "                            recurrent_initializer=r_init))\n",
        "\n",
        "## return_state=True 일 때, 정향향 LSTM과 역방향 LSTM의 은닉 상태 및 셀 상태 모두를 반환함\n",
        "hidden_states, forward_h, forward_c, backward_h, backward_c = bilstm(train_X)\n",
        "\n",
        "## hidden states\n",
        "print(hidden_states) ## return_sequences=True 이므로 모든 시점의 은닉 상태를 출력\n",
        "print(hidden_states.shape)\n",
        "\n",
        "## forward state\n",
        "print(forward_h)  ## 정방향 LSTM의 마지막 시점의 은닉 상태 값\n",
        "print(forward_h.shape)\n",
        "\n",
        "## backward state\n",
        "print(backward_h) ## 역방향 LSTM의 첫 번째 시점의 은닉 상태 값\n",
        "print(backward_h.shape)"
      ],
      "metadata": {
        "colab": {
          "base_uri": "https://localhost:8080/"
        },
        "id": "a_2CAZdErog0",
        "outputId": "ac051664-64f9-47f0-81c0-4df386f41b0a"
      },
      "execution_count": 50,
      "outputs": [
        {
          "output_type": "stream",
          "name": "stdout",
          "text": [
            "tf.Tensor(\n",
            "[[[0.35906473 0.35906473 0.35906473 0.7038734  0.7038734  0.7038734 ]\n",
            "  [0.5511133  0.5511133  0.5511133  0.58863586 0.58863586 0.58863586]\n",
            "  [0.59115744 0.59115744 0.59115744 0.3951699  0.3951699  0.3951699 ]\n",
            "  [0.63031393 0.63031393 0.63031393 0.21942244 0.21942244 0.21942244]]], shape=(1, 4, 6), dtype=float32)\n",
            "(1, 4, 6)\n",
            "tf.Tensor([[0.63031393 0.63031393 0.63031393]], shape=(1, 3), dtype=float32)\n",
            "(1, 3)\n",
            "tf.Tensor([[0.7038734 0.7038734 0.7038734]], shape=(1, 3), dtype=float32)\n",
            "(1, 3)\n"
          ]
        }
      ]
    },
    {
      "cell_type": "code",
      "source": [
        ""
      ],
      "metadata": {
        "id": "LTOLHiNpuRFi"
      },
      "execution_count": null,
      "outputs": []
    }
  ]
}