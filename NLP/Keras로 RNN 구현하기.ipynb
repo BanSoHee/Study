{
  "nbformat": 4,
  "nbformat_minor": 0,
  "metadata": {
    "colab": {
      "name": "Keras로 RNN 구현하기.ipynb",
      "provenance": [],
      "collapsed_sections": []
    },
    "kernelspec": {
      "name": "python3",
      "display_name": "Python 3"
    },
    "language_info": {
      "name": "python"
    }
  },
  "cells": [
    {
      "cell_type": "code",
      "execution_count": 4,
      "metadata": {
        "id": "xTZQ4xaDMc7W"
      },
      "outputs": [],
      "source": [
        "from tensorflow.keras.models import Sequential\n",
        "from tensorflow.keras.layers import SimpleRNN"
      ]
    },
    {
      "cell_type": "markdown",
      "source": [
        "## RNN"
      ],
      "metadata": {
        "id": "u7juVBveV6RT"
      }
    },
    {
      "cell_type": "code",
      "source": [
        "## 추가 인자를 사용할 때\n",
        "\n",
        "## hidden_units \n",
        "    ## = 은닉 상태의 크기를 정의\n",
        "    ## = 메모리 셀이 다음 시점의 메모리 셀과 출력층으로 보내는 값의 크기 (ouput_dim) 와 동일\n",
        "    ## = RNN의 capacity 와 관련이 있음\n",
        "    ## = 중소형 모델의 경우 일반적으로 128, 256, 512, 1024 등의 값을 가짐\n",
        "## timesteps\n",
        "    ## = 입력 시퀀스의 길이 (input_length) 라고 표현하기도 함\n",
        "    ## = 시점 수를 의미함\n",
        "## input_dim\n",
        "    ## = 입력의 크기\n",
        "\n",
        "'''model.add(SimpleRNN(hidden_units, input_shape=(timesteps, input_dim)))'''\n",
        "'''model.add(SimpleRNN(hidden_units, batch_input_shape=(batch_size, timesteps, input_dim)))'''"
      ],
      "metadata": {
        "colab": {
          "base_uri": "https://localhost:8080/",
          "height": 35
        },
        "id": "voLUvgvKMqRH",
        "outputId": "ff7d8a08-2259-474e-a129-ccbfe6930017"
      },
      "execution_count": 12,
      "outputs": [
        {
          "output_type": "execute_result",
          "data": {
            "text/plain": [
              "'model.add(SimpleRNN(hidden_units, batch_input_shape=(batch_size, timesteps, input_dim)))'"
            ],
            "application/vnd.google.colaboratory.intrinsic+json": {
              "type": "string"
            }
          },
          "metadata": {},
          "execution_count": 12
        }
      ]
    },
    {
      "cell_type": "code",
      "source": [
        "model = Sequential()\n",
        "model.add(SimpleRNN(3, input_shape=(2, 10))) ## batch_size=None\n",
        "# => model.add(SimpleRNN(3, input_length=2, input_dim=10))와 동일\n",
        "\n",
        "model.summary()"
      ],
      "metadata": {
        "colab": {
          "base_uri": "https://localhost:8080/"
        },
        "id": "6t03oK2dTvoq",
        "outputId": "b4770108-761e-4320-ccda-c7f59a55dc53"
      },
      "execution_count": 18,
      "outputs": [
        {
          "output_type": "stream",
          "name": "stdout",
          "text": [
            "Model: \"sequential_8\"\n",
            "_________________________________________________________________\n",
            " Layer (type)                Output Shape              Param #   \n",
            "=================================================================\n",
            " simple_rnn_7 (SimpleRNN)    (None, 3)                 42        \n",
            "                                                                 \n",
            "=================================================================\n",
            "Total params: 42\n",
            "Trainable params: 42\n",
            "Non-trainable params: 0\n",
            "_________________________________________________________________\n"
          ]
        }
      ]
    },
    {
      "cell_type": "code",
      "source": [
        "model = Sequential()\n",
        "model.add(SimpleRNN(3, batch_input_shape=(8, 2, 10))) ## batch_size=8\n",
        "\n",
        "model.summary()"
      ],
      "metadata": {
        "colab": {
          "base_uri": "https://localhost:8080/"
        },
        "id": "InmTivHVTuE6",
        "outputId": "d0010c25-117c-49f7-fbdd-5e3225682919"
      },
      "execution_count": 16,
      "outputs": [
        {
          "output_type": "stream",
          "name": "stdout",
          "text": [
            "Model: \"sequential_7\"\n",
            "_________________________________________________________________\n",
            " Layer (type)                Output Shape              Param #   \n",
            "=================================================================\n",
            " simple_rnn_6 (SimpleRNN)    (8, 3)                    42        \n",
            "                                                                 \n",
            "=================================================================\n",
            "Total params: 42\n",
            "Trainable params: 42\n",
            "Non-trainable params: 0\n",
            "_________________________________________________________________\n"
          ]
        }
      ]
    },
    {
      "cell_type": "code",
      "source": [
        "model = Sequential()\n",
        "model.add(SimpleRNN(3, batch_input_shape=(8, 2, 10), return_sequences=True)) ## return_sequences=True\n",
        "\n",
        "model.summary()"
      ],
      "metadata": {
        "colab": {
          "base_uri": "https://localhost:8080/"
        },
        "id": "c1XFxgjIPTGd",
        "outputId": "d91686ce-4f45-48bd-9780-f1c9c3fb6c46"
      },
      "execution_count": 14,
      "outputs": [
        {
          "output_type": "stream",
          "name": "stdout",
          "text": [
            "Model: \"sequential_6\"\n",
            "_________________________________________________________________\n",
            " Layer (type)                Output Shape              Param #   \n",
            "=================================================================\n",
            " simple_rnn_5 (SimpleRNN)    (8, 2, 3)                 42        \n",
            "                                                                 \n",
            "=================================================================\n",
            "Total params: 42\n",
            "Trainable params: 42\n",
            "Non-trainable params: 0\n",
            "_________________________________________________________________\n"
          ]
        }
      ]
    },
    {
      "cell_type": "markdown",
      "source": [
        "## DRNN"
      ],
      "metadata": {
        "id": "t0Sug9j4V8jB"
      }
    },
    {
      "cell_type": "code",
      "source": [
        "model = Sequential()\n",
        "## 첫 번째 은닉층은 다음 은닉층이 존재함\n",
        "## return_sequences=True 로 설정하여 모든 시점에 대해 은닉 상태 값을 다음 은닉층으로 전달\n",
        "model.add(SimpleRNN(5, input_shape=(10, 5), return_sequences=True))\n",
        "model.add(SimpleRNN(5, return_sequences=True))\n",
        "\n",
        "model.summary()"
      ],
      "metadata": {
        "colab": {
          "base_uri": "https://localhost:8080/"
        },
        "id": "FDafgzIQPmtd",
        "outputId": "89a4d459-fb50-486e-d741-49c326050797"
      },
      "execution_count": 23,
      "outputs": [
        {
          "output_type": "stream",
          "name": "stdout",
          "text": [
            "Model: \"sequential_11\"\n",
            "_________________________________________________________________\n",
            " Layer (type)                Output Shape              Param #   \n",
            "=================================================================\n",
            " simple_rnn_13 (SimpleRNN)   (None, 10, 5)             55        \n",
            "                                                                 \n",
            " simple_rnn_14 (SimpleRNN)   (None, 10, 5)             55        \n",
            "                                                                 \n",
            "=================================================================\n",
            "Total params: 110\n",
            "Trainable params: 110\n",
            "Non-trainable params: 0\n",
            "_________________________________________________________________\n"
          ]
        }
      ]
    },
    {
      "cell_type": "markdown",
      "source": [
        "## BRNN"
      ],
      "metadata": {
        "id": "yljgEVfMZ00k"
      }
    },
    {
      "cell_type": "markdown",
      "source": [
        "- 하나의 은닉층"
      ],
      "metadata": {
        "id": "TyoeaiWNaxfv"
      }
    },
    {
      "cell_type": "code",
      "source": [
        "from tensorflow.keras.layers import Bidirectional"
      ],
      "metadata": {
        "id": "Q80Ek5-WW9wC"
      },
      "execution_count": 24,
      "outputs": []
    },
    {
      "cell_type": "code",
      "source": [
        "hidden_units = 5\n",
        "timesteps = 10\n",
        "input_dim = 5\n",
        "\n",
        "model = Sequential()\n",
        "model.add(Bidirectional(SimpleRNN(hidden_units, return_sequences=True), \n",
        "                        input_shape=(timesteps, input_dim)))\n",
        "\n",
        "model.summary()"
      ],
      "metadata": {
        "colab": {
          "base_uri": "https://localhost:8080/"
        },
        "id": "7IQIoQBGZ5O_",
        "outputId": "8003df65-792d-438a-a6aa-d5e322387b99"
      },
      "execution_count": 28,
      "outputs": [
        {
          "output_type": "stream",
          "name": "stdout",
          "text": [
            "Model: \"sequential_15\"\n",
            "_________________________________________________________________\n",
            " Layer (type)                Output Shape              Param #   \n",
            "=================================================================\n",
            " bidirectional_3 (Bidirectio  (None, 10, 10)           110       \n",
            " nal)                                                            \n",
            "                                                                 \n",
            "=================================================================\n",
            "Total params: 110\n",
            "Trainable params: 110\n",
            "Non-trainable params: 0\n",
            "_________________________________________________________________\n"
          ]
        }
      ]
    },
    {
      "cell_type": "markdown",
      "source": [
        "- 다수의 은닉층"
      ],
      "metadata": {
        "id": "o10hKa9Say4X"
      }
    },
    {
      "cell_type": "code",
      "source": [
        "model = Sequential()\n",
        "\n",
        "model.add(Bidirectional(SimpleRNN(hidden_units, return_sequences=True), \n",
        "                        input_shape=(timesteps, input_dim))) ## 첫 번재 은닉층 input_shape 존재\n",
        "model.add(Bidirectional(SimpleRNN(hidden_units, return_sequences=True)))\n",
        "model.add(Bidirectional(SimpleRNN(hidden_units, return_sequences=True)))\n",
        "model.add(Bidirectional(SimpleRNN(hidden_units, return_sequences=True)))\n",
        "\n",
        "model.summary()"
      ],
      "metadata": {
        "colab": {
          "base_uri": "https://localhost:8080/"
        },
        "id": "9jTOTrqvad7h",
        "outputId": "e022a05a-e62a-4389-b3d2-d824795e8589"
      },
      "execution_count": 30,
      "outputs": [
        {
          "output_type": "stream",
          "name": "stdout",
          "text": [
            "Model: \"sequential_17\"\n",
            "_________________________________________________________________\n",
            " Layer (type)                Output Shape              Param #   \n",
            "=================================================================\n",
            " bidirectional_8 (Bidirectio  (None, 10, 10)           110       \n",
            " nal)                                                            \n",
            "                                                                 \n",
            " bidirectional_9 (Bidirectio  (None, 10, 10)           160       \n",
            " nal)                                                            \n",
            "                                                                 \n",
            " bidirectional_10 (Bidirecti  (None, 10, 10)           160       \n",
            " onal)                                                           \n",
            "                                                                 \n",
            " bidirectional_11 (Bidirecti  (None, 10, 10)           160       \n",
            " onal)                                                           \n",
            "                                                                 \n",
            "=================================================================\n",
            "Total params: 590\n",
            "Trainable params: 590\n",
            "Non-trainable params: 0\n",
            "_________________________________________________________________\n"
          ]
        }
      ]
    },
    {
      "cell_type": "code",
      "source": [
        ""
      ],
      "metadata": {
        "id": "uLgKDft6bCjX"
      },
      "execution_count": null,
      "outputs": []
    }
  ]
}