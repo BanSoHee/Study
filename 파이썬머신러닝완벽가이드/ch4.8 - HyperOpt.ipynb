{
  "nbformat": 4,
  "nbformat_minor": 0,
  "metadata": {
    "colab": {
      "name": "ch4.8 - 베이지안 최적화 기반의 하이퍼 파라미터 튜닝 방식 (HyperOpt).ipynb",
      "provenance": [],
      "collapsed_sections": []
    },
    "kernelspec": {
      "name": "python3",
      "display_name": "Python 3"
    },
    "language_info": {
      "name": "python"
    }
  },
  "cells": [
    {
      "cell_type": "code",
      "execution_count": null,
      "metadata": {
        "colab": {
          "base_uri": "https://localhost:8080/"
        },
        "id": "GvXtVf49gcH6",
        "outputId": "2b6498d9-7fd0-41dd-bf48-58c81d2b12a4"
      },
      "outputs": [
        {
          "output_type": "stream",
          "name": "stdout",
          "text": [
            "Looking in indexes: https://pypi.org/simple, https://us-python.pkg.dev/colab-wheels/public/simple/\n",
            "Requirement already satisfied: hyperopt in /usr/local/lib/python3.7/dist-packages (0.1.2)\n",
            "Requirement already satisfied: numpy in /usr/local/lib/python3.7/dist-packages (from hyperopt) (1.21.6)\n",
            "Requirement already satisfied: networkx in /usr/local/lib/python3.7/dist-packages (from hyperopt) (2.6.3)\n",
            "Requirement already satisfied: pymongo in /usr/local/lib/python3.7/dist-packages (from hyperopt) (4.1.1)\n",
            "Requirement already satisfied: scipy in /usr/local/lib/python3.7/dist-packages (from hyperopt) (1.4.1)\n",
            "Requirement already satisfied: tqdm in /usr/local/lib/python3.7/dist-packages (from hyperopt) (4.64.0)\n",
            "Requirement already satisfied: six in /usr/local/lib/python3.7/dist-packages (from hyperopt) (1.15.0)\n",
            "Requirement already satisfied: future in /usr/local/lib/python3.7/dist-packages (from hyperopt) (0.16.0)\n"
          ]
        }
      ],
      "source": [
        "!pip install hyperopt"
      ]
    },
    {
      "cell_type": "markdown",
      "source": [
        "## HyperOpt 사용법 익히기"
      ],
      "metadata": {
        "id": "dWCpshgToZmB"
      }
    },
    {
      "cell_type": "markdown",
      "source": [
        "1. 검색 공간 설정\n",
        "2. 목적 함수 절정\n",
        "3. fmin() 함수를 통해 베이지안 최적화 기법에 기반한 최적의 입력 값 찾기"
      ],
      "metadata": {
        "id": "90U2M_utu7ig"
      }
    },
    {
      "cell_type": "markdown",
      "source": [
        "- **검색 공간** 설정\n",
        "- hp 모듈로 입력 변수 및 검색 범위 설정"
      ],
      "metadata": {
        "id": "aVtgvP0dn5DK"
      }
    },
    {
      "cell_type": "code",
      "source": [
        "## hp 모듈을 사용하여 입력 변수명 및 검색 공간 설정\n",
        "from hyperopt import hp\n",
        "\n",
        "search_space = {'x':hp.quniform('x', -10, 10, 1), ## dictionary 형태\n",
        "                'y':hp.quniform('y', -15, 15, 1)}"
      ],
      "metadata": {
        "id": "FB3QrnjfmRMc"
      },
      "execution_count": null,
      "outputs": []
    },
    {
      "cell_type": "markdown",
      "source": [
        "- **목적 함수** 생성"
      ],
      "metadata": {
        "id": "yHWAqFbgoWDq"
      }
    },
    {
      "cell_type": "code",
      "source": [
        "from hyperopt import STATUS_OK\n",
        "\n",
        "## 목적 함수 생성\n",
        "## 변수, 검색 공간을 입력으로 받고, 특정 값을 반환하는 구조\n",
        "def objective_func(search_space):\n",
        "  \n",
        "  x = search_space['x']\n",
        "  y = search_space['y']\n",
        "  retval = x ** 2 - 20 * y\n",
        "\n",
        "  return retval"
      ],
      "metadata": {
        "id": "wVhIx_VYoPSS"
      },
      "execution_count": null,
      "outputs": []
    },
    {
      "cell_type": "markdown",
      "source": [
        "- 목적 함수의 반환 값이 최소가 될 수 있는 최적의 입력 값을 베이지안 최적화 기법에 기반하여 찾아야 함\n",
        "- HyperOpt는 이러한 기능을 `fmin()` 함수를 통해 제공함"
      ],
      "metadata": {
        "id": "s-NpY_mmqQpp"
      }
    },
    {
      "cell_type": "code",
      "source": [
        "from hyperopt import fmin, tpe, Trials\n",
        "import numpy as np\n",
        "\n",
        "## 입력 결과를 저장할 객체 생성\n",
        "trial_val = Trials()\n",
        "\n",
        "## 목적 함수의 최솟값을 반환하는 최적 입력 변수를 5번 시도로 찾아냄\n",
        "## fmin() 함수는 아래의 주요 인자를 가짐\n",
        "best_01 = fmin(fn=objective_func,    ## 목적 함수\n",
        "               space=search_space,   ## 검색 공간\n",
        "               algo=tpe.suggest,     ## 베이지안 최적화 적용 알고리즘\n",
        "               max_evals=5,          ## 입력 시도 횟수\n",
        "               trials=trial_val,     ## 시도한 입력 값 및 입력 결과 저장\n",
        "               #rstate=np.random.default_rng(seed=0)   ## fmin()을 시도할 때마다 동일한 결과를 가질 수 있도록 설정하는 랜덤 시드\n",
        "               )"
      ],
      "metadata": {
        "colab": {
          "base_uri": "https://localhost:8080/"
        },
        "id": "L5HxYndap5cS",
        "outputId": "34b4d179-a8aa-4dc6-e536-09e5bf74e226"
      },
      "execution_count": null,
      "outputs": [
        {
          "output_type": "stream",
          "name": "stdout",
          "text": [
            "100%|██████████| 5/5 [00:00<00:00, 313.89it/s, best loss: -271.0]\n"
          ]
        }
      ]
    },
    {
      "cell_type": "code",
      "source": [
        "print('best:', best_01)"
      ],
      "metadata": {
        "colab": {
          "base_uri": "https://localhost:8080/"
        },
        "id": "9pNnzpRWr9nx",
        "outputId": "010ad20c-0958-4656-8e08-c7ff34e1c015"
      },
      "execution_count": null,
      "outputs": [
        {
          "output_type": "stream",
          "name": "stdout",
          "text": [
            "best: {'x': 3.0, 'y': 14.0}\n"
          ]
        }
      ]
    },
    {
      "cell_type": "code",
      "source": [
        "from hyperopt import fmin, tpe, Trials\n",
        "import numpy as np\n",
        "\n",
        "## 입력 결과를 저장할 객체 생성\n",
        "trial_val = Trials()\n",
        "\n",
        "## 목적 함수의 최솟값을 반환하는 최적 입력 변수를 5번 시도로 찾아냄\n",
        "## fmin() 함수는 아래의 주요 인자를 가짐\n",
        "best_02 = fmin(fn=objective_func,    ## 목적 함수\n",
        "               space=search_space,   ## 검색 공간\n",
        "               algo=tpe.suggest,     ## 베이지안 최적화 적용 알고리즘\n",
        "               max_evals=20,         ## 입력 시도 횟수\n",
        "               trials=trial_val,     ## 시도한 입력 값 및 입력 결과 저장\n",
        "               #rstate=np.random.default_rng(seed=0)   ## fmin()을 시도할 때마다 동일한 결과를 가질 수 있도록 설정하는 랜덤 시드\n",
        "               )"
      ],
      "metadata": {
        "colab": {
          "base_uri": "https://localhost:8080/"
        },
        "id": "J-5pO2CducG5",
        "outputId": "4c5dfed9-9bb0-4e71-f1be-8386f0132b5a"
      },
      "execution_count": null,
      "outputs": [
        {
          "output_type": "stream",
          "name": "stdout",
          "text": [
            "100%|██████████| 20/20 [00:00<00:00, 595.91it/s, best loss: -259.0]\n"
          ]
        }
      ]
    },
    {
      "cell_type": "code",
      "source": [
        "print('best:', best_02)"
      ],
      "metadata": {
        "colab": {
          "base_uri": "https://localhost:8080/"
        },
        "id": "WNI1TReoulaX",
        "outputId": "dca6cc4e-99db-42d3-a9a8-9a9309baa67b"
      },
      "execution_count": null,
      "outputs": [
        {
          "output_type": "stream",
          "name": "stdout",
          "text": [
            "best: {'x': -1.0, 'y': 13.0}\n"
          ]
        }
      ]
    },
    {
      "cell_type": "markdown",
      "source": [
        "- trial_val의 results 및 vals 확인"
      ],
      "metadata": {
        "id": "jAIuThcWzXHE"
      }
    },
    {
      "cell_type": "code",
      "source": [
        "trial_val.results"
      ],
      "metadata": {
        "colab": {
          "base_uri": "https://localhost:8080/"
        },
        "id": "T_r-Dk6jumVX",
        "outputId": "7bf22f1a-e0cb-4fe3-a9f4-d6c7e960ff70"
      },
      "execution_count": null,
      "outputs": [
        {
          "output_type": "execute_result",
          "data": {
            "text/plain": [
              "[{'loss': 161.0, 'status': 'ok'},\n",
              " {'loss': -251.0, 'status': 'ok'},\n",
              " {'loss': -259.0, 'status': 'ok'},\n",
              " {'loss': -215.0, 'status': 'ok'},\n",
              " {'loss': -95.0, 'status': 'ok'},\n",
              " {'loss': -180.0, 'status': 'ok'},\n",
              " {'loss': 241.0, 'status': 'ok'},\n",
              " {'loss': -180.0, 'status': 'ok'},\n",
              " {'loss': 305.0, 'status': 'ok'},\n",
              " {'loss': -171.0, 'status': 'ok'},\n",
              " {'loss': 105.0, 'status': 'ok'},\n",
              " {'loss': 209.0, 'status': 'ok'},\n",
              " {'loss': 9.0, 'status': 'ok'},\n",
              " {'loss': 164.0, 'status': 'ok'},\n",
              " {'loss': -124.0, 'status': 'ok'},\n",
              " {'loss': 21.0, 'status': 'ok'},\n",
              " {'loss': 284.0, 'status': 'ok'},\n",
              " {'loss': -31.0, 'status': 'ok'},\n",
              " {'loss': 241.0, 'status': 'ok'},\n",
              " {'loss': 261.0, 'status': 'ok'}]"
            ]
          },
          "metadata": {},
          "execution_count": 24
        }
      ]
    },
    {
      "cell_type": "code",
      "source": [
        "trial_val.vals"
      ],
      "metadata": {
        "colab": {
          "base_uri": "https://localhost:8080/"
        },
        "id": "nhp7vkxYzQS2",
        "outputId": "3035bdfe-96e8-42a1-e770-ad451fb02a67"
      },
      "execution_count": null,
      "outputs": [
        {
          "output_type": "execute_result",
          "data": {
            "text/plain": [
              "{'x': [9.0,\n",
              "  -3.0,\n",
              "  -1.0,\n",
              "  -5.0,\n",
              "  5.0,\n",
              "  -10.0,\n",
              "  -1.0,\n",
              "  -0.0,\n",
              "  -5.0,\n",
              "  3.0,\n",
              "  -5.0,\n",
              "  -7.0,\n",
              "  7.0,\n",
              "  -8.0,\n",
              "  -4.0,\n",
              "  9.0,\n",
              "  -8.0,\n",
              "  -7.0,\n",
              "  1.0,\n",
              "  1.0],\n",
              " 'y': [-4.0,\n",
              "  13.0,\n",
              "  13.0,\n",
              "  12.0,\n",
              "  6.0,\n",
              "  14.0,\n",
              "  -12.0,\n",
              "  9.0,\n",
              "  -14.0,\n",
              "  9.0,\n",
              "  -4.0,\n",
              "  -8.0,\n",
              "  2.0,\n",
              "  -5.0,\n",
              "  7.0,\n",
              "  3.0,\n",
              "  -11.0,\n",
              "  4.0,\n",
              "  -12.0,\n",
              "  -13.0]}"
            ]
          },
          "metadata": {},
          "execution_count": 25
        }
      ]
    },
    {
      "cell_type": "code",
      "source": [
        "## trial_val을 dataframe 형태로 변환하여 확인\n",
        "import pandas as pd\n",
        "\n",
        "losses = [loss_dict['loss'] for loss_dict in trial_val.results]\n",
        "\n",
        "result_df = pd.DataFrame(\n",
        "    {\n",
        "        'x':trial_val.vals['x'],\n",
        "        'y':trial_val.vals['y'],\n",
        "        'losses':losses\n",
        "     }\n",
        ")\n",
        "\n",
        "result_df.head(5)"
      ],
      "metadata": {
        "colab": {
          "base_uri": "https://localhost:8080/",
          "height": 206
        },
        "id": "YAZ4XRf4zi-n",
        "outputId": "de9873f5-b4ce-4890-bdcb-8bcd4e5b1b65"
      },
      "execution_count": null,
      "outputs": [
        {
          "output_type": "execute_result",
          "data": {
            "text/plain": [
              "     x     y  losses\n",
              "0  9.0  -4.0   161.0\n",
              "1 -3.0  13.0  -251.0\n",
              "2 -1.0  13.0  -259.0\n",
              "3 -5.0  12.0  -215.0\n",
              "4  5.0   6.0   -95.0"
            ],
            "text/html": [
              "\n",
              "  <div id=\"df-44ea78fe-5525-45e4-8d25-848bbcd354d5\">\n",
              "    <div class=\"colab-df-container\">\n",
              "      <div>\n",
              "<style scoped>\n",
              "    .dataframe tbody tr th:only-of-type {\n",
              "        vertical-align: middle;\n",
              "    }\n",
              "\n",
              "    .dataframe tbody tr th {\n",
              "        vertical-align: top;\n",
              "    }\n",
              "\n",
              "    .dataframe thead th {\n",
              "        text-align: right;\n",
              "    }\n",
              "</style>\n",
              "<table border=\"1\" class=\"dataframe\">\n",
              "  <thead>\n",
              "    <tr style=\"text-align: right;\">\n",
              "      <th></th>\n",
              "      <th>x</th>\n",
              "      <th>y</th>\n",
              "      <th>losses</th>\n",
              "    </tr>\n",
              "  </thead>\n",
              "  <tbody>\n",
              "    <tr>\n",
              "      <th>0</th>\n",
              "      <td>9.0</td>\n",
              "      <td>-4.0</td>\n",
              "      <td>161.0</td>\n",
              "    </tr>\n",
              "    <tr>\n",
              "      <th>1</th>\n",
              "      <td>-3.0</td>\n",
              "      <td>13.0</td>\n",
              "      <td>-251.0</td>\n",
              "    </tr>\n",
              "    <tr>\n",
              "      <th>2</th>\n",
              "      <td>-1.0</td>\n",
              "      <td>13.0</td>\n",
              "      <td>-259.0</td>\n",
              "    </tr>\n",
              "    <tr>\n",
              "      <th>3</th>\n",
              "      <td>-5.0</td>\n",
              "      <td>12.0</td>\n",
              "      <td>-215.0</td>\n",
              "    </tr>\n",
              "    <tr>\n",
              "      <th>4</th>\n",
              "      <td>5.0</td>\n",
              "      <td>6.0</td>\n",
              "      <td>-95.0</td>\n",
              "    </tr>\n",
              "  </tbody>\n",
              "</table>\n",
              "</div>\n",
              "      <button class=\"colab-df-convert\" onclick=\"convertToInteractive('df-44ea78fe-5525-45e4-8d25-848bbcd354d5')\"\n",
              "              title=\"Convert this dataframe to an interactive table.\"\n",
              "              style=\"display:none;\">\n",
              "        \n",
              "  <svg xmlns=\"http://www.w3.org/2000/svg\" height=\"24px\"viewBox=\"0 0 24 24\"\n",
              "       width=\"24px\">\n",
              "    <path d=\"M0 0h24v24H0V0z\" fill=\"none\"/>\n",
              "    <path d=\"M18.56 5.44l.94 2.06.94-2.06 2.06-.94-2.06-.94-.94-2.06-.94 2.06-2.06.94zm-11 1L8.5 8.5l.94-2.06 2.06-.94-2.06-.94L8.5 2.5l-.94 2.06-2.06.94zm10 10l.94 2.06.94-2.06 2.06-.94-2.06-.94-.94-2.06-.94 2.06-2.06.94z\"/><path d=\"M17.41 7.96l-1.37-1.37c-.4-.4-.92-.59-1.43-.59-.52 0-1.04.2-1.43.59L10.3 9.45l-7.72 7.72c-.78.78-.78 2.05 0 2.83L4 21.41c.39.39.9.59 1.41.59.51 0 1.02-.2 1.41-.59l7.78-7.78 2.81-2.81c.8-.78.8-2.07 0-2.86zM5.41 20L4 18.59l7.72-7.72 1.47 1.35L5.41 20z\"/>\n",
              "  </svg>\n",
              "      </button>\n",
              "      \n",
              "  <style>\n",
              "    .colab-df-container {\n",
              "      display:flex;\n",
              "      flex-wrap:wrap;\n",
              "      gap: 12px;\n",
              "    }\n",
              "\n",
              "    .colab-df-convert {\n",
              "      background-color: #E8F0FE;\n",
              "      border: none;\n",
              "      border-radius: 50%;\n",
              "      cursor: pointer;\n",
              "      display: none;\n",
              "      fill: #1967D2;\n",
              "      height: 32px;\n",
              "      padding: 0 0 0 0;\n",
              "      width: 32px;\n",
              "    }\n",
              "\n",
              "    .colab-df-convert:hover {\n",
              "      background-color: #E2EBFA;\n",
              "      box-shadow: 0px 1px 2px rgba(60, 64, 67, 0.3), 0px 1px 3px 1px rgba(60, 64, 67, 0.15);\n",
              "      fill: #174EA6;\n",
              "    }\n",
              "\n",
              "    [theme=dark] .colab-df-convert {\n",
              "      background-color: #3B4455;\n",
              "      fill: #D2E3FC;\n",
              "    }\n",
              "\n",
              "    [theme=dark] .colab-df-convert:hover {\n",
              "      background-color: #434B5C;\n",
              "      box-shadow: 0px 1px 3px 1px rgba(0, 0, 0, 0.15);\n",
              "      filter: drop-shadow(0px 1px 2px rgba(0, 0, 0, 0.3));\n",
              "      fill: #FFFFFF;\n",
              "    }\n",
              "  </style>\n",
              "\n",
              "      <script>\n",
              "        const buttonEl =\n",
              "          document.querySelector('#df-44ea78fe-5525-45e4-8d25-848bbcd354d5 button.colab-df-convert');\n",
              "        buttonEl.style.display =\n",
              "          google.colab.kernel.accessAllowed ? 'block' : 'none';\n",
              "\n",
              "        async function convertToInteractive(key) {\n",
              "          const element = document.querySelector('#df-44ea78fe-5525-45e4-8d25-848bbcd354d5');\n",
              "          const dataTable =\n",
              "            await google.colab.kernel.invokeFunction('convertToInteractive',\n",
              "                                                     [key], {});\n",
              "          if (!dataTable) return;\n",
              "\n",
              "          const docLinkHtml = 'Like what you see? Visit the ' +\n",
              "            '<a target=\"_blank\" href=https://colab.research.google.com/notebooks/data_table.ipynb>data table notebook</a>'\n",
              "            + ' to learn more about interactive tables.';\n",
              "          element.innerHTML = '';\n",
              "          dataTable['output_type'] = 'display_data';\n",
              "          await google.colab.output.renderOutput(dataTable, element);\n",
              "          const docLink = document.createElement('div');\n",
              "          docLink.innerHTML = docLinkHtml;\n",
              "          element.appendChild(docLink);\n",
              "        }\n",
              "      </script>\n",
              "    </div>\n",
              "  </div>\n",
              "  "
            ]
          },
          "metadata": {},
          "execution_count": 27
        }
      ]
    },
    {
      "cell_type": "code",
      "source": [
        "result_df.plot()"
      ],
      "metadata": {
        "colab": {
          "base_uri": "https://localhost:8080/",
          "height": 284
        },
        "id": "eRjUr7UA0Tdt",
        "outputId": "ca8957b8-0867-4fa0-d055-c72dd55cb902"
      },
      "execution_count": null,
      "outputs": [
        {
          "output_type": "execute_result",
          "data": {
            "text/plain": [
              "<matplotlib.axes._subplots.AxesSubplot at 0x7f8de7a12e10>"
            ]
          },
          "metadata": {},
          "execution_count": 28
        },
        {
          "output_type": "display_data",
          "data": {
            "text/plain": [
              "<Figure size 432x288 with 1 Axes>"
            ],
            "image/png": "[encoded data removed]"
          },
          "metadata": {
            "needs_background": "light"
          }
        }
      ]
    },
    {
      "cell_type": "markdown",
      "source": [
        "## HyperOpt를 이용한 XGBoost 하이퍼 파라미터 최적화"
      ],
      "metadata": {
        "id": "V7nGc5MP0mU8"
      }
    },
    {
      "cell_type": "markdown",
      "source": [
        "- HyperOpt 사용 시 주의사항\n",
        "\n",
        "  - HyperOpt는 입력 값과 반환 값이 모두 실수형이기 때문에 정수형 하이퍼 파라미터 입력 시 형변환 필요\n",
        "  - HyperOpt는 목적 함수의 최솟값을 반환할 수 있도록 최적화하는 것이기 때문에 성능 값이 클수록 좋은 성능 지표일 경우 -1을 곱해주어야 함"
      ],
      "metadata": {
        "id": "50_HRa9T2qer"
      }
    },
    {
      "cell_type": "code",
      "source": [
        "from sklearn.datasets import load_breast_cancer\n",
        "from sklearn.model_selection import train_test_split\n",
        "\n",
        "import pandas as pd\n",
        "import numpy as np"
      ],
      "metadata": {
        "id": "w6jDwCRZ3QXF"
      },
      "execution_count": 2,
      "outputs": []
    },
    {
      "cell_type": "markdown",
      "source": [
        "- Data"
      ],
      "metadata": {
        "id": "BXKSYp2-3DI7"
      }
    },
    {
      "cell_type": "code",
      "source": [
        "## 유방암 데이터셋 로드\n",
        "dataset = load_breast_cancer()\n",
        "features = dataset.data\n",
        "labels = dataset.target"
      ],
      "metadata": {
        "id": "VRsfTYqk0ZRs"
      },
      "execution_count": 3,
      "outputs": []
    },
    {
      "cell_type": "code",
      "source": [
        "## 데이터를 Pandas DataFrame으로 로드\n",
        "cancer_df = pd.DataFrame(data=features, columns=dataset.feature_names)\n",
        "cancer_df['target'] = labels\n",
        "cancer_df.head(5)"
      ],
      "metadata": {
        "colab": {
          "base_uri": "https://localhost:8080/",
          "height": 314
        },
        "id": "BImqwWUV3TkE",
        "outputId": "c737867c-f9a4-4491-824a-0e6dfc7ca5d2"
      },
      "execution_count": 4,
      "outputs": [
        {
          "output_type": "execute_result",
          "data": {
            "text/plain": [
              "   mean radius  mean texture  mean perimeter  mean area  mean smoothness  \\\n",
              "0        17.99         10.38          122.80     1001.0          0.11840   \n",
              "1        20.57         17.77          132.90     1326.0          0.08474   \n",
              "2        19.69         21.25          130.00     1203.0          0.10960   \n",
              "3        11.42         20.38           77.58      386.1          0.14250   \n",
              "4        20.29         14.34          135.10     1297.0          0.10030   \n",
              "\n",
              "   mean compactness  mean concavity  mean concave points  mean symmetry  \\\n",
              "0           0.27760          0.3001              0.14710         0.2419   \n",
              "1           0.07864          0.0869              0.07017         0.1812   \n",
              "2           0.15990          0.1974              0.12790         0.2069   \n",
              "3           0.28390          0.2414              0.10520         0.2597   \n",
              "4           0.13280          0.1980              0.10430         0.1809   \n",
              "\n",
              "   mean fractal dimension  ...  worst texture  worst perimeter  worst area  \\\n",
              "0                 0.07871  ...          17.33           184.60      2019.0   \n",
              "1                 0.05667  ...          23.41           158.80      1956.0   \n",
              "2                 0.05999  ...          25.53           152.50      1709.0   \n",
              "3                 0.09744  ...          26.50            98.87       567.7   \n",
              "4                 0.05883  ...          16.67           152.20      1575.0   \n",
              "\n",
              "   worst smoothness  worst compactness  worst concavity  worst concave points  \\\n",
              "0            0.1622             0.6656           0.7119                0.2654   \n",
              "1            0.1238             0.1866           0.2416                0.1860   \n",
              "2            0.1444             0.4245           0.4504                0.2430   \n",
              "3            0.2098             0.8663           0.6869                0.2575   \n",
              "4            0.1374             0.2050           0.4000                0.1625   \n",
              "\n",
              "   worst symmetry  worst fractal dimension  target  \n",
              "0          0.4601                  0.11890       0  \n",
              "1          0.2750                  0.08902       0  \n",
              "2          0.3613                  0.08758       0  \n",
              "3          0.6638                  0.17300       0  \n",
              "4          0.2364                  0.07678       0  \n",
              "\n",
              "[5 rows x 31 columns]"
            ],
            "text/html": [
              "\n",
              "  <div id=\"df-7daa257f-6e4f-4751-bfad-f3ec2fd432f5\">\n",
              "    <div class=\"colab-df-container\">\n",
              "      <div>\n",
              "<style scoped>\n",
              "    .dataframe tbody tr th:only-of-type {\n",
              "        vertical-align: middle;\n",
              "    }\n",
              "\n",
              "    .dataframe tbody tr th {\n",
              "        vertical-align: top;\n",
              "    }\n",
              "\n",
              "    .dataframe thead th {\n",
              "        text-align: right;\n",
              "    }\n",
              "</style>\n",
              "<table border=\"1\" class=\"dataframe\">\n",
              "  <thead>\n",
              "    <tr style=\"text-align: right;\">\n",
              "      <th></th>\n",
              "      <th>mean radius</th>\n",
              "      <th>mean texture</th>\n",
              "      <th>mean perimeter</th>\n",
              "      <th>mean area</th>\n",
              "      <th>mean smoothness</th>\n",
              "      <th>mean compactness</th>\n",
              "      <th>mean concavity</th>\n",
              "      <th>mean concave points</th>\n",
              "      <th>mean symmetry</th>\n",
              "      <th>mean fractal dimension</th>\n",
              "      <th>...</th>\n",
              "      <th>worst texture</th>\n",
              "      <th>worst perimeter</th>\n",
              "      <th>worst area</th>\n",
              "      <th>worst smoothness</th>\n",
              "      <th>worst compactness</th>\n",
              "      <th>worst concavity</th>\n",
              "      <th>worst concave points</th>\n",
              "      <th>worst symmetry</th>\n",
              "      <th>worst fractal dimension</th>\n",
              "      <th>target</th>\n",
              "    </tr>\n",
              "  </thead>\n",
              "  <tbody>\n",
              "    <tr>\n",
              "      <th>0</th>\n",
              "      <td>17.99</td>\n",
              "      <td>10.38</td>\n",
              "      <td>122.80</td>\n",
              "      <td>1001.0</td>\n",
              "      <td>0.11840</td>\n",
              "      <td>0.27760</td>\n",
              "      <td>0.3001</td>\n",
              "      <td>0.14710</td>\n",
              "      <td>0.2419</td>\n",
              "      <td>0.07871</td>\n",
              "      <td>...</td>\n",
              "      <td>17.33</td>\n",
              "      <td>184.60</td>\n",
              "      <td>2019.0</td>\n",
              "      <td>0.1622</td>\n",
              "      <td>0.6656</td>\n",
              "      <td>0.7119</td>\n",
              "      <td>0.2654</td>\n",
              "      <td>0.4601</td>\n",
              "      <td>0.11890</td>\n",
              "      <td>0</td>\n",
              "    </tr>\n",
              "    <tr>\n",
              "      <th>1</th>\n",
              "      <td>20.57</td>\n",
              "      <td>17.77</td>\n",
              "      <td>132.90</td>\n",
              "      <td>1326.0</td>\n",
              "      <td>0.08474</td>\n",
              "      <td>0.07864</td>\n",
              "      <td>0.0869</td>\n",
              "      <td>0.07017</td>\n",
              "      <td>0.1812</td>\n",
              "      <td>0.05667</td>\n",
              "      <td>...</td>\n",
              "      <td>23.41</td>\n",
              "      <td>158.80</td>\n",
              "      <td>1956.0</td>\n",
              "      <td>0.1238</td>\n",
              "      <td>0.1866</td>\n",
              "      <td>0.2416</td>\n",
              "      <td>0.1860</td>\n",
              "      <td>0.2750</td>\n",
              "      <td>0.08902</td>\n",
              "      <td>0</td>\n",
              "    </tr>\n",
              "    <tr>\n",
              "      <th>2</th>\n",
              "      <td>19.69</td>\n",
              "      <td>21.25</td>\n",
              "      <td>130.00</td>\n",
              "      <td>1203.0</td>\n",
              "      <td>0.10960</td>\n",
              "      <td>0.15990</td>\n",
              "      <td>0.1974</td>\n",
              "      <td>0.12790</td>\n",
              "      <td>0.2069</td>\n",
              "      <td>0.05999</td>\n",
              "      <td>...</td>\n",
              "      <td>25.53</td>\n",
              "      <td>152.50</td>\n",
              "      <td>1709.0</td>\n",
              "      <td>0.1444</td>\n",
              "      <td>0.4245</td>\n",
              "      <td>0.4504</td>\n",
              "      <td>0.2430</td>\n",
              "      <td>0.3613</td>\n",
              "      <td>0.08758</td>\n",
              "      <td>0</td>\n",
              "    </tr>\n",
              "    <tr>\n",
              "      <th>3</th>\n",
              "      <td>11.42</td>\n",
              "      <td>20.38</td>\n",
              "      <td>77.58</td>\n",
              "      <td>386.1</td>\n",
              "      <td>0.14250</td>\n",
              "      <td>0.28390</td>\n",
              "      <td>0.2414</td>\n",
              "      <td>0.10520</td>\n",
              "      <td>0.2597</td>\n",
              "      <td>0.09744</td>\n",
              "      <td>...</td>\n",
              "      <td>26.50</td>\n",
              "      <td>98.87</td>\n",
              "      <td>567.7</td>\n",
              "      <td>0.2098</td>\n",
              "      <td>0.8663</td>\n",
              "      <td>0.6869</td>\n",
              "      <td>0.2575</td>\n",
              "      <td>0.6638</td>\n",
              "      <td>0.17300</td>\n",
              "      <td>0</td>\n",
              "    </tr>\n",
              "    <tr>\n",
              "      <th>4</th>\n",
              "      <td>20.29</td>\n",
              "      <td>14.34</td>\n",
              "      <td>135.10</td>\n",
              "      <td>1297.0</td>\n",
              "      <td>0.10030</td>\n",
              "      <td>0.13280</td>\n",
              "      <td>0.1980</td>\n",
              "      <td>0.10430</td>\n",
              "      <td>0.1809</td>\n",
              "      <td>0.05883</td>\n",
              "      <td>...</td>\n",
              "      <td>16.67</td>\n",
              "      <td>152.20</td>\n",
              "      <td>1575.0</td>\n",
              "      <td>0.1374</td>\n",
              "      <td>0.2050</td>\n",
              "      <td>0.4000</td>\n",
              "      <td>0.1625</td>\n",
              "      <td>0.2364</td>\n",
              "      <td>0.07678</td>\n",
              "      <td>0</td>\n",
              "    </tr>\n",
              "  </tbody>\n",
              "</table>\n",
              "<p>5 rows × 31 columns</p>\n",
              "</div>\n",
              "      <button class=\"colab-df-convert\" onclick=\"convertToInteractive('df-7daa257f-6e4f-4751-bfad-f3ec2fd432f5')\"\n",
              "              title=\"Convert this dataframe to an interactive table.\"\n",
              "              style=\"display:none;\">\n",
              "        \n",
              "  <svg xmlns=\"http://www.w3.org/2000/svg\" height=\"24px\"viewBox=\"0 0 24 24\"\n",
              "       width=\"24px\">\n",
              "    <path d=\"M0 0h24v24H0V0z\" fill=\"none\"/>\n",
              "    <path d=\"M18.56 5.44l.94 2.06.94-2.06 2.06-.94-2.06-.94-.94-2.06-.94 2.06-2.06.94zm-11 1L8.5 8.5l.94-2.06 2.06-.94-2.06-.94L8.5 2.5l-.94 2.06-2.06.94zm10 10l.94 2.06.94-2.06 2.06-.94-2.06-.94-.94-2.06-.94 2.06-2.06.94z\"/><path d=\"M17.41 7.96l-1.37-1.37c-.4-.4-.92-.59-1.43-.59-.52 0-1.04.2-1.43.59L10.3 9.45l-7.72 7.72c-.78.78-.78 2.05 0 2.83L4 21.41c.39.39.9.59 1.41.59.51 0 1.02-.2 1.41-.59l7.78-7.78 2.81-2.81c.8-.78.8-2.07 0-2.86zM5.41 20L4 18.59l7.72-7.72 1.47 1.35L5.41 20z\"/>\n",
              "  </svg>\n",
              "      </button>\n",
              "      \n",
              "  <style>\n",
              "    .colab-df-container {\n",
              "      display:flex;\n",
              "      flex-wrap:wrap;\n",
              "      gap: 12px;\n",
              "    }\n",
              "\n",
              "    .colab-df-convert {\n",
              "      background-color: #E8F0FE;\n",
              "      border: none;\n",
              "      border-radius: 50%;\n",
              "      cursor: pointer;\n",
              "      display: none;\n",
              "      fill: #1967D2;\n",
              "      height: 32px;\n",
              "      padding: 0 0 0 0;\n",
              "      width: 32px;\n",
              "    }\n",
              "\n",
              "    .colab-df-convert:hover {\n",
              "      background-color: #E2EBFA;\n",
              "      box-shadow: 0px 1px 2px rgba(60, 64, 67, 0.3), 0px 1px 3px 1px rgba(60, 64, 67, 0.15);\n",
              "      fill: #174EA6;\n",
              "    }\n",
              "\n",
              "    [theme=dark] .colab-df-convert {\n",
              "      background-color: #3B4455;\n",
              "      fill: #D2E3FC;\n",
              "    }\n",
              "\n",
              "    [theme=dark] .colab-df-convert:hover {\n",
              "      background-color: #434B5C;\n",
              "      box-shadow: 0px 1px 3px 1px rgba(0, 0, 0, 0.15);\n",
              "      filter: drop-shadow(0px 1px 2px rgba(0, 0, 0, 0.3));\n",
              "      fill: #FFFFFF;\n",
              "    }\n",
              "  </style>\n",
              "\n",
              "      <script>\n",
              "        const buttonEl =\n",
              "          document.querySelector('#df-7daa257f-6e4f-4751-bfad-f3ec2fd432f5 button.colab-df-convert');\n",
              "        buttonEl.style.display =\n",
              "          google.colab.kernel.accessAllowed ? 'block' : 'none';\n",
              "\n",
              "        async function convertToInteractive(key) {\n",
              "          const element = document.querySelector('#df-7daa257f-6e4f-4751-bfad-f3ec2fd432f5');\n",
              "          const dataTable =\n",
              "            await google.colab.kernel.invokeFunction('convertToInteractive',\n",
              "                                                     [key], {});\n",
              "          if (!dataTable) return;\n",
              "\n",
              "          const docLinkHtml = 'Like what you see? Visit the ' +\n",
              "            '<a target=\"_blank\" href=https://colab.research.google.com/notebooks/data_table.ipynb>data table notebook</a>'\n",
              "            + ' to learn more about interactive tables.';\n",
              "          element.innerHTML = '';\n",
              "          dataTable['output_type'] = 'display_data';\n",
              "          await google.colab.output.renderOutput(dataTable, element);\n",
              "          const docLink = document.createElement('div');\n",
              "          docLink.innerHTML = docLinkHtml;\n",
              "          element.appendChild(docLink);\n",
              "        }\n",
              "      </script>\n",
              "    </div>\n",
              "  </div>\n",
              "  "
            ]
          },
          "metadata": {},
          "execution_count": 4
        }
      ]
    },
    {
      "cell_type": "code",
      "source": [
        "## 학습 및 검증 데이터셋으로 데이터 분리\n",
        "X_features = cancer_df.iloc[:, :-1]\n",
        "y_label = cancer_df.iloc[:, -1]"
      ],
      "metadata": {
        "id": "MwkAMmcW3Zga"
      },
      "execution_count": 5,
      "outputs": []
    },
    {
      "cell_type": "code",
      "source": [
        "## 학습, 검증용 데이터셋 비율 8 : 2\n",
        "X_train, X_test, y_train, y_test = train_test_split(X_features, y_label, test_size=0.2, random_state=156)\n",
        "\n",
        "## X_train, y_train을 다시 9 : 1 비율로 분리\n",
        "## => XGBoost가 제공하는 교차 검증 성능 평가 및 조기 중단을 수행하기 위함\n",
        "X_tr, X_val, y_tr, y_val = train_test_split(X_train, y_train, test_size=0.1, random_state=156)"
      ],
      "metadata": {
        "id": "skLQhbYF3f_x"
      },
      "execution_count": 6,
      "outputs": []
    },
    {
      "cell_type": "code",
      "source": [
        "## 모델 성능 평가 함수 선언\n",
        "from sklearn.metrics import accuracy_score, confusion_matrix, precision_score, recall_score, f1_score, roc_auc_score\n",
        "\n",
        "def get_clf_eval(y_test, pred=None, pred_proba=None):\n",
        "\n",
        "    confusion = confusion_matrix(y_test, pred)\n",
        "    accuracy = accuracy_score(y_test, pred)\n",
        "    precision = precision_score(y_test, pred)\n",
        "    recall = recall_score(y_test, pred)\n",
        "    f1 = f1_score(y_test, pred)\n",
        "    roc_auc = roc_auc_score(y_test, pred_proba)\n",
        "\n",
        "    print('오차 행렬')\n",
        "    print(confusion)\n",
        "    print('정확도: {0:.4f}, 정밀도: {1:.4f}, 재현율: {2:.4f}, F1: {3:.4f}, AUC: {4:.4f}'.format(accuracy, precision, recall, f1, roc_auc))"
      ],
      "metadata": {
        "id": "xluXfako3jPS"
      },
      "execution_count": 7,
      "outputs": []
    },
    {
      "cell_type": "markdown",
      "source": [
        "- HyperOpt"
      ],
      "metadata": {
        "id": "W_BcbD8b4IRK"
      }
    },
    {
      "cell_type": "code",
      "source": [
        "## 1. 검색 공간 설정\n",
        "\n",
        "from hyperopt import hp\n",
        "\n",
        "xgb_search_space = {\n",
        "    'max_depth':hp.quniform('max_depth', 5, 20, 1),                     ## 정수형 하이퍼 파라미터 => quniform 사용\n",
        "    'min_child_weight':hp.quniform('min_child_weight', 1, 2, 1),        ## 정수형 하이퍼 파라미터 => quniform 사용\n",
        "    'learning_rate':hp.uniform('learning_rate', 0.01, 0.2),\n",
        "    'colsample_bytree':hp.uniform('colsample_bytree', 0.5, 1),\n",
        "}"
      ],
      "metadata": {
        "id": "TOfKM9EG3s50"
      },
      "execution_count": 11,
      "outputs": []
    },
    {
      "cell_type": "code",
      "source": [
        "## 2. 목적 함수 설정\n",
        "## 검색 공간에서 설정한 하이퍼 파라미터들을 입력 받아서 XGBoost를 학습시키고, 평가 지표를 반환하도록 구성되어야 함\n",
        "\n",
        "from sklearn.model_selection import cross_val_score  ## 교차 검증\n",
        "from xgboost import XGBClassifier\n",
        "from hyperopt import STATUS_OK\n",
        "\n",
        "def objective_func(search_space):\n",
        "\n",
        "  xgb_clf = XGBClassifier(\n",
        "      n_estimators=100,\n",
        "      max_depth=int(search_space['max_depth']),                ## int형으로 형변환 필요\n",
        "      min_child_weight=int(search_space['min_child_weight']),  ## int형으로 형변환 필요\n",
        "      learning_rate=search_space['learning_rate'], \n",
        "      colsample_bytree=search_space['colsample_bytree'],\n",
        "      eval_metric='logloss'\n",
        "  )\n",
        "\n",
        "  accuracy = cross_val_score(xgb_clf, X_train, y_train, scoring='accuracy', cv=3)  ## 3개의 교차 검증 세트로 정확도 반환\n",
        "\n",
        "  ## acc는 cv=3 개수만큼의 결과를 리스트로 가짐, 이를 평균하여 반환하되, -1을 곱함\n",
        "  return {\n",
        "      'loss':(-1) * np.mean(accuracy),\n",
        "      'status':STATUS_OK\n",
        "  }"
      ],
      "metadata": {
        "id": "EeJZhEDsaikD"
      },
      "execution_count": 12,
      "outputs": []
    },
    {
      "cell_type": "code",
      "source": [
        "## 3. fmin()을 사용하여 최적 하이퍼 파라미터 찾기\n",
        "\n",
        "from hyperopt import fmin, tpe, Trials\n",
        "\n",
        "trial_val = Trials() ## 결과 저장\n",
        "\n",
        "best = fmin(\n",
        "    fn=objective_func,\n",
        "    space=xgb_search_space,\n",
        "    algo=tpe.suggest,\n",
        "    max_evals=50,    ## 최대 반복 횟수 지정\n",
        "    trials=trial_val,\n",
        ")"
      ],
      "metadata": {
        "colab": {
          "base_uri": "https://localhost:8080/"
        },
        "id": "OtcLJOvEdVj5",
        "outputId": "eb0c02e2-7880-41b2-f934-3563b25f2f41"
      },
      "execution_count": 13,
      "outputs": [
        {
          "output_type": "stream",
          "name": "stdout",
          "text": [
            "100%|██████████| 50/50 [00:10<00:00,  4.88it/s, best loss: -0.9670616939700244]\n"
          ]
        }
      ]
    },
    {
      "cell_type": "code",
      "source": [
        "best ## 정수형 하이퍼 파라미터 값이 뒤에 .0이 붙어서 실수형으로 반환됨을 유의하기!"
      ],
      "metadata": {
        "colab": {
          "base_uri": "https://localhost:8080/"
        },
        "id": "HoHLkVqReLpa",
        "outputId": "8923409e-22ca-4a06-b682-cba28cbca8d9"
      },
      "execution_count": 14,
      "outputs": [
        {
          "output_type": "execute_result",
          "data": {
            "text/plain": [
              "{'colsample_bytree': 0.7318580056440538,\n",
              " 'learning_rate': 0.17023567693561695,\n",
              " 'max_depth': 8.0,\n",
              " 'min_child_weight': 2.0}"
            ]
          },
          "metadata": {},
          "execution_count": 14
        }
      ]
    },
    {
      "cell_type": "markdown",
      "source": [
        "- Model"
      ],
      "metadata": {
        "id": "lCw21CxC3inO"
      }
    },
    {
      "cell_type": "code",
      "source": [
        "## 획득한 최적의 하이퍼 파라미터를 이용하여 모델 선언\n",
        "\n",
        "xgb_wrapper = XGBClassifier(\n",
        "    n_estimators=400,\n",
        "    learning_rate=round(best['learning_rate'], 5),\n",
        "    max_depth=int(best['max_depth']),\n",
        "    min_child_weight=int(best['min_child_weight']),\n",
        "    colsample_bytree=round(best['colsample_bytree'], 5)\n",
        ")"
      ],
      "metadata": {
        "id": "smrw9pkfe1aq"
      },
      "execution_count": 15,
      "outputs": []
    },
    {
      "cell_type": "markdown",
      "source": [
        "- Train"
      ],
      "metadata": {
        "id": "dcwlVqADf-14"
      }
    },
    {
      "cell_type": "code",
      "source": [
        "## early stopping\n",
        "\n",
        "evals = [(X_tr, y_tr), (X_val, y_val)]\n",
        "\n",
        "## model train\n",
        "\n",
        "xgb_wrapper.fit(\n",
        "    X_tr, y_tr,\n",
        "    early_stopping_rounds=50,\n",
        "    eval_metric='logloss',\n",
        "    eval_set=evals,\n",
        "    verbose=True\n",
        ")"
      ],
      "metadata": {
        "colab": {
          "base_uri": "https://localhost:8080/"
        },
        "id": "FX1z842AfWnS",
        "outputId": "a10b9be4-17e5-423a-cf14-9bee5b1009eb"
      },
      "execution_count": 16,
      "outputs": [
        {
          "output_type": "stream",
          "name": "stdout",
          "text": [
            "[0]\tvalidation_0-logloss:0.559868\tvalidation_1-logloss:0.615451\n",
            "Multiple eval metrics have been passed: 'validation_1-logloss' will be used for early stopping.\n",
            "\n",
            "Will train until validation_1-logloss hasn't improved in 50 rounds.\n",
            "[1]\tvalidation_0-logloss:0.461279\tvalidation_1-logloss:0.553537\n",
            "[2]\tvalidation_0-logloss:0.385631\tvalidation_1-logloss:0.494076\n",
            "[3]\tvalidation_0-logloss:0.3287\tvalidation_1-logloss:0.463087\n",
            "[4]\tvalidation_0-logloss:0.279723\tvalidation_1-logloss:0.422393\n",
            "[5]\tvalidation_0-logloss:0.240534\tvalidation_1-logloss:0.394163\n",
            "[6]\tvalidation_0-logloss:0.20928\tvalidation_1-logloss:0.367481\n",
            "[7]\tvalidation_0-logloss:0.184117\tvalidation_1-logloss:0.346697\n",
            "[8]\tvalidation_0-logloss:0.16196\tvalidation_1-logloss:0.329961\n",
            "[9]\tvalidation_0-logloss:0.14458\tvalidation_1-logloss:0.314714\n",
            "[10]\tvalidation_0-logloss:0.127811\tvalidation_1-logloss:0.298463\n",
            "[11]\tvalidation_0-logloss:0.112422\tvalidation_1-logloss:0.288095\n",
            "[12]\tvalidation_0-logloss:0.101831\tvalidation_1-logloss:0.283579\n",
            "[13]\tvalidation_0-logloss:0.092493\tvalidation_1-logloss:0.280784\n",
            "[14]\tvalidation_0-logloss:0.084303\tvalidation_1-logloss:0.275929\n",
            "[15]\tvalidation_0-logloss:0.076775\tvalidation_1-logloss:0.274485\n",
            "[16]\tvalidation_0-logloss:0.071315\tvalidation_1-logloss:0.26863\n",
            "[17]\tvalidation_0-logloss:0.065204\tvalidation_1-logloss:0.263259\n",
            "[18]\tvalidation_0-logloss:0.059887\tvalidation_1-logloss:0.260332\n",
            "[19]\tvalidation_0-logloss:0.056251\tvalidation_1-logloss:0.265612\n",
            "[20]\tvalidation_0-logloss:0.052239\tvalidation_1-logloss:0.259169\n",
            "[21]\tvalidation_0-logloss:0.049293\tvalidation_1-logloss:0.256625\n",
            "[22]\tvalidation_0-logloss:0.045942\tvalidation_1-logloss:0.254911\n",
            "[23]\tvalidation_0-logloss:0.042858\tvalidation_1-logloss:0.255922\n",
            "[24]\tvalidation_0-logloss:0.040214\tvalidation_1-logloss:0.256432\n",
            "[25]\tvalidation_0-logloss:0.038261\tvalidation_1-logloss:0.255171\n",
            "[26]\tvalidation_0-logloss:0.036712\tvalidation_1-logloss:0.256144\n",
            "[27]\tvalidation_0-logloss:0.03504\tvalidation_1-logloss:0.256246\n",
            "[28]\tvalidation_0-logloss:0.033939\tvalidation_1-logloss:0.258551\n",
            "[29]\tvalidation_0-logloss:0.032542\tvalidation_1-logloss:0.255594\n",
            "[30]\tvalidation_0-logloss:0.031367\tvalidation_1-logloss:0.254821\n",
            "[31]\tvalidation_0-logloss:0.030637\tvalidation_1-logloss:0.257364\n",
            "[32]\tvalidation_0-logloss:0.029437\tvalidation_1-logloss:0.260024\n",
            "[33]\tvalidation_0-logloss:0.02866\tvalidation_1-logloss:0.25718\n",
            "[34]\tvalidation_0-logloss:0.027795\tvalidation_1-logloss:0.25264\n",
            "[35]\tvalidation_0-logloss:0.027221\tvalidation_1-logloss:0.247323\n",
            "[36]\tvalidation_0-logloss:0.026436\tvalidation_1-logloss:0.247531\n",
            "[37]\tvalidation_0-logloss:0.025834\tvalidation_1-logloss:0.245762\n",
            "[38]\tvalidation_0-logloss:0.025232\tvalidation_1-logloss:0.24253\n",
            "[39]\tvalidation_0-logloss:0.0246\tvalidation_1-logloss:0.242925\n",
            "[40]\tvalidation_0-logloss:0.024117\tvalidation_1-logloss:0.242052\n",
            "[41]\tvalidation_0-logloss:0.023548\tvalidation_1-logloss:0.242495\n",
            "[42]\tvalidation_0-logloss:0.023123\tvalidation_1-logloss:0.245183\n",
            "[43]\tvalidation_0-logloss:0.02291\tvalidation_1-logloss:0.246212\n",
            "[44]\tvalidation_0-logloss:0.022685\tvalidation_1-logloss:0.244682\n",
            "[45]\tvalidation_0-logloss:0.022229\tvalidation_1-logloss:0.245097\n",
            "[46]\tvalidation_0-logloss:0.022034\tvalidation_1-logloss:0.247143\n",
            "[47]\tvalidation_0-logloss:0.021842\tvalidation_1-logloss:0.245726\n",
            "[48]\tvalidation_0-logloss:0.021657\tvalidation_1-logloss:0.245864\n",
            "[49]\tvalidation_0-logloss:0.021171\tvalidation_1-logloss:0.242406\n",
            "[50]\tvalidation_0-logloss:0.020993\tvalidation_1-logloss:0.244423\n",
            "[51]\tvalidation_0-logloss:0.020823\tvalidation_1-logloss:0.243815\n",
            "[52]\tvalidation_0-logloss:0.020656\tvalidation_1-logloss:0.242465\n",
            "[53]\tvalidation_0-logloss:0.0205\tvalidation_1-logloss:0.244406\n",
            "[54]\tvalidation_0-logloss:0.020341\tvalidation_1-logloss:0.245272\n",
            "[55]\tvalidation_0-logloss:0.0202\tvalidation_1-logloss:0.244053\n",
            "[56]\tvalidation_0-logloss:0.020063\tvalidation_1-logloss:0.243571\n",
            "[57]\tvalidation_0-logloss:0.019919\tvalidation_1-logloss:0.245501\n",
            "[58]\tvalidation_0-logloss:0.019793\tvalidation_1-logloss:0.244357\n",
            "[59]\tvalidation_0-logloss:0.01966\tvalidation_1-logloss:0.241564\n",
            "[60]\tvalidation_0-logloss:0.019531\tvalidation_1-logloss:0.243418\n",
            "[61]\tvalidation_0-logloss:0.019414\tvalidation_1-logloss:0.243009\n",
            "[62]\tvalidation_0-logloss:0.019291\tvalidation_1-logloss:0.243072\n",
            "[63]\tvalidation_0-logloss:0.019177\tvalidation_1-logloss:0.244853\n",
            "[64]\tvalidation_0-logloss:0.019063\tvalidation_1-logloss:0.243451\n",
            "[65]\tvalidation_0-logloss:0.018947\tvalidation_1-logloss:0.243536\n",
            "[66]\tvalidation_0-logloss:0.018835\tvalidation_1-logloss:0.242451\n",
            "[67]\tvalidation_0-logloss:0.018725\tvalidation_1-logloss:0.24302\n",
            "[68]\tvalidation_0-logloss:0.018617\tvalidation_1-logloss:0.240476\n",
            "[69]\tvalidation_0-logloss:0.01851\tvalidation_1-logloss:0.242714\n",
            "[70]\tvalidation_0-logloss:0.018408\tvalidation_1-logloss:0.240179\n",
            "[71]\tvalidation_0-logloss:0.018304\tvalidation_1-logloss:0.241201\n",
            "[72]\tvalidation_0-logloss:0.018206\tvalidation_1-logloss:0.242902\n",
            "[73]\tvalidation_0-logloss:0.018108\tvalidation_1-logloss:0.24041\n",
            "[74]\tvalidation_0-logloss:0.018018\tvalidation_1-logloss:0.240366\n",
            "[75]\tvalidation_0-logloss:0.017919\tvalidation_1-logloss:0.240485\n",
            "[76]\tvalidation_0-logloss:0.017823\tvalidation_1-logloss:0.241503\n",
            "[77]\tvalidation_0-logloss:0.017725\tvalidation_1-logloss:0.240244\n",
            "[78]\tvalidation_0-logloss:0.017639\tvalidation_1-logloss:0.241839\n",
            "[79]\tvalidation_0-logloss:0.017547\tvalidation_1-logloss:0.241965\n",
            "[80]\tvalidation_0-logloss:0.017456\tvalidation_1-logloss:0.240941\n",
            "[81]\tvalidation_0-logloss:0.017374\tvalidation_1-logloss:0.240541\n",
            "[82]\tvalidation_0-logloss:0.017291\tvalidation_1-logloss:0.239394\n",
            "[83]\tvalidation_0-logloss:0.017206\tvalidation_1-logloss:0.240454\n",
            "[84]\tvalidation_0-logloss:0.017122\tvalidation_1-logloss:0.238144\n",
            "[85]\tvalidation_0-logloss:0.017037\tvalidation_1-logloss:0.23911\n",
            "[86]\tvalidation_0-logloss:0.016956\tvalidation_1-logloss:0.240694\n",
            "[87]\tvalidation_0-logloss:0.016875\tvalidation_1-logloss:0.238427\n",
            "[88]\tvalidation_0-logloss:0.016796\tvalidation_1-logloss:0.238546\n",
            "[89]\tvalidation_0-logloss:0.016723\tvalidation_1-logloss:0.237636\n",
            "[90]\tvalidation_0-logloss:0.01665\tvalidation_1-logloss:0.239581\n",
            "[91]\tvalidation_0-logloss:0.016576\tvalidation_1-logloss:0.239553\n",
            "[92]\tvalidation_0-logloss:0.016501\tvalidation_1-logloss:0.238747\n",
            "[93]\tvalidation_0-logloss:0.016433\tvalidation_1-logloss:0.238383\n",
            "[94]\tvalidation_0-logloss:0.016368\tvalidation_1-logloss:0.237451\n",
            "[95]\tvalidation_0-logloss:0.016297\tvalidation_1-logloss:0.237436\n",
            "[96]\tvalidation_0-logloss:0.016228\tvalidation_1-logloss:0.235378\n",
            "[97]\tvalidation_0-logloss:0.016164\tvalidation_1-logloss:0.235535\n",
            "[98]\tvalidation_0-logloss:0.016102\tvalidation_1-logloss:0.235639\n",
            "[99]\tvalidation_0-logloss:0.016036\tvalidation_1-logloss:0.237541\n",
            "[100]\tvalidation_0-logloss:0.015968\tvalidation_1-logloss:0.235495\n",
            "[101]\tvalidation_0-logloss:0.015907\tvalidation_1-logloss:0.236355\n",
            "[102]\tvalidation_0-logloss:0.015847\tvalidation_1-logloss:0.236476\n",
            "[103]\tvalidation_0-logloss:0.015786\tvalidation_1-logloss:0.235665\n",
            "[104]\tvalidation_0-logloss:0.015727\tvalidation_1-logloss:0.234945\n",
            "[105]\tvalidation_0-logloss:0.015667\tvalidation_1-logloss:0.234973\n",
            "[106]\tvalidation_0-logloss:0.015609\tvalidation_1-logloss:0.233098\n",
            "[107]\tvalidation_0-logloss:0.015548\tvalidation_1-logloss:0.234951\n",
            "[108]\tvalidation_0-logloss:0.015494\tvalidation_1-logloss:0.234595\n",
            "[109]\tvalidation_0-logloss:0.015438\tvalidation_1-logloss:0.234796\n",
            "[110]\tvalidation_0-logloss:0.015384\tvalidation_1-logloss:0.23565\n",
            "[111]\tvalidation_0-logloss:0.015325\tvalidation_1-logloss:0.233782\n",
            "[112]\tvalidation_0-logloss:0.015272\tvalidation_1-logloss:0.233883\n",
            "[113]\tvalidation_0-logloss:0.01522\tvalidation_1-logloss:0.233152\n",
            "[114]\tvalidation_0-logloss:0.015166\tvalidation_1-logloss:0.234023\n",
            "[115]\tvalidation_0-logloss:0.015117\tvalidation_1-logloss:0.235721\n",
            "[116]\tvalidation_0-logloss:0.015067\tvalidation_1-logloss:0.235038\n",
            "[117]\tvalidation_0-logloss:0.015018\tvalidation_1-logloss:0.235267\n",
            "[118]\tvalidation_0-logloss:0.014964\tvalidation_1-logloss:0.233484\n",
            "[119]\tvalidation_0-logloss:0.014915\tvalidation_1-logloss:0.233115\n",
            "[120]\tvalidation_0-logloss:0.014867\tvalidation_1-logloss:0.233359\n",
            "[121]\tvalidation_0-logloss:0.01482\tvalidation_1-logloss:0.232649\n",
            "[122]\tvalidation_0-logloss:0.014777\tvalidation_1-logloss:0.232851\n",
            "[123]\tvalidation_0-logloss:0.014731\tvalidation_1-logloss:0.234499\n",
            "[124]\tvalidation_0-logloss:0.014688\tvalidation_1-logloss:0.234914\n",
            "[125]\tvalidation_0-logloss:0.01464\tvalidation_1-logloss:0.23422\n",
            "[126]\tvalidation_0-logloss:0.014596\tvalidation_1-logloss:0.233873\n",
            "[127]\tvalidation_0-logloss:0.014554\tvalidation_1-logloss:0.234121\n",
            "[128]\tvalidation_0-logloss:0.014512\tvalidation_1-logloss:0.233485\n",
            "[129]\tvalidation_0-logloss:0.014471\tvalidation_1-logloss:0.232855\n",
            "[130]\tvalidation_0-logloss:0.014427\tvalidation_1-logloss:0.233653\n",
            "[131]\tvalidation_0-logloss:0.014391\tvalidation_1-logloss:0.233428\n",
            "[132]\tvalidation_0-logloss:0.014351\tvalidation_1-logloss:0.234988\n",
            "[133]\tvalidation_0-logloss:0.014309\tvalidation_1-logloss:0.234644\n",
            "[134]\tvalidation_0-logloss:0.014271\tvalidation_1-logloss:0.235435\n",
            "[135]\tvalidation_0-logloss:0.014231\tvalidation_1-logloss:0.234804\n",
            "[136]\tvalidation_0-logloss:0.014192\tvalidation_1-logloss:0.235064\n",
            "[137]\tvalidation_0-logloss:0.014153\tvalidation_1-logloss:0.234733\n",
            "[138]\tvalidation_0-logloss:0.014114\tvalidation_1-logloss:0.234143\n",
            "[139]\tvalidation_0-logloss:0.014079\tvalidation_1-logloss:0.234327\n",
            "[140]\tvalidation_0-logloss:0.014042\tvalidation_1-logloss:0.234708\n",
            "[141]\tvalidation_0-logloss:0.014004\tvalidation_1-logloss:0.234085\n",
            "[142]\tvalidation_0-logloss:0.013971\tvalidation_1-logloss:0.234338\n",
            "[143]\tvalidation_0-logloss:0.013937\tvalidation_1-logloss:0.23404\n",
            "[144]\tvalidation_0-logloss:0.013897\tvalidation_1-logloss:0.233417\n",
            "[145]\tvalidation_0-logloss:0.013857\tvalidation_1-logloss:0.23499\n",
            "[146]\tvalidation_0-logloss:0.013824\tvalidation_1-logloss:0.23444\n",
            "[147]\tvalidation_0-logloss:0.013789\tvalidation_1-logloss:0.23522\n",
            "[148]\tvalidation_0-logloss:0.013756\tvalidation_1-logloss:0.234688\n",
            "[149]\tvalidation_0-logloss:0.013722\tvalidation_1-logloss:0.234381\n",
            "[150]\tvalidation_0-logloss:0.013688\tvalidation_1-logloss:0.234661\n",
            "[151]\tvalidation_0-logloss:0.013657\tvalidation_1-logloss:0.234134\n",
            "[152]\tvalidation_0-logloss:0.013627\tvalidation_1-logloss:0.233581\n",
            "[153]\tvalidation_0-logloss:0.013597\tvalidation_1-logloss:0.234314\n",
            "[154]\tvalidation_0-logloss:0.013565\tvalidation_1-logloss:0.234019\n",
            "[155]\tvalidation_0-logloss:0.013536\tvalidation_1-logloss:0.234297\n",
            "[156]\tvalidation_0-logloss:0.013505\tvalidation_1-logloss:0.233796\n",
            "[157]\tvalidation_0-logloss:0.013477\tvalidation_1-logloss:0.233527\n",
            "[158]\tvalidation_0-logloss:0.013447\tvalidation_1-logloss:0.233018\n",
            "[159]\tvalidation_0-logloss:0.013419\tvalidation_1-logloss:0.233301\n",
            "[160]\tvalidation_0-logloss:0.013392\tvalidation_1-logloss:0.232845\n",
            "[161]\tvalidation_0-logloss:0.013366\tvalidation_1-logloss:0.232587\n",
            "[162]\tvalidation_0-logloss:0.013341\tvalidation_1-logloss:0.232869\n",
            "[163]\tvalidation_0-logloss:0.013314\tvalidation_1-logloss:0.232394\n",
            "[164]\tvalidation_0-logloss:0.013287\tvalidation_1-logloss:0.233115\n",
            "[165]\tvalidation_0-logloss:0.013262\tvalidation_1-logloss:0.232863\n",
            "[166]\tvalidation_0-logloss:0.013237\tvalidation_1-logloss:0.23236\n",
            "[167]\tvalidation_0-logloss:0.013214\tvalidation_1-logloss:0.231926\n",
            "[168]\tvalidation_0-logloss:0.013189\tvalidation_1-logloss:0.232626\n",
            "[169]\tvalidation_0-logloss:0.013166\tvalidation_1-logloss:0.232907\n",
            "[170]\tvalidation_0-logloss:0.013145\tvalidation_1-logloss:0.232499\n",
            "[171]\tvalidation_0-logloss:0.013121\tvalidation_1-logloss:0.232248\n",
            "[172]\tvalidation_0-logloss:0.013096\tvalidation_1-logloss:0.231829\n",
            "[173]\tvalidation_0-logloss:0.013074\tvalidation_1-logloss:0.232075\n",
            "[174]\tvalidation_0-logloss:0.013052\tvalidation_1-logloss:0.232537\n",
            "[175]\tvalidation_0-logloss:0.013031\tvalidation_1-logloss:0.232068\n",
            "[176]\tvalidation_0-logloss:0.01301\tvalidation_1-logloss:0.231688\n",
            "[177]\tvalidation_0-logloss:0.012989\tvalidation_1-logloss:0.231456\n",
            "[178]\tvalidation_0-logloss:0.012965\tvalidation_1-logloss:0.23176\n",
            "[179]\tvalidation_0-logloss:0.012944\tvalidation_1-logloss:0.231365\n",
            "[180]\tvalidation_0-logloss:0.012923\tvalidation_1-logloss:0.232022\n",
            "[181]\tvalidation_0-logloss:0.012905\tvalidation_1-logloss:0.232304\n",
            "[182]\tvalidation_0-logloss:0.012885\tvalidation_1-logloss:0.232022\n",
            "[183]\tvalidation_0-logloss:0.012866\tvalidation_1-logloss:0.232461\n",
            "[184]\tvalidation_0-logloss:0.012846\tvalidation_1-logloss:0.232101\n",
            "[185]\tvalidation_0-logloss:0.012828\tvalidation_1-logloss:0.232322\n",
            "[186]\tvalidation_0-logloss:0.01281\tvalidation_1-logloss:0.232063\n",
            "[187]\tvalidation_0-logloss:0.012793\tvalidation_1-logloss:0.232487\n",
            "[188]\tvalidation_0-logloss:0.012777\tvalidation_1-logloss:0.232746\n",
            "[189]\tvalidation_0-logloss:0.012759\tvalidation_1-logloss:0.232402\n",
            "[190]\tvalidation_0-logloss:0.012743\tvalidation_1-logloss:0.232076\n",
            "[191]\tvalidation_0-logloss:0.012725\tvalidation_1-logloss:0.232294\n",
            "[192]\tvalidation_0-logloss:0.012709\tvalidation_1-logloss:0.231878\n",
            "[193]\tvalidation_0-logloss:0.012694\tvalidation_1-logloss:0.232083\n",
            "[194]\tvalidation_0-logloss:0.012679\tvalidation_1-logloss:0.231845\n",
            "[195]\tvalidation_0-logloss:0.012662\tvalidation_1-logloss:0.23131\n",
            "[196]\tvalidation_0-logloss:0.012648\tvalidation_1-logloss:0.231551\n",
            "[197]\tvalidation_0-logloss:0.012633\tvalidation_1-logloss:0.232121\n",
            "[198]\tvalidation_0-logloss:0.012618\tvalidation_1-logloss:0.23181\n",
            "[199]\tvalidation_0-logloss:0.012603\tvalidation_1-logloss:0.231351\n",
            "[200]\tvalidation_0-logloss:0.012586\tvalidation_1-logloss:0.231779\n",
            "[201]\tvalidation_0-logloss:0.012571\tvalidation_1-logloss:0.231333\n",
            "[202]\tvalidation_0-logloss:0.012557\tvalidation_1-logloss:0.231099\n",
            "[203]\tvalidation_0-logloss:0.012544\tvalidation_1-logloss:0.23148\n",
            "[204]\tvalidation_0-logloss:0.012533\tvalidation_1-logloss:0.231133\n",
            "[205]\tvalidation_0-logloss:0.012519\tvalidation_1-logloss:0.230712\n",
            "[206]\tvalidation_0-logloss:0.012506\tvalidation_1-logloss:0.231251\n",
            "[207]\tvalidation_0-logloss:0.012492\tvalidation_1-logloss:0.23096\n",
            "[208]\tvalidation_0-logloss:0.01248\tvalidation_1-logloss:0.231143\n",
            "[209]\tvalidation_0-logloss:0.012468\tvalidation_1-logloss:0.230701\n",
            "[210]\tvalidation_0-logloss:0.012456\tvalidation_1-logloss:0.231063\n",
            "[211]\tvalidation_0-logloss:0.012443\tvalidation_1-logloss:0.230652\n",
            "[212]\tvalidation_0-logloss:0.012431\tvalidation_1-logloss:0.230468\n",
            "[213]\tvalidation_0-logloss:0.01242\tvalidation_1-logloss:0.230961\n",
            "[214]\tvalidation_0-logloss:0.012408\tvalidation_1-logloss:0.231046\n",
            "[215]\tvalidation_0-logloss:0.012398\tvalidation_1-logloss:0.230678\n",
            "[216]\tvalidation_0-logloss:0.012385\tvalidation_1-logloss:0.230392\n",
            "[217]\tvalidation_0-logloss:0.012372\tvalidation_1-logloss:0.23076\n",
            "[218]\tvalidation_0-logloss:0.012362\tvalidation_1-logloss:0.230846\n",
            "[219]\tvalidation_0-logloss:0.01235\tvalidation_1-logloss:0.230564\n",
            "[220]\tvalidation_0-logloss:0.012339\tvalidation_1-logloss:0.2304\n",
            "[221]\tvalidation_0-logloss:0.01233\tvalidation_1-logloss:0.230052\n",
            "[222]\tvalidation_0-logloss:0.01232\tvalidation_1-logloss:0.230144\n",
            "[223]\tvalidation_0-logloss:0.012308\tvalidation_1-logloss:0.229866\n",
            "[224]\tvalidation_0-logloss:0.012299\tvalidation_1-logloss:0.229623\n",
            "[225]\tvalidation_0-logloss:0.012287\tvalidation_1-logloss:0.229719\n",
            "[226]\tvalidation_0-logloss:0.012278\tvalidation_1-logloss:0.229481\n",
            "[227]\tvalidation_0-logloss:0.01227\tvalidation_1-logloss:0.229658\n",
            "[228]\tvalidation_0-logloss:0.012262\tvalidation_1-logloss:0.229347\n",
            "[229]\tvalidation_0-logloss:0.012254\tvalidation_1-logloss:0.229207\n",
            "[230]\tvalidation_0-logloss:0.012245\tvalidation_1-logloss:0.229515\n",
            "[231]\tvalidation_0-logloss:0.012236\tvalidation_1-logloss:0.229287\n",
            "[232]\tvalidation_0-logloss:0.012229\tvalidation_1-logloss:0.229459\n",
            "[233]\tvalidation_0-logloss:0.012222\tvalidation_1-logloss:0.22883\n",
            "[234]\tvalidation_0-logloss:0.012214\tvalidation_1-logloss:0.229228\n",
            "[235]\tvalidation_0-logloss:0.012208\tvalidation_1-logloss:0.229584\n",
            "[236]\tvalidation_0-logloss:0.012202\tvalidation_1-logloss:0.229747\n",
            "[237]\tvalidation_0-logloss:0.012198\tvalidation_1-logloss:0.230066\n",
            "[238]\tvalidation_0-logloss:0.012192\tvalidation_1-logloss:0.229885\n",
            "[239]\tvalidation_0-logloss:0.012187\tvalidation_1-logloss:0.229797\n",
            "[240]\tvalidation_0-logloss:0.012183\tvalidation_1-logloss:0.230072\n",
            "[241]\tvalidation_0-logloss:0.012178\tvalidation_1-logloss:0.229904\n",
            "[242]\tvalidation_0-logloss:0.012174\tvalidation_1-logloss:0.229758\n",
            "[243]\tvalidation_0-logloss:0.01216\tvalidation_1-logloss:0.229851\n",
            "[244]\tvalidation_0-logloss:0.01216\tvalidation_1-logloss:0.229851\n",
            "[245]\tvalidation_0-logloss:0.01216\tvalidation_1-logloss:0.229851\n",
            "[246]\tvalidation_0-logloss:0.01216\tvalidation_1-logloss:0.22985\n",
            "[247]\tvalidation_0-logloss:0.01216\tvalidation_1-logloss:0.22985\n",
            "[248]\tvalidation_0-logloss:0.01216\tvalidation_1-logloss:0.22985\n",
            "[249]\tvalidation_0-logloss:0.01216\tvalidation_1-logloss:0.22985\n",
            "[250]\tvalidation_0-logloss:0.01216\tvalidation_1-logloss:0.22985\n",
            "[251]\tvalidation_0-logloss:0.01216\tvalidation_1-logloss:0.22985\n",
            "[252]\tvalidation_0-logloss:0.01216\tvalidation_1-logloss:0.22985\n",
            "[253]\tvalidation_0-logloss:0.01216\tvalidation_1-logloss:0.22985\n",
            "[254]\tvalidation_0-logloss:0.01216\tvalidation_1-logloss:0.22985\n",
            "[255]\tvalidation_0-logloss:0.01216\tvalidation_1-logloss:0.229849\n",
            "[256]\tvalidation_0-logloss:0.01216\tvalidation_1-logloss:0.229849\n",
            "[257]\tvalidation_0-logloss:0.01216\tvalidation_1-logloss:0.229849\n",
            "[258]\tvalidation_0-logloss:0.01216\tvalidation_1-logloss:0.229849\n",
            "[259]\tvalidation_0-logloss:0.01216\tvalidation_1-logloss:0.229849\n",
            "[260]\tvalidation_0-logloss:0.01216\tvalidation_1-logloss:0.229849\n",
            "[261]\tvalidation_0-logloss:0.01216\tvalidation_1-logloss:0.229849\n",
            "[262]\tvalidation_0-logloss:0.01216\tvalidation_1-logloss:0.229849\n",
            "[263]\tvalidation_0-logloss:0.01216\tvalidation_1-logloss:0.229849\n",
            "[264]\tvalidation_0-logloss:0.01216\tvalidation_1-logloss:0.229849\n",
            "[265]\tvalidation_0-logloss:0.01216\tvalidation_1-logloss:0.229849\n",
            "[266]\tvalidation_0-logloss:0.01216\tvalidation_1-logloss:0.229849\n",
            "[267]\tvalidation_0-logloss:0.01216\tvalidation_1-logloss:0.229849\n",
            "[268]\tvalidation_0-logloss:0.01216\tvalidation_1-logloss:0.229849\n",
            "[269]\tvalidation_0-logloss:0.01216\tvalidation_1-logloss:0.229849\n",
            "[270]\tvalidation_0-logloss:0.01216\tvalidation_1-logloss:0.229849\n",
            "[271]\tvalidation_0-logloss:0.01216\tvalidation_1-logloss:0.229849\n",
            "[272]\tvalidation_0-logloss:0.01216\tvalidation_1-logloss:0.229849\n",
            "[273]\tvalidation_0-logloss:0.01216\tvalidation_1-logloss:0.229849\n",
            "[274]\tvalidation_0-logloss:0.01216\tvalidation_1-logloss:0.229849\n",
            "[275]\tvalidation_0-logloss:0.01216\tvalidation_1-logloss:0.229849\n",
            "[276]\tvalidation_0-logloss:0.01216\tvalidation_1-logloss:0.229849\n",
            "[277]\tvalidation_0-logloss:0.01216\tvalidation_1-logloss:0.229849\n",
            "[278]\tvalidation_0-logloss:0.01216\tvalidation_1-logloss:0.229849\n",
            "[279]\tvalidation_0-logloss:0.01216\tvalidation_1-logloss:0.229849\n",
            "[280]\tvalidation_0-logloss:0.01216\tvalidation_1-logloss:0.229849\n",
            "[281]\tvalidation_0-logloss:0.01216\tvalidation_1-logloss:0.229849\n",
            "[282]\tvalidation_0-logloss:0.01216\tvalidation_1-logloss:0.229849\n",
            "[283]\tvalidation_0-logloss:0.01216\tvalidation_1-logloss:0.229849\n",
            "Stopping. Best iteration:\n",
            "[233]\tvalidation_0-logloss:0.012222\tvalidation_1-logloss:0.22883\n",
            "\n"
          ]
        },
        {
          "output_type": "execute_result",
          "data": {
            "text/plain": [
              "XGBClassifier(colsample_bytree=0.73186, learning_rate=0.17024, max_depth=8,\n",
              "              min_child_weight=2, n_estimators=400)"
            ]
          },
          "metadata": {},
          "execution_count": 16
        }
      ]
    },
    {
      "cell_type": "markdown",
      "source": [
        "- Eval"
      ],
      "metadata": {
        "id": "jSaylfBlgAHP"
      }
    },
    {
      "cell_type": "code",
      "source": [
        "## eval\n",
        "\n",
        "preds = xgb_wrapper.predict(X_test)\n",
        "pred_proba = xgb_wrapper.predict_proba(X_test)[:, 1]\n",
        "\n",
        "get_clf_eval(y_test, preds, pred_proba)"
      ],
      "metadata": {
        "colab": {
          "base_uri": "https://localhost:8080/"
        },
        "id": "IfrCs30wfwK0",
        "outputId": "36d2e3e3-52ae-464b-c9d2-76b75049a1da"
      },
      "execution_count": 17,
      "outputs": [
        {
          "output_type": "stream",
          "name": "stdout",
          "text": [
            "오차 행렬\n",
            "[[33  4]\n",
            " [ 2 75]]\n",
            "정확도: 0.9474, 정밀도: 0.9494, 재현율: 0.9740, F1: 0.9615, AUC: 0.9933\n"
          ]
        }
      ]
    }
  ]
}