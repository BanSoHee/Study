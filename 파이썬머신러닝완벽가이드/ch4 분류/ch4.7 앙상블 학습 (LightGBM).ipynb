{
  "nbformat": 4,
  "nbformat_minor": 0,
  "metadata": {
    "colab": {
      "name": "ch4.7 - 앙상블 학습 (LightGBM).ipynb",
      "provenance": []
    },
    "kernelspec": {
      "name": "python3",
      "display_name": "Python 3"
    },
    "language_info": {
      "name": "python"
    }
  },
  "cells": [
    {
      "cell_type": "markdown",
      "source": [
        "## LightGBM 실습"
      ],
      "metadata": {
        "id": "2nqVI6IrWgeL"
      }
    },
    {
      "cell_type": "markdown",
      "source": [
        "- 위스콘신 유방암 예측 using LightGBM"
      ],
      "metadata": {
        "id": "vgyEEZXFW5gr"
      }
    },
    {
      "cell_type": "code",
      "execution_count": 1,
      "metadata": {
        "id": "C0DYxB7Q878q"
      },
      "outputs": [],
      "source": [
        "from lightgbm import LGBMClassifier\n",
        "\n",
        "import pandas as pd\n",
        "import numpy as np\n",
        "from sklearn.datasets import load_breast_cancer\n",
        "from sklearn.model_selection import train_test_split"
      ]
    },
    {
      "cell_type": "markdown",
      "source": [
        "## Data"
      ],
      "metadata": {
        "id": "-G1kOCYzWkJb"
      }
    },
    {
      "cell_type": "code",
      "source": [
        "dataset = load_breast_cancer()\n",
        "dataset"
      ],
      "metadata": {
        "colab": {
          "base_uri": "https://localhost:8080/"
        },
        "id": "-Bi7tZkHWR7E",
        "outputId": "445ed920-2cf9-44a2-9947-7549818382cd"
      },
      "execution_count": 3,
      "outputs": [
        {
          "output_type": "execute_result",
          "data": {
            "text/plain": [
              "{'DESCR': '.. _breast_cancer_dataset:\\n\\nBreast cancer wisconsin (diagnostic) dataset\\n--------------------------------------------\\n\\n**Data Set Characteristics:**\\n\\n    :Number of Instances: 569\\n\\n    :Number of Attributes: 30 numeric, predictive attributes and the class\\n\\n    :Attribute Information:\\n        - radius (mean of distances from center to points on the perimeter)\\n        - texture (standard deviation of gray-scale values)\\n        - perimeter\\n        - area\\n        - smoothness (local variation in radius lengths)\\n        - compactness (perimeter^2 / area - 1.0)\\n        - concavity (severity of concave portions of the contour)\\n        - concave points (number of concave portions of the contour)\\n        - symmetry\\n        - fractal dimension (\"coastline approximation\" - 1)\\n\\n        The mean, standard error, and \"worst\" or largest (mean of the three\\n        worst/largest values) of these features were computed for each image,\\n        resulting in 30 features.  For instance, field 0 is Mean Radius, field\\n        10 is Radius SE, field 20 is Worst Radius.\\n\\n        - class:\\n                - WDBC-Malignant\\n                - WDBC-Benign\\n\\n    :Summary Statistics:\\n\\n    ===================================== ====== ======\\n                                           Min    Max\\n    ===================================== ====== ======\\n    radius (mean):                        6.981  28.11\\n    texture (mean):                       9.71   39.28\\n    perimeter (mean):                     43.79  188.5\\n    area (mean):                          143.5  2501.0\\n    smoothness (mean):                    0.053  0.163\\n    compactness (mean):                   0.019  0.345\\n    concavity (mean):                     0.0    0.427\\n    concave points (mean):                0.0    0.201\\n    symmetry (mean):                      0.106  0.304\\n    fractal dimension (mean):             0.05   0.097\\n    radius (standard error):              0.112  2.873\\n    texture (standard error):             0.36   4.885\\n    perimeter (standard error):           0.757  21.98\\n    area (standard error):                6.802  542.2\\n    smoothness (standard error):          0.002  0.031\\n    compactness (standard error):         0.002  0.135\\n    concavity (standard error):           0.0    0.396\\n    concave points (standard error):      0.0    0.053\\n    symmetry (standard error):            0.008  0.079\\n    fractal dimension (standard error):   0.001  0.03\\n    radius (worst):                       7.93   36.04\\n    texture (worst):                      12.02  49.54\\n    perimeter (worst):                    50.41  251.2\\n    area (worst):                         185.2  4254.0\\n    smoothness (worst):                   0.071  0.223\\n    compactness (worst):                  0.027  1.058\\n    concavity (worst):                    0.0    1.252\\n    concave points (worst):               0.0    0.291\\n    symmetry (worst):                     0.156  0.664\\n    fractal dimension (worst):            0.055  0.208\\n    ===================================== ====== ======\\n\\n    :Missing Attribute Values: None\\n\\n    :Class Distribution: 212 - Malignant, 357 - Benign\\n\\n    :Creator:  Dr. William H. Wolberg, W. Nick Street, Olvi L. Mangasarian\\n\\n    :Donor: Nick Street\\n\\n    :Date: November, 1995\\n\\nThis is a copy of UCI ML Breast Cancer Wisconsin (Diagnostic) datasets.\\nhttps://goo.gl/U2Uwz2\\n\\nFeatures are computed from a digitized image of a fine needle\\naspirate (FNA) of a breast mass.  They describe\\ncharacteristics of the cell nuclei present in the image.\\n\\nSeparating plane described above was obtained using\\nMultisurface Method-Tree (MSM-T) [K. P. Bennett, \"Decision Tree\\nConstruction Via Linear Programming.\" Proceedings of the 4th\\nMidwest Artificial Intelligence and Cognitive Science Society,\\npp. 97-101, 1992], a classification method which uses linear\\nprogramming to construct a decision tree.  Relevant features\\nwere selected using an exhaustive search in the space of 1-4\\nfeatures and 1-3 separating planes.\\n\\nThe actual linear program used to obtain the separating plane\\nin the 3-dimensional space is that described in:\\n[K. P. Bennett and O. L. Mangasarian: \"Robust Linear\\nProgramming Discrimination of Two Linearly Inseparable Sets\",\\nOptimization Methods and Software 1, 1992, 23-34].\\n\\nThis database is also available through the UW CS ftp server:\\n\\nftp ftp.cs.wisc.edu\\ncd math-prog/cpo-dataset/machine-learn/WDBC/\\n\\n.. topic:: References\\n\\n   - W.N. Street, W.H. Wolberg and O.L. Mangasarian. Nuclear feature extraction \\n     for breast tumor diagnosis. IS&T/SPIE 1993 International Symposium on \\n     Electronic Imaging: Science and Technology, volume 1905, pages 861-870,\\n     San Jose, CA, 1993.\\n   - O.L. Mangasarian, W.N. Street and W.H. Wolberg. Breast cancer diagnosis and \\n     prognosis via linear programming. Operations Research, 43(4), pages 570-577, \\n     July-August 1995.\\n   - W.H. Wolberg, W.N. Street, and O.L. Mangasarian. Machine learning techniques\\n     to diagnose breast cancer from fine-needle aspirates. Cancer Letters 77 (1994) \\n     163-171.',\n",
              " 'data': array([[1.799e+01, 1.038e+01, 1.228e+02, ..., 2.654e-01, 4.601e-01,\n",
              "         1.189e-01],\n",
              "        [2.057e+01, 1.777e+01, 1.329e+02, ..., 1.860e-01, 2.750e-01,\n",
              "         8.902e-02],\n",
              "        [1.969e+01, 2.125e+01, 1.300e+02, ..., 2.430e-01, 3.613e-01,\n",
              "         8.758e-02],\n",
              "        ...,\n",
              "        [1.660e+01, 2.808e+01, 1.083e+02, ..., 1.418e-01, 2.218e-01,\n",
              "         7.820e-02],\n",
              "        [2.060e+01, 2.933e+01, 1.401e+02, ..., 2.650e-01, 4.087e-01,\n",
              "         1.240e-01],\n",
              "        [7.760e+00, 2.454e+01, 4.792e+01, ..., 0.000e+00, 2.871e-01,\n",
              "         7.039e-02]]),\n",
              " 'data_module': 'sklearn.datasets.data',\n",
              " 'feature_names': array(['mean radius', 'mean texture', 'mean perimeter', 'mean area',\n",
              "        'mean smoothness', 'mean compactness', 'mean concavity',\n",
              "        'mean concave points', 'mean symmetry', 'mean fractal dimension',\n",
              "        'radius error', 'texture error', 'perimeter error', 'area error',\n",
              "        'smoothness error', 'compactness error', 'concavity error',\n",
              "        'concave points error', 'symmetry error',\n",
              "        'fractal dimension error', 'worst radius', 'worst texture',\n",
              "        'worst perimeter', 'worst area', 'worst smoothness',\n",
              "        'worst compactness', 'worst concavity', 'worst concave points',\n",
              "        'worst symmetry', 'worst fractal dimension'], dtype='<U23'),\n",
              " 'filename': 'breast_cancer.csv',\n",
              " 'frame': None,\n",
              " 'target': array([0, 0, 0, 0, 0, 0, 0, 0, 0, 0, 0, 0, 0, 0, 0, 0, 0, 0, 0, 1, 1, 1,\n",
              "        0, 0, 0, 0, 0, 0, 0, 0, 0, 0, 0, 0, 0, 0, 0, 1, 0, 0, 0, 0, 0, 0,\n",
              "        0, 0, 1, 0, 1, 1, 1, 1, 1, 0, 0, 1, 0, 0, 1, 1, 1, 1, 0, 1, 0, 0,\n",
              "        1, 1, 1, 1, 0, 1, 0, 0, 1, 0, 1, 0, 0, 1, 1, 1, 0, 0, 1, 0, 0, 0,\n",
              "        1, 1, 1, 0, 1, 1, 0, 0, 1, 1, 1, 0, 0, 1, 1, 1, 1, 0, 1, 1, 0, 1,\n",
              "        1, 1, 1, 1, 1, 1, 1, 0, 0, 0, 1, 0, 0, 1, 1, 1, 0, 0, 1, 0, 1, 0,\n",
              "        0, 1, 0, 0, 1, 1, 0, 1, 1, 0, 1, 1, 1, 1, 0, 1, 1, 1, 1, 1, 1, 1,\n",
              "        1, 1, 0, 1, 1, 1, 1, 0, 0, 1, 0, 1, 1, 0, 0, 1, 1, 0, 0, 1, 1, 1,\n",
              "        1, 0, 1, 1, 0, 0, 0, 1, 0, 1, 0, 1, 1, 1, 0, 1, 1, 0, 0, 1, 0, 0,\n",
              "        0, 0, 1, 0, 0, 0, 1, 0, 1, 0, 1, 1, 0, 1, 0, 0, 0, 0, 1, 1, 0, 0,\n",
              "        1, 1, 1, 0, 1, 1, 1, 1, 1, 0, 0, 1, 1, 0, 1, 1, 0, 0, 1, 0, 1, 1,\n",
              "        1, 1, 0, 1, 1, 1, 1, 1, 0, 1, 0, 0, 0, 0, 0, 0, 0, 0, 0, 0, 0, 0,\n",
              "        0, 0, 1, 1, 1, 1, 1, 1, 0, 1, 0, 1, 1, 0, 1, 1, 0, 1, 0, 0, 1, 1,\n",
              "        1, 1, 1, 1, 1, 1, 1, 1, 1, 1, 1, 0, 1, 1, 0, 1, 0, 1, 1, 1, 1, 1,\n",
              "        1, 1, 1, 1, 1, 1, 1, 1, 1, 0, 1, 1, 1, 0, 1, 0, 1, 1, 1, 1, 0, 0,\n",
              "        0, 1, 1, 1, 1, 0, 1, 0, 1, 0, 1, 1, 1, 0, 1, 1, 1, 1, 1, 1, 1, 0,\n",
              "        0, 0, 1, 1, 1, 1, 1, 1, 1, 1, 1, 1, 1, 0, 0, 1, 0, 0, 0, 1, 0, 0,\n",
              "        1, 1, 1, 1, 1, 0, 1, 1, 1, 1, 1, 0, 1, 1, 1, 0, 1, 1, 0, 0, 1, 1,\n",
              "        1, 1, 1, 1, 0, 1, 1, 1, 1, 1, 1, 1, 0, 1, 1, 1, 1, 1, 0, 1, 1, 0,\n",
              "        1, 1, 1, 1, 1, 1, 1, 1, 1, 1, 1, 1, 0, 1, 0, 0, 1, 0, 1, 1, 1, 1,\n",
              "        1, 0, 1, 1, 0, 1, 0, 1, 1, 0, 1, 0, 1, 1, 1, 1, 1, 1, 1, 1, 0, 0,\n",
              "        1, 1, 1, 1, 1, 1, 0, 1, 1, 1, 1, 1, 1, 1, 1, 1, 1, 0, 1, 1, 1, 1,\n",
              "        1, 1, 1, 0, 1, 0, 1, 1, 0, 1, 1, 1, 1, 1, 0, 0, 1, 0, 1, 0, 1, 1,\n",
              "        1, 1, 1, 0, 1, 1, 0, 1, 0, 1, 0, 0, 1, 1, 1, 0, 1, 1, 1, 1, 1, 1,\n",
              "        1, 1, 1, 1, 1, 0, 1, 0, 0, 1, 1, 1, 1, 1, 1, 1, 1, 1, 1, 1, 1, 1,\n",
              "        1, 1, 1, 1, 1, 1, 1, 1, 1, 1, 1, 1, 0, 0, 0, 0, 0, 0, 1]),\n",
              " 'target_names': array(['malignant', 'benign'], dtype='<U9')}"
            ]
          },
          "metadata": {},
          "execution_count": 3
        }
      ]
    },
    {
      "cell_type": "code",
      "source": [
        "## dataframe 생성\n",
        "cancer_df = pd.DataFrame(data=dataset.data, columns=dataset.feature_names)\n",
        "\n",
        "## 로드한 데이터셋 확인\n",
        "print('len data:', len(cancer_df))\n",
        "cancer_df.head(5)"
      ],
      "metadata": {
        "colab": {
          "base_uri": "https://localhost:8080/",
          "height": 333
        },
        "id": "zNVcyon0XAOb",
        "outputId": "6531a547-704e-408f-b2ea-67398cbb4a20"
      },
      "execution_count": 5,
      "outputs": [
        {
          "output_type": "stream",
          "name": "stdout",
          "text": [
            "len data: 569\n"
          ]
        },
        {
          "output_type": "execute_result",
          "data": {
            "text/plain": [
              "   mean radius  mean texture  mean perimeter  mean area  mean smoothness  \\\n",
              "0        17.99         10.38          122.80     1001.0          0.11840   \n",
              "1        20.57         17.77          132.90     1326.0          0.08474   \n",
              "2        19.69         21.25          130.00     1203.0          0.10960   \n",
              "3        11.42         20.38           77.58      386.1          0.14250   \n",
              "4        20.29         14.34          135.10     1297.0          0.10030   \n",
              "\n",
              "   mean compactness  mean concavity  mean concave points  mean symmetry  \\\n",
              "0           0.27760          0.3001              0.14710         0.2419   \n",
              "1           0.07864          0.0869              0.07017         0.1812   \n",
              "2           0.15990          0.1974              0.12790         0.2069   \n",
              "3           0.28390          0.2414              0.10520         0.2597   \n",
              "4           0.13280          0.1980              0.10430         0.1809   \n",
              "\n",
              "   mean fractal dimension  ...  worst radius  worst texture  worst perimeter  \\\n",
              "0                 0.07871  ...         25.38          17.33           184.60   \n",
              "1                 0.05667  ...         24.99          23.41           158.80   \n",
              "2                 0.05999  ...         23.57          25.53           152.50   \n",
              "3                 0.09744  ...         14.91          26.50            98.87   \n",
              "4                 0.05883  ...         22.54          16.67           152.20   \n",
              "\n",
              "   worst area  worst smoothness  worst compactness  worst concavity  \\\n",
              "0      2019.0            0.1622             0.6656           0.7119   \n",
              "1      1956.0            0.1238             0.1866           0.2416   \n",
              "2      1709.0            0.1444             0.4245           0.4504   \n",
              "3       567.7            0.2098             0.8663           0.6869   \n",
              "4      1575.0            0.1374             0.2050           0.4000   \n",
              "\n",
              "   worst concave points  worst symmetry  worst fractal dimension  \n",
              "0                0.2654          0.4601                  0.11890  \n",
              "1                0.1860          0.2750                  0.08902  \n",
              "2                0.2430          0.3613                  0.08758  \n",
              "3                0.2575          0.6638                  0.17300  \n",
              "4                0.1625          0.2364                  0.07678  \n",
              "\n",
              "[5 rows x 30 columns]"
            ],
            "text/html": [
              "\n",
              "  <div id=\"df-37135584-bad0-48ba-bc45-e09019e22c7b\">\n",
              "    <div class=\"colab-df-container\">\n",
              "      <div>\n",
              "<style scoped>\n",
              "    .dataframe tbody tr th:only-of-type {\n",
              "        vertical-align: middle;\n",
              "    }\n",
              "\n",
              "    .dataframe tbody tr th {\n",
              "        vertical-align: top;\n",
              "    }\n",
              "\n",
              "    .dataframe thead th {\n",
              "        text-align: right;\n",
              "    }\n",
              "</style>\n",
              "<table border=\"1\" class=\"dataframe\">\n",
              "  <thead>\n",
              "    <tr style=\"text-align: right;\">\n",
              "      <th></th>\n",
              "      <th>mean radius</th>\n",
              "      <th>mean texture</th>\n",
              "      <th>mean perimeter</th>\n",
              "      <th>mean area</th>\n",
              "      <th>mean smoothness</th>\n",
              "      <th>mean compactness</th>\n",
              "      <th>mean concavity</th>\n",
              "      <th>mean concave points</th>\n",
              "      <th>mean symmetry</th>\n",
              "      <th>mean fractal dimension</th>\n",
              "      <th>...</th>\n",
              "      <th>worst radius</th>\n",
              "      <th>worst texture</th>\n",
              "      <th>worst perimeter</th>\n",
              "      <th>worst area</th>\n",
              "      <th>worst smoothness</th>\n",
              "      <th>worst compactness</th>\n",
              "      <th>worst concavity</th>\n",
              "      <th>worst concave points</th>\n",
              "      <th>worst symmetry</th>\n",
              "      <th>worst fractal dimension</th>\n",
              "    </tr>\n",
              "  </thead>\n",
              "  <tbody>\n",
              "    <tr>\n",
              "      <th>0</th>\n",
              "      <td>17.99</td>\n",
              "      <td>10.38</td>\n",
              "      <td>122.80</td>\n",
              "      <td>1001.0</td>\n",
              "      <td>0.11840</td>\n",
              "      <td>0.27760</td>\n",
              "      <td>0.3001</td>\n",
              "      <td>0.14710</td>\n",
              "      <td>0.2419</td>\n",
              "      <td>0.07871</td>\n",
              "      <td>...</td>\n",
              "      <td>25.38</td>\n",
              "      <td>17.33</td>\n",
              "      <td>184.60</td>\n",
              "      <td>2019.0</td>\n",
              "      <td>0.1622</td>\n",
              "      <td>0.6656</td>\n",
              "      <td>0.7119</td>\n",
              "      <td>0.2654</td>\n",
              "      <td>0.4601</td>\n",
              "      <td>0.11890</td>\n",
              "    </tr>\n",
              "    <tr>\n",
              "      <th>1</th>\n",
              "      <td>20.57</td>\n",
              "      <td>17.77</td>\n",
              "      <td>132.90</td>\n",
              "      <td>1326.0</td>\n",
              "      <td>0.08474</td>\n",
              "      <td>0.07864</td>\n",
              "      <td>0.0869</td>\n",
              "      <td>0.07017</td>\n",
              "      <td>0.1812</td>\n",
              "      <td>0.05667</td>\n",
              "      <td>...</td>\n",
              "      <td>24.99</td>\n",
              "      <td>23.41</td>\n",
              "      <td>158.80</td>\n",
              "      <td>1956.0</td>\n",
              "      <td>0.1238</td>\n",
              "      <td>0.1866</td>\n",
              "      <td>0.2416</td>\n",
              "      <td>0.1860</td>\n",
              "      <td>0.2750</td>\n",
              "      <td>0.08902</td>\n",
              "    </tr>\n",
              "    <tr>\n",
              "      <th>2</th>\n",
              "      <td>19.69</td>\n",
              "      <td>21.25</td>\n",
              "      <td>130.00</td>\n",
              "      <td>1203.0</td>\n",
              "      <td>0.10960</td>\n",
              "      <td>0.15990</td>\n",
              "      <td>0.1974</td>\n",
              "      <td>0.12790</td>\n",
              "      <td>0.2069</td>\n",
              "      <td>0.05999</td>\n",
              "      <td>...</td>\n",
              "      <td>23.57</td>\n",
              "      <td>25.53</td>\n",
              "      <td>152.50</td>\n",
              "      <td>1709.0</td>\n",
              "      <td>0.1444</td>\n",
              "      <td>0.4245</td>\n",
              "      <td>0.4504</td>\n",
              "      <td>0.2430</td>\n",
              "      <td>0.3613</td>\n",
              "      <td>0.08758</td>\n",
              "    </tr>\n",
              "    <tr>\n",
              "      <th>3</th>\n",
              "      <td>11.42</td>\n",
              "      <td>20.38</td>\n",
              "      <td>77.58</td>\n",
              "      <td>386.1</td>\n",
              "      <td>0.14250</td>\n",
              "      <td>0.28390</td>\n",
              "      <td>0.2414</td>\n",
              "      <td>0.10520</td>\n",
              "      <td>0.2597</td>\n",
              "      <td>0.09744</td>\n",
              "      <td>...</td>\n",
              "      <td>14.91</td>\n",
              "      <td>26.50</td>\n",
              "      <td>98.87</td>\n",
              "      <td>567.7</td>\n",
              "      <td>0.2098</td>\n",
              "      <td>0.8663</td>\n",
              "      <td>0.6869</td>\n",
              "      <td>0.2575</td>\n",
              "      <td>0.6638</td>\n",
              "      <td>0.17300</td>\n",
              "    </tr>\n",
              "    <tr>\n",
              "      <th>4</th>\n",
              "      <td>20.29</td>\n",
              "      <td>14.34</td>\n",
              "      <td>135.10</td>\n",
              "      <td>1297.0</td>\n",
              "      <td>0.10030</td>\n",
              "      <td>0.13280</td>\n",
              "      <td>0.1980</td>\n",
              "      <td>0.10430</td>\n",
              "      <td>0.1809</td>\n",
              "      <td>0.05883</td>\n",
              "      <td>...</td>\n",
              "      <td>22.54</td>\n",
              "      <td>16.67</td>\n",
              "      <td>152.20</td>\n",
              "      <td>1575.0</td>\n",
              "      <td>0.1374</td>\n",
              "      <td>0.2050</td>\n",
              "      <td>0.4000</td>\n",
              "      <td>0.1625</td>\n",
              "      <td>0.2364</td>\n",
              "      <td>0.07678</td>\n",
              "    </tr>\n",
              "  </tbody>\n",
              "</table>\n",
              "<p>5 rows × 30 columns</p>\n",
              "</div>\n",
              "      <button class=\"colab-df-convert\" onclick=\"convertToInteractive('df-37135584-bad0-48ba-bc45-e09019e22c7b')\"\n",
              "              title=\"Convert this dataframe to an interactive table.\"\n",
              "              style=\"display:none;\">\n",
              "        \n",
              "  <svg xmlns=\"http://www.w3.org/2000/svg\" height=\"24px\"viewBox=\"0 0 24 24\"\n",
              "       width=\"24px\">\n",
              "    <path d=\"M0 0h24v24H0V0z\" fill=\"none\"/>\n",
              "    <path d=\"M18.56 5.44l.94 2.06.94-2.06 2.06-.94-2.06-.94-.94-2.06-.94 2.06-2.06.94zm-11 1L8.5 8.5l.94-2.06 2.06-.94-2.06-.94L8.5 2.5l-.94 2.06-2.06.94zm10 10l.94 2.06.94-2.06 2.06-.94-2.06-.94-.94-2.06-.94 2.06-2.06.94z\"/><path d=\"M17.41 7.96l-1.37-1.37c-.4-.4-.92-.59-1.43-.59-.52 0-1.04.2-1.43.59L10.3 9.45l-7.72 7.72c-.78.78-.78 2.05 0 2.83L4 21.41c.39.39.9.59 1.41.59.51 0 1.02-.2 1.41-.59l7.78-7.78 2.81-2.81c.8-.78.8-2.07 0-2.86zM5.41 20L4 18.59l7.72-7.72 1.47 1.35L5.41 20z\"/>\n",
              "  </svg>\n",
              "      </button>\n",
              "      \n",
              "  <style>\n",
              "    .colab-df-container {\n",
              "      display:flex;\n",
              "      flex-wrap:wrap;\n",
              "      gap: 12px;\n",
              "    }\n",
              "\n",
              "    .colab-df-convert {\n",
              "      background-color: #E8F0FE;\n",
              "      border: none;\n",
              "      border-radius: 50%;\n",
              "      cursor: pointer;\n",
              "      display: none;\n",
              "      fill: #1967D2;\n",
              "      height: 32px;\n",
              "      padding: 0 0 0 0;\n",
              "      width: 32px;\n",
              "    }\n",
              "\n",
              "    .colab-df-convert:hover {\n",
              "      background-color: #E2EBFA;\n",
              "      box-shadow: 0px 1px 2px rgba(60, 64, 67, 0.3), 0px 1px 3px 1px rgba(60, 64, 67, 0.15);\n",
              "      fill: #174EA6;\n",
              "    }\n",
              "\n",
              "    [theme=dark] .colab-df-convert {\n",
              "      background-color: #3B4455;\n",
              "      fill: #D2E3FC;\n",
              "    }\n",
              "\n",
              "    [theme=dark] .colab-df-convert:hover {\n",
              "      background-color: #434B5C;\n",
              "      box-shadow: 0px 1px 3px 1px rgba(0, 0, 0, 0.15);\n",
              "      filter: drop-shadow(0px 1px 2px rgba(0, 0, 0, 0.3));\n",
              "      fill: #FFFFFF;\n",
              "    }\n",
              "  </style>\n",
              "\n",
              "      <script>\n",
              "        const buttonEl =\n",
              "          document.querySelector('#df-37135584-bad0-48ba-bc45-e09019e22c7b button.colab-df-convert');\n",
              "        buttonEl.style.display =\n",
              "          google.colab.kernel.accessAllowed ? 'block' : 'none';\n",
              "\n",
              "        async function convertToInteractive(key) {\n",
              "          const element = document.querySelector('#df-37135584-bad0-48ba-bc45-e09019e22c7b');\n",
              "          const dataTable =\n",
              "            await google.colab.kernel.invokeFunction('convertToInteractive',\n",
              "                                                     [key], {});\n",
              "          if (!dataTable) return;\n",
              "\n",
              "          const docLinkHtml = 'Like what you see? Visit the ' +\n",
              "            '<a target=\"_blank\" href=https://colab.research.google.com/notebooks/data_table.ipynb>data table notebook</a>'\n",
              "            + ' to learn more about interactive tables.';\n",
              "          element.innerHTML = '';\n",
              "          dataTable['output_type'] = 'display_data';\n",
              "          await google.colab.output.renderOutput(dataTable, element);\n",
              "          const docLink = document.createElement('div');\n",
              "          docLink.innerHTML = docLinkHtml;\n",
              "          element.appendChild(docLink);\n",
              "        }\n",
              "      </script>\n",
              "    </div>\n",
              "  </div>\n",
              "  "
            ]
          },
          "metadata": {},
          "execution_count": 5
        }
      ]
    },
    {
      "cell_type": "code",
      "source": [
        "## dataframe에 레이블 열 추가\n",
        "cancer_df['target'] = dataset.target\n",
        "cancer_df.head(5)"
      ],
      "metadata": {
        "colab": {
          "base_uri": "https://localhost:8080/",
          "height": 314
        },
        "id": "0kgvwNGXXXg9",
        "outputId": "e50a2514-b971-4efd-8602-77c3fcee0a4c"
      },
      "execution_count": 6,
      "outputs": [
        {
          "output_type": "execute_result",
          "data": {
            "text/plain": [
              "   mean radius  mean texture  mean perimeter  mean area  mean smoothness  \\\n",
              "0        17.99         10.38          122.80     1001.0          0.11840   \n",
              "1        20.57         17.77          132.90     1326.0          0.08474   \n",
              "2        19.69         21.25          130.00     1203.0          0.10960   \n",
              "3        11.42         20.38           77.58      386.1          0.14250   \n",
              "4        20.29         14.34          135.10     1297.0          0.10030   \n",
              "\n",
              "   mean compactness  mean concavity  mean concave points  mean symmetry  \\\n",
              "0           0.27760          0.3001              0.14710         0.2419   \n",
              "1           0.07864          0.0869              0.07017         0.1812   \n",
              "2           0.15990          0.1974              0.12790         0.2069   \n",
              "3           0.28390          0.2414              0.10520         0.2597   \n",
              "4           0.13280          0.1980              0.10430         0.1809   \n",
              "\n",
              "   mean fractal dimension  ...  worst texture  worst perimeter  worst area  \\\n",
              "0                 0.07871  ...          17.33           184.60      2019.0   \n",
              "1                 0.05667  ...          23.41           158.80      1956.0   \n",
              "2                 0.05999  ...          25.53           152.50      1709.0   \n",
              "3                 0.09744  ...          26.50            98.87       567.7   \n",
              "4                 0.05883  ...          16.67           152.20      1575.0   \n",
              "\n",
              "   worst smoothness  worst compactness  worst concavity  worst concave points  \\\n",
              "0            0.1622             0.6656           0.7119                0.2654   \n",
              "1            0.1238             0.1866           0.2416                0.1860   \n",
              "2            0.1444             0.4245           0.4504                0.2430   \n",
              "3            0.2098             0.8663           0.6869                0.2575   \n",
              "4            0.1374             0.2050           0.4000                0.1625   \n",
              "\n",
              "   worst symmetry  worst fractal dimension  target  \n",
              "0          0.4601                  0.11890       0  \n",
              "1          0.2750                  0.08902       0  \n",
              "2          0.3613                  0.08758       0  \n",
              "3          0.6638                  0.17300       0  \n",
              "4          0.2364                  0.07678       0  \n",
              "\n",
              "[5 rows x 31 columns]"
            ],
            "text/html": [
              "\n",
              "  <div id=\"df-d6ee4c97-0e65-4b7c-8645-a5fbca5f1d13\">\n",
              "    <div class=\"colab-df-container\">\n",
              "      <div>\n",
              "<style scoped>\n",
              "    .dataframe tbody tr th:only-of-type {\n",
              "        vertical-align: middle;\n",
              "    }\n",
              "\n",
              "    .dataframe tbody tr th {\n",
              "        vertical-align: top;\n",
              "    }\n",
              "\n",
              "    .dataframe thead th {\n",
              "        text-align: right;\n",
              "    }\n",
              "</style>\n",
              "<table border=\"1\" class=\"dataframe\">\n",
              "  <thead>\n",
              "    <tr style=\"text-align: right;\">\n",
              "      <th></th>\n",
              "      <th>mean radius</th>\n",
              "      <th>mean texture</th>\n",
              "      <th>mean perimeter</th>\n",
              "      <th>mean area</th>\n",
              "      <th>mean smoothness</th>\n",
              "      <th>mean compactness</th>\n",
              "      <th>mean concavity</th>\n",
              "      <th>mean concave points</th>\n",
              "      <th>mean symmetry</th>\n",
              "      <th>mean fractal dimension</th>\n",
              "      <th>...</th>\n",
              "      <th>worst texture</th>\n",
              "      <th>worst perimeter</th>\n",
              "      <th>worst area</th>\n",
              "      <th>worst smoothness</th>\n",
              "      <th>worst compactness</th>\n",
              "      <th>worst concavity</th>\n",
              "      <th>worst concave points</th>\n",
              "      <th>worst symmetry</th>\n",
              "      <th>worst fractal dimension</th>\n",
              "      <th>target</th>\n",
              "    </tr>\n",
              "  </thead>\n",
              "  <tbody>\n",
              "    <tr>\n",
              "      <th>0</th>\n",
              "      <td>17.99</td>\n",
              "      <td>10.38</td>\n",
              "      <td>122.80</td>\n",
              "      <td>1001.0</td>\n",
              "      <td>0.11840</td>\n",
              "      <td>0.27760</td>\n",
              "      <td>0.3001</td>\n",
              "      <td>0.14710</td>\n",
              "      <td>0.2419</td>\n",
              "      <td>0.07871</td>\n",
              "      <td>...</td>\n",
              "      <td>17.33</td>\n",
              "      <td>184.60</td>\n",
              "      <td>2019.0</td>\n",
              "      <td>0.1622</td>\n",
              "      <td>0.6656</td>\n",
              "      <td>0.7119</td>\n",
              "      <td>0.2654</td>\n",
              "      <td>0.4601</td>\n",
              "      <td>0.11890</td>\n",
              "      <td>0</td>\n",
              "    </tr>\n",
              "    <tr>\n",
              "      <th>1</th>\n",
              "      <td>20.57</td>\n",
              "      <td>17.77</td>\n",
              "      <td>132.90</td>\n",
              "      <td>1326.0</td>\n",
              "      <td>0.08474</td>\n",
              "      <td>0.07864</td>\n",
              "      <td>0.0869</td>\n",
              "      <td>0.07017</td>\n",
              "      <td>0.1812</td>\n",
              "      <td>0.05667</td>\n",
              "      <td>...</td>\n",
              "      <td>23.41</td>\n",
              "      <td>158.80</td>\n",
              "      <td>1956.0</td>\n",
              "      <td>0.1238</td>\n",
              "      <td>0.1866</td>\n",
              "      <td>0.2416</td>\n",
              "      <td>0.1860</td>\n",
              "      <td>0.2750</td>\n",
              "      <td>0.08902</td>\n",
              "      <td>0</td>\n",
              "    </tr>\n",
              "    <tr>\n",
              "      <th>2</th>\n",
              "      <td>19.69</td>\n",
              "      <td>21.25</td>\n",
              "      <td>130.00</td>\n",
              "      <td>1203.0</td>\n",
              "      <td>0.10960</td>\n",
              "      <td>0.15990</td>\n",
              "      <td>0.1974</td>\n",
              "      <td>0.12790</td>\n",
              "      <td>0.2069</td>\n",
              "      <td>0.05999</td>\n",
              "      <td>...</td>\n",
              "      <td>25.53</td>\n",
              "      <td>152.50</td>\n",
              "      <td>1709.0</td>\n",
              "      <td>0.1444</td>\n",
              "      <td>0.4245</td>\n",
              "      <td>0.4504</td>\n",
              "      <td>0.2430</td>\n",
              "      <td>0.3613</td>\n",
              "      <td>0.08758</td>\n",
              "      <td>0</td>\n",
              "    </tr>\n",
              "    <tr>\n",
              "      <th>3</th>\n",
              "      <td>11.42</td>\n",
              "      <td>20.38</td>\n",
              "      <td>77.58</td>\n",
              "      <td>386.1</td>\n",
              "      <td>0.14250</td>\n",
              "      <td>0.28390</td>\n",
              "      <td>0.2414</td>\n",
              "      <td>0.10520</td>\n",
              "      <td>0.2597</td>\n",
              "      <td>0.09744</td>\n",
              "      <td>...</td>\n",
              "      <td>26.50</td>\n",
              "      <td>98.87</td>\n",
              "      <td>567.7</td>\n",
              "      <td>0.2098</td>\n",
              "      <td>0.8663</td>\n",
              "      <td>0.6869</td>\n",
              "      <td>0.2575</td>\n",
              "      <td>0.6638</td>\n",
              "      <td>0.17300</td>\n",
              "      <td>0</td>\n",
              "    </tr>\n",
              "    <tr>\n",
              "      <th>4</th>\n",
              "      <td>20.29</td>\n",
              "      <td>14.34</td>\n",
              "      <td>135.10</td>\n",
              "      <td>1297.0</td>\n",
              "      <td>0.10030</td>\n",
              "      <td>0.13280</td>\n",
              "      <td>0.1980</td>\n",
              "      <td>0.10430</td>\n",
              "      <td>0.1809</td>\n",
              "      <td>0.05883</td>\n",
              "      <td>...</td>\n",
              "      <td>16.67</td>\n",
              "      <td>152.20</td>\n",
              "      <td>1575.0</td>\n",
              "      <td>0.1374</td>\n",
              "      <td>0.2050</td>\n",
              "      <td>0.4000</td>\n",
              "      <td>0.1625</td>\n",
              "      <td>0.2364</td>\n",
              "      <td>0.07678</td>\n",
              "      <td>0</td>\n",
              "    </tr>\n",
              "  </tbody>\n",
              "</table>\n",
              "<p>5 rows × 31 columns</p>\n",
              "</div>\n",
              "      <button class=\"colab-df-convert\" onclick=\"convertToInteractive('df-d6ee4c97-0e65-4b7c-8645-a5fbca5f1d13')\"\n",
              "              title=\"Convert this dataframe to an interactive table.\"\n",
              "              style=\"display:none;\">\n",
              "        \n",
              "  <svg xmlns=\"http://www.w3.org/2000/svg\" height=\"24px\"viewBox=\"0 0 24 24\"\n",
              "       width=\"24px\">\n",
              "    <path d=\"M0 0h24v24H0V0z\" fill=\"none\"/>\n",
              "    <path d=\"M18.56 5.44l.94 2.06.94-2.06 2.06-.94-2.06-.94-.94-2.06-.94 2.06-2.06.94zm-11 1L8.5 8.5l.94-2.06 2.06-.94-2.06-.94L8.5 2.5l-.94 2.06-2.06.94zm10 10l.94 2.06.94-2.06 2.06-.94-2.06-.94-.94-2.06-.94 2.06-2.06.94z\"/><path d=\"M17.41 7.96l-1.37-1.37c-.4-.4-.92-.59-1.43-.59-.52 0-1.04.2-1.43.59L10.3 9.45l-7.72 7.72c-.78.78-.78 2.05 0 2.83L4 21.41c.39.39.9.59 1.41.59.51 0 1.02-.2 1.41-.59l7.78-7.78 2.81-2.81c.8-.78.8-2.07 0-2.86zM5.41 20L4 18.59l7.72-7.72 1.47 1.35L5.41 20z\"/>\n",
              "  </svg>\n",
              "      </button>\n",
              "      \n",
              "  <style>\n",
              "    .colab-df-container {\n",
              "      display:flex;\n",
              "      flex-wrap:wrap;\n",
              "      gap: 12px;\n",
              "    }\n",
              "\n",
              "    .colab-df-convert {\n",
              "      background-color: #E8F0FE;\n",
              "      border: none;\n",
              "      border-radius: 50%;\n",
              "      cursor: pointer;\n",
              "      display: none;\n",
              "      fill: #1967D2;\n",
              "      height: 32px;\n",
              "      padding: 0 0 0 0;\n",
              "      width: 32px;\n",
              "    }\n",
              "\n",
              "    .colab-df-convert:hover {\n",
              "      background-color: #E2EBFA;\n",
              "      box-shadow: 0px 1px 2px rgba(60, 64, 67, 0.3), 0px 1px 3px 1px rgba(60, 64, 67, 0.15);\n",
              "      fill: #174EA6;\n",
              "    }\n",
              "\n",
              "    [theme=dark] .colab-df-convert {\n",
              "      background-color: #3B4455;\n",
              "      fill: #D2E3FC;\n",
              "    }\n",
              "\n",
              "    [theme=dark] .colab-df-convert:hover {\n",
              "      background-color: #434B5C;\n",
              "      box-shadow: 0px 1px 3px 1px rgba(0, 0, 0, 0.15);\n",
              "      filter: drop-shadow(0px 1px 2px rgba(0, 0, 0, 0.3));\n",
              "      fill: #FFFFFF;\n",
              "    }\n",
              "  </style>\n",
              "\n",
              "      <script>\n",
              "        const buttonEl =\n",
              "          document.querySelector('#df-d6ee4c97-0e65-4b7c-8645-a5fbca5f1d13 button.colab-df-convert');\n",
              "        buttonEl.style.display =\n",
              "          google.colab.kernel.accessAllowed ? 'block' : 'none';\n",
              "\n",
              "        async function convertToInteractive(key) {\n",
              "          const element = document.querySelector('#df-d6ee4c97-0e65-4b7c-8645-a5fbca5f1d13');\n",
              "          const dataTable =\n",
              "            await google.colab.kernel.invokeFunction('convertToInteractive',\n",
              "                                                     [key], {});\n",
              "          if (!dataTable) return;\n",
              "\n",
              "          const docLinkHtml = 'Like what you see? Visit the ' +\n",
              "            '<a target=\"_blank\" href=https://colab.research.google.com/notebooks/data_table.ipynb>data table notebook</a>'\n",
              "            + ' to learn more about interactive tables.';\n",
              "          element.innerHTML = '';\n",
              "          dataTable['output_type'] = 'display_data';\n",
              "          await google.colab.output.renderOutput(dataTable, element);\n",
              "          const docLink = document.createElement('div');\n",
              "          docLink.innerHTML = docLinkHtml;\n",
              "          element.appendChild(docLink);\n",
              "        }\n",
              "      </script>\n",
              "    </div>\n",
              "  </div>\n",
              "  "
            ]
          },
          "metadata": {},
          "execution_count": 6
        }
      ]
    },
    {
      "cell_type": "markdown",
      "source": [
        "## Model"
      ],
      "metadata": {
        "id": "ZDNPMTKtXuDs"
      }
    },
    {
      "cell_type": "code",
      "source": [
        "## dataframe에서 feature과 label 구분\n",
        "X_features = cancer_df.iloc[:, :-1]\n",
        "y_label = cancer_df.iloc[:, -1]\n",
        "\n",
        "## data split => train / test\n",
        "X_train, X_test, y_train, y_test = train_test_split(X_features, y_label, test_size=0.2, random_state=156)\n",
        "\n",
        "## data split => train => train / val\n",
        "X_tr, X_val, y_tr, y_val = train_test_split(X_train, y_train, test_size=0.1, random_state=156)"
      ],
      "metadata": {
        "id": "LPw1nKtMXNsS"
      },
      "execution_count": 8,
      "outputs": []
    },
    {
      "cell_type": "code",
      "source": [
        "## lgbm model\n",
        "lgbm_wrapper = LGBMClassifier(n_estimators=400, learning_rate=0.05) ## 400번 epochs, lr = 0.05 지정"
      ],
      "metadata": {
        "id": "UD83UYyQYcad"
      },
      "execution_count": 9,
      "outputs": []
    },
    {
      "cell_type": "code",
      "source": [
        "## learly stopping\n",
        "evals = [(X_tr, y_tr), (X_val, y_val)]"
      ],
      "metadata": {
        "id": "xT7-q3JjZMhS"
      },
      "execution_count": 10,
      "outputs": []
    },
    {
      "cell_type": "markdown",
      "source": [
        "## Train"
      ],
      "metadata": {
        "id": "-Axz1wTMZX3A"
      }
    },
    {
      "cell_type": "code",
      "source": [
        "## model_training => early stopping으로 인해 조기 중단됨\n",
        "lgbm_wrapper.fit(X_tr, y_tr,\n",
        "                 early_stopping_rounds=50,\n",
        "                 eval_metric=\"logloss\",\n",
        "                 eval_set=evals,\n",
        "                 verbose=True\n",
        "                 )"
      ],
      "metadata": {
        "colab": {
          "base_uri": "https://localhost:8080/"
        },
        "id": "QHWWkvjEZVhz",
        "outputId": "a7356b56-ab21-4bf1-b41e-504d3e15de68"
      },
      "execution_count": 11,
      "outputs": [
        {
          "output_type": "stream",
          "name": "stdout",
          "text": [
            "[1]\ttraining's binary_logloss: 0.625671\ttraining's binary_logloss: 0.625671\tvalid_1's binary_logloss: 0.628248\tvalid_1's binary_logloss: 0.628248\n",
            "Training until validation scores don't improve for 50 rounds.\n",
            "[2]\ttraining's binary_logloss: 0.588173\ttraining's binary_logloss: 0.588173\tvalid_1's binary_logloss: 0.601106\tvalid_1's binary_logloss: 0.601106\n",
            "[3]\ttraining's binary_logloss: 0.554518\ttraining's binary_logloss: 0.554518\tvalid_1's binary_logloss: 0.577587\tvalid_1's binary_logloss: 0.577587\n",
            "[4]\ttraining's binary_logloss: 0.523972\ttraining's binary_logloss: 0.523972\tvalid_1's binary_logloss: 0.556324\tvalid_1's binary_logloss: 0.556324\n",
            "[5]\ttraining's binary_logloss: 0.49615\ttraining's binary_logloss: 0.49615\tvalid_1's binary_logloss: 0.537407\tvalid_1's binary_logloss: 0.537407\n",
            "[6]\ttraining's binary_logloss: 0.470108\ttraining's binary_logloss: 0.470108\tvalid_1's binary_logloss: 0.519401\tvalid_1's binary_logloss: 0.519401\n",
            "[7]\ttraining's binary_logloss: 0.446647\ttraining's binary_logloss: 0.446647\tvalid_1's binary_logloss: 0.502637\tvalid_1's binary_logloss: 0.502637\n",
            "[8]\ttraining's binary_logloss: 0.425055\ttraining's binary_logloss: 0.425055\tvalid_1's binary_logloss: 0.488311\tvalid_1's binary_logloss: 0.488311\n",
            "[9]\ttraining's binary_logloss: 0.405125\ttraining's binary_logloss: 0.405125\tvalid_1's binary_logloss: 0.474664\tvalid_1's binary_logloss: 0.474664\n",
            "[10]\ttraining's binary_logloss: 0.386692\ttraining's binary_logloss: 0.386692\tvalid_1's binary_logloss: 0.462832\tvalid_1's binary_logloss: 0.462832\n",
            "[11]\ttraining's binary_logloss: 0.368104\ttraining's binary_logloss: 0.368104\tvalid_1's binary_logloss: 0.449734\tvalid_1's binary_logloss: 0.449734\n",
            "[12]\ttraining's binary_logloss: 0.351335\ttraining's binary_logloss: 0.351335\tvalid_1's binary_logloss: 0.439108\tvalid_1's binary_logloss: 0.439108\n",
            "[13]\ttraining's binary_logloss: 0.336106\ttraining's binary_logloss: 0.336106\tvalid_1's binary_logloss: 0.428432\tvalid_1's binary_logloss: 0.428432\n",
            "[14]\ttraining's binary_logloss: 0.320995\ttraining's binary_logloss: 0.320995\tvalid_1's binary_logloss: 0.417674\tvalid_1's binary_logloss: 0.417674\n",
            "[15]\ttraining's binary_logloss: 0.30764\ttraining's binary_logloss: 0.30764\tvalid_1's binary_logloss: 0.408427\tvalid_1's binary_logloss: 0.408427\n",
            "[16]\ttraining's binary_logloss: 0.29427\ttraining's binary_logloss: 0.29427\tvalid_1's binary_logloss: 0.399502\tvalid_1's binary_logloss: 0.399502\n",
            "[17]\ttraining's binary_logloss: 0.282032\ttraining's binary_logloss: 0.282032\tvalid_1's binary_logloss: 0.390328\tvalid_1's binary_logloss: 0.390328\n",
            "[18]\ttraining's binary_logloss: 0.270264\ttraining's binary_logloss: 0.270264\tvalid_1's binary_logloss: 0.382869\tvalid_1's binary_logloss: 0.382869\n",
            "[19]\ttraining's binary_logloss: 0.259865\ttraining's binary_logloss: 0.259865\tvalid_1's binary_logloss: 0.376094\tvalid_1's binary_logloss: 0.376094\n",
            "[20]\ttraining's binary_logloss: 0.249393\ttraining's binary_logloss: 0.249393\tvalid_1's binary_logloss: 0.368958\tvalid_1's binary_logloss: 0.368958\n",
            "[21]\ttraining's binary_logloss: 0.239551\ttraining's binary_logloss: 0.239551\tvalid_1's binary_logloss: 0.362996\tvalid_1's binary_logloss: 0.362996\n",
            "[22]\ttraining's binary_logloss: 0.230561\ttraining's binary_logloss: 0.230561\tvalid_1's binary_logloss: 0.356303\tvalid_1's binary_logloss: 0.356303\n",
            "[23]\ttraining's binary_logloss: 0.221717\ttraining's binary_logloss: 0.221717\tvalid_1's binary_logloss: 0.350425\tvalid_1's binary_logloss: 0.350425\n",
            "[24]\ttraining's binary_logloss: 0.212816\ttraining's binary_logloss: 0.212816\tvalid_1's binary_logloss: 0.344838\tvalid_1's binary_logloss: 0.344838\n",
            "[25]\ttraining's binary_logloss: 0.204907\ttraining's binary_logloss: 0.204907\tvalid_1's binary_logloss: 0.339484\tvalid_1's binary_logloss: 0.339484\n",
            "[26]\ttraining's binary_logloss: 0.197838\ttraining's binary_logloss: 0.197838\tvalid_1's binary_logloss: 0.334541\tvalid_1's binary_logloss: 0.334541\n",
            "[27]\ttraining's binary_logloss: 0.190576\ttraining's binary_logloss: 0.190576\tvalid_1's binary_logloss: 0.330859\tvalid_1's binary_logloss: 0.330859\n",
            "[28]\ttraining's binary_logloss: 0.183529\ttraining's binary_logloss: 0.183529\tvalid_1's binary_logloss: 0.326574\tvalid_1's binary_logloss: 0.326574\n",
            "[29]\ttraining's binary_logloss: 0.177072\ttraining's binary_logloss: 0.177072\tvalid_1's binary_logloss: 0.323247\tvalid_1's binary_logloss: 0.323247\n",
            "[30]\ttraining's binary_logloss: 0.170475\ttraining's binary_logloss: 0.170475\tvalid_1's binary_logloss: 0.318499\tvalid_1's binary_logloss: 0.318499\n",
            "[31]\ttraining's binary_logloss: 0.164027\ttraining's binary_logloss: 0.164027\tvalid_1's binary_logloss: 0.314283\tvalid_1's binary_logloss: 0.314283\n",
            "[32]\ttraining's binary_logloss: 0.157348\ttraining's binary_logloss: 0.157348\tvalid_1's binary_logloss: 0.308474\tvalid_1's binary_logloss: 0.308474\n",
            "[33]\ttraining's binary_logloss: 0.151619\ttraining's binary_logloss: 0.151619\tvalid_1's binary_logloss: 0.305302\tvalid_1's binary_logloss: 0.305302\n",
            "[34]\ttraining's binary_logloss: 0.146629\ttraining's binary_logloss: 0.146629\tvalid_1's binary_logloss: 0.300947\tvalid_1's binary_logloss: 0.300947\n",
            "[35]\ttraining's binary_logloss: 0.140405\ttraining's binary_logloss: 0.140405\tvalid_1's binary_logloss: 0.295637\tvalid_1's binary_logloss: 0.295637\n",
            "[36]\ttraining's binary_logloss: 0.135479\ttraining's binary_logloss: 0.135479\tvalid_1's binary_logloss: 0.292359\tvalid_1's binary_logloss: 0.292359\n",
            "[37]\ttraining's binary_logloss: 0.130699\ttraining's binary_logloss: 0.130699\tvalid_1's binary_logloss: 0.290556\tvalid_1's binary_logloss: 0.290556\n",
            "[38]\ttraining's binary_logloss: 0.125331\ttraining's binary_logloss: 0.125331\tvalid_1's binary_logloss: 0.286204\tvalid_1's binary_logloss: 0.286204\n",
            "[39]\ttraining's binary_logloss: 0.120528\ttraining's binary_logloss: 0.120528\tvalid_1's binary_logloss: 0.283481\tvalid_1's binary_logloss: 0.283481\n",
            "[40]\ttraining's binary_logloss: 0.116025\ttraining's binary_logloss: 0.116025\tvalid_1's binary_logloss: 0.28006\tvalid_1's binary_logloss: 0.28006\n",
            "[41]\ttraining's binary_logloss: 0.111562\ttraining's binary_logloss: 0.111562\tvalid_1's binary_logloss: 0.277637\tvalid_1's binary_logloss: 0.277637\n",
            "[42]\ttraining's binary_logloss: 0.1079\ttraining's binary_logloss: 0.1079\tvalid_1's binary_logloss: 0.274847\tvalid_1's binary_logloss: 0.274847\n",
            "[43]\ttraining's binary_logloss: 0.103859\ttraining's binary_logloss: 0.103859\tvalid_1's binary_logloss: 0.272859\tvalid_1's binary_logloss: 0.272859\n",
            "[44]\ttraining's binary_logloss: 0.100138\ttraining's binary_logloss: 0.100138\tvalid_1's binary_logloss: 0.270262\tvalid_1's binary_logloss: 0.270262\n",
            "[45]\ttraining's binary_logloss: 0.0963746\ttraining's binary_logloss: 0.0963746\tvalid_1's binary_logloss: 0.268073\tvalid_1's binary_logloss: 0.268073\n",
            "[46]\ttraining's binary_logloss: 0.0929572\ttraining's binary_logloss: 0.0929572\tvalid_1's binary_logloss: 0.26671\tvalid_1's binary_logloss: 0.26671\n",
            "[47]\ttraining's binary_logloss: 0.0899324\ttraining's binary_logloss: 0.0899324\tvalid_1's binary_logloss: 0.263785\tvalid_1's binary_logloss: 0.263785\n",
            "[48]\ttraining's binary_logloss: 0.0873289\ttraining's binary_logloss: 0.0873289\tvalid_1's binary_logloss: 0.263664\tvalid_1's binary_logloss: 0.263664\n",
            "[49]\ttraining's binary_logloss: 0.0840183\ttraining's binary_logloss: 0.0840183\tvalid_1's binary_logloss: 0.262173\tvalid_1's binary_logloss: 0.262173\n",
            "[50]\ttraining's binary_logloss: 0.080903\ttraining's binary_logloss: 0.080903\tvalid_1's binary_logloss: 0.260928\tvalid_1's binary_logloss: 0.260928\n",
            "[51]\ttraining's binary_logloss: 0.0783652\ttraining's binary_logloss: 0.0783652\tvalid_1's binary_logloss: 0.258393\tvalid_1's binary_logloss: 0.258393\n",
            "[52]\ttraining's binary_logloss: 0.075536\ttraining's binary_logloss: 0.075536\tvalid_1's binary_logloss: 0.257425\tvalid_1's binary_logloss: 0.257425\n",
            "[53]\ttraining's binary_logloss: 0.0728163\ttraining's binary_logloss: 0.0728163\tvalid_1's binary_logloss: 0.259037\tvalid_1's binary_logloss: 0.259037\n",
            "[54]\ttraining's binary_logloss: 0.0702634\ttraining's binary_logloss: 0.0702634\tvalid_1's binary_logloss: 0.258369\tvalid_1's binary_logloss: 0.258369\n",
            "[55]\ttraining's binary_logloss: 0.0676698\ttraining's binary_logloss: 0.0676698\tvalid_1's binary_logloss: 0.258996\tvalid_1's binary_logloss: 0.258996\n",
            "[56]\ttraining's binary_logloss: 0.0654293\ttraining's binary_logloss: 0.0654293\tvalid_1's binary_logloss: 0.259331\tvalid_1's binary_logloss: 0.259331\n",
            "[57]\ttraining's binary_logloss: 0.0632096\ttraining's binary_logloss: 0.0632096\tvalid_1's binary_logloss: 0.259006\tvalid_1's binary_logloss: 0.259006\n",
            "[58]\ttraining's binary_logloss: 0.0612077\ttraining's binary_logloss: 0.0612077\tvalid_1's binary_logloss: 0.259286\tvalid_1's binary_logloss: 0.259286\n",
            "[59]\ttraining's binary_logloss: 0.0591513\ttraining's binary_logloss: 0.0591513\tvalid_1's binary_logloss: 0.257202\tvalid_1's binary_logloss: 0.257202\n",
            "[60]\ttraining's binary_logloss: 0.0572088\ttraining's binary_logloss: 0.0572088\tvalid_1's binary_logloss: 0.257168\tvalid_1's binary_logloss: 0.257168\n",
            "[61]\ttraining's binary_logloss: 0.0551987\ttraining's binary_logloss: 0.0551987\tvalid_1's binary_logloss: 0.258305\tvalid_1's binary_logloss: 0.258305\n",
            "[62]\ttraining's binary_logloss: 0.0534423\ttraining's binary_logloss: 0.0534423\tvalid_1's binary_logloss: 0.258397\tvalid_1's binary_logloss: 0.258397\n",
            "[63]\ttraining's binary_logloss: 0.0516793\ttraining's binary_logloss: 0.0516793\tvalid_1's binary_logloss: 0.2596\tvalid_1's binary_logloss: 0.2596\n",
            "[64]\ttraining's binary_logloss: 0.0500622\ttraining's binary_logloss: 0.0500622\tvalid_1's binary_logloss: 0.26049\tvalid_1's binary_logloss: 0.26049\n",
            "[65]\ttraining's binary_logloss: 0.0485234\ttraining's binary_logloss: 0.0485234\tvalid_1's binary_logloss: 0.260826\tvalid_1's binary_logloss: 0.260826\n",
            "[66]\ttraining's binary_logloss: 0.0470319\ttraining's binary_logloss: 0.0470319\tvalid_1's binary_logloss: 0.260881\tvalid_1's binary_logloss: 0.260881\n",
            "[67]\ttraining's binary_logloss: 0.0456247\ttraining's binary_logloss: 0.0456247\tvalid_1's binary_logloss: 0.260966\tvalid_1's binary_logloss: 0.260966\n",
            "[68]\ttraining's binary_logloss: 0.0441293\ttraining's binary_logloss: 0.0441293\tvalid_1's binary_logloss: 0.262592\tvalid_1's binary_logloss: 0.262592\n",
            "[69]\ttraining's binary_logloss: 0.0428474\ttraining's binary_logloss: 0.0428474\tvalid_1's binary_logloss: 0.262805\tvalid_1's binary_logloss: 0.262805\n",
            "[70]\ttraining's binary_logloss: 0.0413116\ttraining's binary_logloss: 0.0413116\tvalid_1's binary_logloss: 0.265159\tvalid_1's binary_logloss: 0.265159\n",
            "[71]\ttraining's binary_logloss: 0.0398938\ttraining's binary_logloss: 0.0398938\tvalid_1's binary_logloss: 0.263591\tvalid_1's binary_logloss: 0.263591\n",
            "[72]\ttraining's binary_logloss: 0.0385006\ttraining's binary_logloss: 0.0385006\tvalid_1's binary_logloss: 0.266054\tvalid_1's binary_logloss: 0.266054\n",
            "[73]\ttraining's binary_logloss: 0.0373165\ttraining's binary_logloss: 0.0373165\tvalid_1's binary_logloss: 0.264878\tvalid_1's binary_logloss: 0.264878\n",
            "[74]\ttraining's binary_logloss: 0.0360691\ttraining's binary_logloss: 0.0360691\tvalid_1's binary_logloss: 0.263518\tvalid_1's binary_logloss: 0.263518\n",
            "[75]\ttraining's binary_logloss: 0.0347598\ttraining's binary_logloss: 0.0347598\tvalid_1's binary_logloss: 0.263714\tvalid_1's binary_logloss: 0.263714\n",
            "[76]\ttraining's binary_logloss: 0.0334923\ttraining's binary_logloss: 0.0334923\tvalid_1's binary_logloss: 0.261344\tvalid_1's binary_logloss: 0.261344\n",
            "[77]\ttraining's binary_logloss: 0.0323656\ttraining's binary_logloss: 0.0323656\tvalid_1's binary_logloss: 0.263967\tvalid_1's binary_logloss: 0.263967\n",
            "[78]\ttraining's binary_logloss: 0.0312561\ttraining's binary_logloss: 0.0312561\tvalid_1's binary_logloss: 0.26418\tvalid_1's binary_logloss: 0.26418\n",
            "[79]\ttraining's binary_logloss: 0.0302011\ttraining's binary_logloss: 0.0302011\tvalid_1's binary_logloss: 0.266129\tvalid_1's binary_logloss: 0.266129\n",
            "[80]\ttraining's binary_logloss: 0.0291182\ttraining's binary_logloss: 0.0291182\tvalid_1's binary_logloss: 0.263931\tvalid_1's binary_logloss: 0.263931\n",
            "[81]\ttraining's binary_logloss: 0.0281474\ttraining's binary_logloss: 0.0281474\tvalid_1's binary_logloss: 0.264391\tvalid_1's binary_logloss: 0.264391\n",
            "[82]\ttraining's binary_logloss: 0.0272388\ttraining's binary_logloss: 0.0272388\tvalid_1's binary_logloss: 0.267166\tvalid_1's binary_logloss: 0.267166\n",
            "[83]\ttraining's binary_logloss: 0.0262836\ttraining's binary_logloss: 0.0262836\tvalid_1's binary_logloss: 0.265115\tvalid_1's binary_logloss: 0.265115\n",
            "[84]\ttraining's binary_logloss: 0.0254321\ttraining's binary_logloss: 0.0254321\tvalid_1's binary_logloss: 0.267202\tvalid_1's binary_logloss: 0.267202\n",
            "[85]\ttraining's binary_logloss: 0.0245613\ttraining's binary_logloss: 0.0245613\tvalid_1's binary_logloss: 0.265271\tvalid_1's binary_logloss: 0.265271\n",
            "[86]\ttraining's binary_logloss: 0.0237611\ttraining's binary_logloss: 0.0237611\tvalid_1's binary_logloss: 0.265977\tvalid_1's binary_logloss: 0.265977\n",
            "[87]\ttraining's binary_logloss: 0.0230229\ttraining's binary_logloss: 0.0230229\tvalid_1's binary_logloss: 0.268838\tvalid_1's binary_logloss: 0.268838\n",
            "[88]\ttraining's binary_logloss: 0.022253\ttraining's binary_logloss: 0.022253\tvalid_1's binary_logloss: 0.267025\tvalid_1's binary_logloss: 0.267025\n",
            "[89]\ttraining's binary_logloss: 0.0215231\ttraining's binary_logloss: 0.0215231\tvalid_1's binary_logloss: 0.265913\tvalid_1's binary_logloss: 0.265913\n",
            "[90]\ttraining's binary_logloss: 0.0208833\ttraining's binary_logloss: 0.0208833\tvalid_1's binary_logloss: 0.265612\tvalid_1's binary_logloss: 0.265612\n",
            "[91]\ttraining's binary_logloss: 0.0202353\ttraining's binary_logloss: 0.0202353\tvalid_1's binary_logloss: 0.267831\tvalid_1's binary_logloss: 0.267831\n",
            "[92]\ttraining's binary_logloss: 0.0195726\ttraining's binary_logloss: 0.0195726\tvalid_1's binary_logloss: 0.266689\tvalid_1's binary_logloss: 0.266689\n",
            "[93]\ttraining's binary_logloss: 0.0189295\ttraining's binary_logloss: 0.0189295\tvalid_1's binary_logloss: 0.267654\tvalid_1's binary_logloss: 0.267654\n",
            "[94]\ttraining's binary_logloss: 0.0182642\ttraining's binary_logloss: 0.0182642\tvalid_1's binary_logloss: 0.268718\tvalid_1's binary_logloss: 0.268718\n",
            "[95]\ttraining's binary_logloss: 0.0176871\ttraining's binary_logloss: 0.0176871\tvalid_1's binary_logloss: 0.270958\tvalid_1's binary_logloss: 0.270958\n",
            "[96]\ttraining's binary_logloss: 0.0171794\ttraining's binary_logloss: 0.0171794\tvalid_1's binary_logloss: 0.27016\tvalid_1's binary_logloss: 0.27016\n",
            "[97]\ttraining's binary_logloss: 0.016589\ttraining's binary_logloss: 0.016589\tvalid_1's binary_logloss: 0.271488\tvalid_1's binary_logloss: 0.271488\n",
            "[98]\ttraining's binary_logloss: 0.0160635\ttraining's binary_logloss: 0.0160635\tvalid_1's binary_logloss: 0.269985\tvalid_1's binary_logloss: 0.269985\n",
            "[99]\ttraining's binary_logloss: 0.0155631\ttraining's binary_logloss: 0.0155631\tvalid_1's binary_logloss: 0.271251\tvalid_1's binary_logloss: 0.271251\n",
            "[100]\ttraining's binary_logloss: 0.0150636\ttraining's binary_logloss: 0.0150636\tvalid_1's binary_logloss: 0.271782\tvalid_1's binary_logloss: 0.271782\n",
            "[101]\ttraining's binary_logloss: 0.0145839\ttraining's binary_logloss: 0.0145839\tvalid_1's binary_logloss: 0.271016\tvalid_1's binary_logloss: 0.271016\n",
            "[102]\ttraining's binary_logloss: 0.0141803\ttraining's binary_logloss: 0.0141803\tvalid_1's binary_logloss: 0.271182\tvalid_1's binary_logloss: 0.271182\n",
            "[103]\ttraining's binary_logloss: 0.0136586\ttraining's binary_logloss: 0.0136586\tvalid_1's binary_logloss: 0.271901\tvalid_1's binary_logloss: 0.271901\n",
            "[104]\ttraining's binary_logloss: 0.0131463\ttraining's binary_logloss: 0.0131463\tvalid_1's binary_logloss: 0.271226\tvalid_1's binary_logloss: 0.271226\n",
            "[105]\ttraining's binary_logloss: 0.0127756\ttraining's binary_logloss: 0.0127756\tvalid_1's binary_logloss: 0.271724\tvalid_1's binary_logloss: 0.271724\n",
            "[106]\ttraining's binary_logloss: 0.0123527\ttraining's binary_logloss: 0.0123527\tvalid_1's binary_logloss: 0.272895\tvalid_1's binary_logloss: 0.272895\n",
            "[107]\ttraining's binary_logloss: 0.0119772\ttraining's binary_logloss: 0.0119772\tvalid_1's binary_logloss: 0.271722\tvalid_1's binary_logloss: 0.271722\n",
            "[108]\ttraining's binary_logloss: 0.0115223\ttraining's binary_logloss: 0.0115223\tvalid_1's binary_logloss: 0.272213\tvalid_1's binary_logloss: 0.272213\n",
            "[109]\ttraining's binary_logloss: 0.0111636\ttraining's binary_logloss: 0.0111636\tvalid_1's binary_logloss: 0.273245\tvalid_1's binary_logloss: 0.273245\n",
            "[110]\ttraining's binary_logloss: 0.0108692\ttraining's binary_logloss: 0.0108692\tvalid_1's binary_logloss: 0.273132\tvalid_1's binary_logloss: 0.273132\n",
            "Early stopping, best iteration is:\n",
            "[60]\ttraining's binary_logloss: 0.0572088\ttraining's binary_logloss: 0.0572088\tvalid_1's binary_logloss: 0.257168\tvalid_1's binary_logloss: 0.257168\n"
          ]
        },
        {
          "output_type": "execute_result",
          "data": {
            "text/plain": [
              "LGBMClassifier(learning_rate=0.05, n_estimators=400)"
            ]
          },
          "metadata": {},
          "execution_count": 11
        }
      ]
    },
    {
      "cell_type": "markdown",
      "source": [
        "## Evaluate"
      ],
      "metadata": {
        "id": "ill6R8s2aWlJ"
      }
    },
    {
      "cell_type": "code",
      "source": [
        "preds = lgbm_wrapper.predict(X_test)\n",
        "pred_proba = lgbm_wrapper.predict_proba(X_test)"
      ],
      "metadata": {
        "id": "DlhXprEjZpg8"
      },
      "execution_count": 20,
      "outputs": []
    },
    {
      "cell_type": "code",
      "source": [
        "preds[:3]"
      ],
      "metadata": {
        "colab": {
          "base_uri": "https://localhost:8080/"
        },
        "id": "ahe6Ab9Da9mg",
        "outputId": "7df430e1-ad4c-4a1f-9bfd-88214219172b"
      },
      "execution_count": 21,
      "outputs": [
        {
          "output_type": "execute_result",
          "data": {
            "text/plain": [
              "array([1, 0, 1])"
            ]
          },
          "metadata": {},
          "execution_count": 21
        }
      ]
    },
    {
      "cell_type": "code",
      "source": [
        "pred_proba[:3]"
      ],
      "metadata": {
        "colab": {
          "base_uri": "https://localhost:8080/"
        },
        "id": "xBMzw-r3bA9g",
        "outputId": "99894d0d-8872-43a9-8ed3-104d0a868679"
      },
      "execution_count": 22,
      "outputs": [
        {
          "output_type": "execute_result",
          "data": {
            "text/plain": [
              "array([[0.23695676, 0.76304324],\n",
              "       [0.96761442, 0.03238558],\n",
              "       [0.31074527, 0.68925473]])"
            ]
          },
          "metadata": {},
          "execution_count": 22
        }
      ]
    },
    {
      "cell_type": "code",
      "source": [
        "pred_proba = pred_proba[:, 1]"
      ],
      "metadata": {
        "id": "lEy3TBpLbCdY"
      },
      "execution_count": 26,
      "outputs": []
    },
    {
      "cell_type": "code",
      "source": [
        "## 모델 성능 평가 함수 선언\n",
        "from sklearn.metrics import accuracy_score, confusion_matrix, precision_score, recall_score, f1_score, roc_auc_score\n",
        "\n",
        "def get_clf_eval(y_test, pred=None, pred_proba=None):\n",
        "\n",
        "    confusion = confusion_matrix(y_test, pred)\n",
        "    accuracy = accuracy_score(y_test, pred)\n",
        "    precision = precision_score(y_test, pred)\n",
        "    recall = recall_score(y_test, pred)\n",
        "    f1 = f1_score(y_test, pred)\n",
        "    roc_auc = roc_auc_score(y_test, pred_proba)\n",
        "\n",
        "    print('오차 행렬')\n",
        "    print(confusion)\n",
        "    print('정확도: {0:.4f}, 정밀도: {1:.4f}, 재현율: {2:.4f}, F1: {3:.4f}, AUC: {4:.4f}'.format(accuracy, precision, recall, f1, roc_auc))"
      ],
      "metadata": {
        "id": "Gpt-4DtRaPhx"
      },
      "execution_count": 17,
      "outputs": []
    },
    {
      "cell_type": "code",
      "source": [
        "get_clf_eval(y_test, preds, pred_proba)"
      ],
      "metadata": {
        "colab": {
          "base_uri": "https://localhost:8080/"
        },
        "id": "-ENmattUafBy",
        "outputId": "f1182fd4-f760-4531-9832-ed9b2c95b951"
      },
      "execution_count": 27,
      "outputs": [
        {
          "output_type": "stream",
          "name": "stdout",
          "text": [
            "오차 행렬\n",
            "[[34  3]\n",
            " [ 2 75]]\n",
            "정확도: 0.9561, 정밀도: 0.9615, 재현율: 0.9740, F1: 0.9677, AUC: 0.9888\n"
          ]
        }
      ]
    },
    {
      "cell_type": "markdown",
      "source": [
        "## feature importances"
      ],
      "metadata": {
        "id": "arc0pwdobsPB"
      }
    },
    {
      "cell_type": "code",
      "source": [
        "import matplotlib.pyplot as plt\n",
        "import seaborn as sns\n",
        "%matplotlib inline\n",
        "\n",
        "ftr_importances_values = lgbm_wrapper.feature_importances_ ## feature_importances_\n",
        "ftr_importances = pd.Series(ftr_importances_values, index=X_train.columns)\n",
        "ftr_top20 = ftr_importances.sort_values(ascending=False)[:20]\n",
        "\n",
        "plt.figure(figsize=(8, 6))\n",
        "plt.title('Feature importances Top 20')\n",
        "sns.barplot(x=ftr_top20, y=ftr_top20.index)\n",
        "plt.show()"
      ],
      "metadata": {
        "colab": {
          "base_uri": "https://localhost:8080/",
          "height": 390
        },
        "id": "VUF_UUHmbmQ_",
        "outputId": "bd0a9dcf-6051-4643-8fbe-fae8abcf17a2"
      },
      "execution_count": 29,
      "outputs": [
        {
          "output_type": "display_data",
          "data": {
            "text/plain": [
              "<Figure size 576x432 with 1 Axes>"
            ],
            "image/png": "[encoded data removed]"
          },
          "metadata": {
            "needs_background": "light"
          }
        }
      ]
    },
    {
      "cell_type": "code",
      "source": [
        ""
      ],
      "metadata": {
        "id": "9EQ7xypzb0_Q"
      },
      "execution_count": null,
      "outputs": []
    }
  ]
}