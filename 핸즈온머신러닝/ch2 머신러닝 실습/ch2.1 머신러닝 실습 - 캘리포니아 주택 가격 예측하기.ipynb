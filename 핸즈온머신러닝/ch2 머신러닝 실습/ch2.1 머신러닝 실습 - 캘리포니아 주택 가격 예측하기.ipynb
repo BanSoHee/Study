{
  "nbformat": 4,
  "nbformat_minor": 0,
  "metadata": {
    "colab": {
      "name": "ch2.1 머신러닝 실습 - 캘리포니아 주택 가격 예측하기.ipynb",
      "provenance": []
    },
    "kernelspec": {
      "name": "python3",
      "display_name": "Python 3"
    },
    "language_info": {
      "name": "python"
    }
  },
  "cells": [
    {
      "cell_type": "code",
      "execution_count": 17,
      "metadata": {
        "id": "JV7nwGoWfYmK"
      },
      "outputs": [],
      "source": [
        "## 작업 환경 설정\n",
        "import sys\n",
        "import sklearn\n",
        "import numpy as np\n",
        "import pandas as pd\n",
        "import os\n",
        "\n",
        "## 깔끔한 그래프 출력\n",
        "%matplotlib inline\n",
        "import matplotlib as mpl\n",
        "import matplotlib.pyplot as plt\n",
        "mpl.rc('axes', labelsize=14)\n",
        "mpl.rc('xtick', labelsize=12)\n",
        "mpl.rc('ytick', labelsize=12)"
      ]
    },
    {
      "cell_type": "markdown",
      "source": [
        "## 데이터 로드"
      ],
      "metadata": {
        "id": "7rvwsaSqcSkC"
      }
    },
    {
      "cell_type": "markdown",
      "source": [
        "- 데이터 다운로드"
      ],
      "metadata": {
        "id": "jnA109ZkcgtL"
      }
    },
    {
      "cell_type": "code",
      "source": [
        "import os\n",
        "import tarfile\n",
        "import urllib.request\n",
        "\n",
        "DOWNLOAD_ROOT = \"https://raw.githubusercontent.com/rickiepark/handson-ml2/master/\"\n",
        "HOUSING_PATH = os.path.join(\"datasets\", \"housing\")           ## ./datasets/housing 경로에 데이터셋 저장\n",
        "HOUSING_URL = DOWNLOAD_ROOT + \"datasets/housing/housing.tgz\" ## housing.csv를 압축한 파일\n",
        "\n",
        "def fetch_housing_data(housing_url=HOUSING_URL, housing_path=HOUSING_PATH):\n",
        "    if not os.path.isdir(housing_path):\n",
        "        os.makedirs(housing_path)\n",
        "    tgz_path = os.path.join(housing_path, \"housing.tgz\")\n",
        "    urllib.request.urlretrieve(housing_url, tgz_path)\n",
        "    housing_tgz = tarfile.open(tgz_path)\n",
        "    housing_tgz.extractall(path=housing_path)\n",
        "    housing_tgz.close()\n",
        "\n",
        "fetch_housing_data()"
      ],
      "metadata": {
        "id": "acICJEwycSDO"
      },
      "execution_count": 18,
      "outputs": []
    },
    {
      "cell_type": "markdown",
      "source": [
        "- 데이터 로드"
      ],
      "metadata": {
        "id": "KKs20tN_dmSB"
      }
    },
    {
      "cell_type": "code",
      "source": [
        "housing = pd.read_csv('/content/datasets/housing/housing.csv')\n",
        "housing.head(5)"
      ],
      "metadata": {
        "colab": {
          "base_uri": "https://localhost:8080/",
          "height": 206
        },
        "id": "U5GMPMyvdnd1",
        "outputId": "a96195f0-7fb0-4933-8b73-09cca2055ace"
      },
      "execution_count": 57,
      "outputs": [
        {
          "output_type": "execute_result",
          "data": {
            "text/plain": [
              "   longitude  latitude  housing_median_age  total_rooms  total_bedrooms  \\\n",
              "0    -122.23     37.88                41.0        880.0           129.0   \n",
              "1    -122.22     37.86                21.0       7099.0          1106.0   \n",
              "2    -122.24     37.85                52.0       1467.0           190.0   \n",
              "3    -122.25     37.85                52.0       1274.0           235.0   \n",
              "4    -122.25     37.85                52.0       1627.0           280.0   \n",
              "\n",
              "   population  households  median_income  median_house_value ocean_proximity  \n",
              "0       322.0       126.0         8.3252            452600.0        NEAR BAY  \n",
              "1      2401.0      1138.0         8.3014            358500.0        NEAR BAY  \n",
              "2       496.0       177.0         7.2574            352100.0        NEAR BAY  \n",
              "3       558.0       219.0         5.6431            341300.0        NEAR BAY  \n",
              "4       565.0       259.0         3.8462            342200.0        NEAR BAY  "
            ],
            "text/html": [
              "\n",
              "  <div id=\"df-b375c11a-b7e0-4da6-a490-be70d9b58349\">\n",
              "    <div class=\"colab-df-container\">\n",
              "      <div>\n",
              "<style scoped>\n",
              "    .dataframe tbody tr th:only-of-type {\n",
              "        vertical-align: middle;\n",
              "    }\n",
              "\n",
              "    .dataframe tbody tr th {\n",
              "        vertical-align: top;\n",
              "    }\n",
              "\n",
              "    .dataframe thead th {\n",
              "        text-align: right;\n",
              "    }\n",
              "</style>\n",
              "<table border=\"1\" class=\"dataframe\">\n",
              "  <thead>\n",
              "    <tr style=\"text-align: right;\">\n",
              "      <th></th>\n",
              "      <th>longitude</th>\n",
              "      <th>latitude</th>\n",
              "      <th>housing_median_age</th>\n",
              "      <th>total_rooms</th>\n",
              "      <th>total_bedrooms</th>\n",
              "      <th>population</th>\n",
              "      <th>households</th>\n",
              "      <th>median_income</th>\n",
              "      <th>median_house_value</th>\n",
              "      <th>ocean_proximity</th>\n",
              "    </tr>\n",
              "  </thead>\n",
              "  <tbody>\n",
              "    <tr>\n",
              "      <th>0</th>\n",
              "      <td>-122.23</td>\n",
              "      <td>37.88</td>\n",
              "      <td>41.0</td>\n",
              "      <td>880.0</td>\n",
              "      <td>129.0</td>\n",
              "      <td>322.0</td>\n",
              "      <td>126.0</td>\n",
              "      <td>8.3252</td>\n",
              "      <td>452600.0</td>\n",
              "      <td>NEAR BAY</td>\n",
              "    </tr>\n",
              "    <tr>\n",
              "      <th>1</th>\n",
              "      <td>-122.22</td>\n",
              "      <td>37.86</td>\n",
              "      <td>21.0</td>\n",
              "      <td>7099.0</td>\n",
              "      <td>1106.0</td>\n",
              "      <td>2401.0</td>\n",
              "      <td>1138.0</td>\n",
              "      <td>8.3014</td>\n",
              "      <td>358500.0</td>\n",
              "      <td>NEAR BAY</td>\n",
              "    </tr>\n",
              "    <tr>\n",
              "      <th>2</th>\n",
              "      <td>-122.24</td>\n",
              "      <td>37.85</td>\n",
              "      <td>52.0</td>\n",
              "      <td>1467.0</td>\n",
              "      <td>190.0</td>\n",
              "      <td>496.0</td>\n",
              "      <td>177.0</td>\n",
              "      <td>7.2574</td>\n",
              "      <td>352100.0</td>\n",
              "      <td>NEAR BAY</td>\n",
              "    </tr>\n",
              "    <tr>\n",
              "      <th>3</th>\n",
              "      <td>-122.25</td>\n",
              "      <td>37.85</td>\n",
              "      <td>52.0</td>\n",
              "      <td>1274.0</td>\n",
              "      <td>235.0</td>\n",
              "      <td>558.0</td>\n",
              "      <td>219.0</td>\n",
              "      <td>5.6431</td>\n",
              "      <td>341300.0</td>\n",
              "      <td>NEAR BAY</td>\n",
              "    </tr>\n",
              "    <tr>\n",
              "      <th>4</th>\n",
              "      <td>-122.25</td>\n",
              "      <td>37.85</td>\n",
              "      <td>52.0</td>\n",
              "      <td>1627.0</td>\n",
              "      <td>280.0</td>\n",
              "      <td>565.0</td>\n",
              "      <td>259.0</td>\n",
              "      <td>3.8462</td>\n",
              "      <td>342200.0</td>\n",
              "      <td>NEAR BAY</td>\n",
              "    </tr>\n",
              "  </tbody>\n",
              "</table>\n",
              "</div>\n",
              "      <button class=\"colab-df-convert\" onclick=\"convertToInteractive('df-b375c11a-b7e0-4da6-a490-be70d9b58349')\"\n",
              "              title=\"Convert this dataframe to an interactive table.\"\n",
              "              style=\"display:none;\">\n",
              "        \n",
              "  <svg xmlns=\"http://www.w3.org/2000/svg\" height=\"24px\"viewBox=\"0 0 24 24\"\n",
              "       width=\"24px\">\n",
              "    <path d=\"M0 0h24v24H0V0z\" fill=\"none\"/>\n",
              "    <path d=\"M18.56 5.44l.94 2.06.94-2.06 2.06-.94-2.06-.94-.94-2.06-.94 2.06-2.06.94zm-11 1L8.5 8.5l.94-2.06 2.06-.94-2.06-.94L8.5 2.5l-.94 2.06-2.06.94zm10 10l.94 2.06.94-2.06 2.06-.94-2.06-.94-.94-2.06-.94 2.06-2.06.94z\"/><path d=\"M17.41 7.96l-1.37-1.37c-.4-.4-.92-.59-1.43-.59-.52 0-1.04.2-1.43.59L10.3 9.45l-7.72 7.72c-.78.78-.78 2.05 0 2.83L4 21.41c.39.39.9.59 1.41.59.51 0 1.02-.2 1.41-.59l7.78-7.78 2.81-2.81c.8-.78.8-2.07 0-2.86zM5.41 20L4 18.59l7.72-7.72 1.47 1.35L5.41 20z\"/>\n",
              "  </svg>\n",
              "      </button>\n",
              "      \n",
              "  <style>\n",
              "    .colab-df-container {\n",
              "      display:flex;\n",
              "      flex-wrap:wrap;\n",
              "      gap: 12px;\n",
              "    }\n",
              "\n",
              "    .colab-df-convert {\n",
              "      background-color: #E8F0FE;\n",
              "      border: none;\n",
              "      border-radius: 50%;\n",
              "      cursor: pointer;\n",
              "      display: none;\n",
              "      fill: #1967D2;\n",
              "      height: 32px;\n",
              "      padding: 0 0 0 0;\n",
              "      width: 32px;\n",
              "    }\n",
              "\n",
              "    .colab-df-convert:hover {\n",
              "      background-color: #E2EBFA;\n",
              "      box-shadow: 0px 1px 2px rgba(60, 64, 67, 0.3), 0px 1px 3px 1px rgba(60, 64, 67, 0.15);\n",
              "      fill: #174EA6;\n",
              "    }\n",
              "\n",
              "    [theme=dark] .colab-df-convert {\n",
              "      background-color: #3B4455;\n",
              "      fill: #D2E3FC;\n",
              "    }\n",
              "\n",
              "    [theme=dark] .colab-df-convert:hover {\n",
              "      background-color: #434B5C;\n",
              "      box-shadow: 0px 1px 3px 1px rgba(0, 0, 0, 0.15);\n",
              "      filter: drop-shadow(0px 1px 2px rgba(0, 0, 0, 0.3));\n",
              "      fill: #FFFFFF;\n",
              "    }\n",
              "  </style>\n",
              "\n",
              "      <script>\n",
              "        const buttonEl =\n",
              "          document.querySelector('#df-b375c11a-b7e0-4da6-a490-be70d9b58349 button.colab-df-convert');\n",
              "        buttonEl.style.display =\n",
              "          google.colab.kernel.accessAllowed ? 'block' : 'none';\n",
              "\n",
              "        async function convertToInteractive(key) {\n",
              "          const element = document.querySelector('#df-b375c11a-b7e0-4da6-a490-be70d9b58349');\n",
              "          const dataTable =\n",
              "            await google.colab.kernel.invokeFunction('convertToInteractive',\n",
              "                                                     [key], {});\n",
              "          if (!dataTable) return;\n",
              "\n",
              "          const docLinkHtml = 'Like what you see? Visit the ' +\n",
              "            '<a target=\"_blank\" href=https://colab.research.google.com/notebooks/data_table.ipynb>data table notebook</a>'\n",
              "            + ' to learn more about interactive tables.';\n",
              "          element.innerHTML = '';\n",
              "          dataTable['output_type'] = 'display_data';\n",
              "          await google.colab.output.renderOutput(dataTable, element);\n",
              "          const docLink = document.createElement('div');\n",
              "          docLink.innerHTML = docLinkHtml;\n",
              "          element.appendChild(docLink);\n",
              "        }\n",
              "      </script>\n",
              "    </div>\n",
              "  </div>\n",
              "  "
            ]
          },
          "metadata": {},
          "execution_count": 57
        }
      ]
    },
    {
      "cell_type": "markdown",
      "source": [
        "- 데이터 확인 (`info`, `value_counts`, `describe`)"
      ],
      "metadata": {
        "id": "HIqj-M8gespL"
      }
    },
    {
      "cell_type": "code",
      "source": [
        "housing.info() # -> total_bedrooms null 있음을 확인함 # -> ocean_proximity 범주형 특성임을 확인함"
      ],
      "metadata": {
        "colab": {
          "base_uri": "https://localhost:8080/"
        },
        "id": "lVT7zDMqdv2y",
        "outputId": "75ee0dda-7909-4e7c-ce3a-6d8b78603e87"
      },
      "execution_count": 20,
      "outputs": [
        {
          "output_type": "stream",
          "name": "stdout",
          "text": [
            "<class 'pandas.core.frame.DataFrame'>\n",
            "RangeIndex: 20640 entries, 0 to 20639\n",
            "Data columns (total 10 columns):\n",
            " #   Column              Non-Null Count  Dtype  \n",
            "---  ------              --------------  -----  \n",
            " 0   longitude           20640 non-null  float64\n",
            " 1   latitude            20640 non-null  float64\n",
            " 2   housing_median_age  20640 non-null  float64\n",
            " 3   total_rooms         20640 non-null  float64\n",
            " 4   total_bedrooms      20433 non-null  float64\n",
            " 5   population          20640 non-null  float64\n",
            " 6   households          20640 non-null  float64\n",
            " 7   median_income       20640 non-null  float64\n",
            " 8   median_house_value  20640 non-null  float64\n",
            " 9   ocean_proximity     20640 non-null  object \n",
            "dtypes: float64(9), object(1)\n",
            "memory usage: 1.6+ MB\n"
          ]
        }
      ]
    },
    {
      "cell_type": "code",
      "source": [
        "housing['ocean_proximity'].value_counts()"
      ],
      "metadata": {
        "colab": {
          "base_uri": "https://localhost:8080/"
        },
        "id": "PC4UVRfvd8Tg",
        "outputId": "0494f886-d449-4476-ef08-2da9941a0243"
      },
      "execution_count": 21,
      "outputs": [
        {
          "output_type": "execute_result",
          "data": {
            "text/plain": [
              "<1H OCEAN     9136\n",
              "INLAND        6551\n",
              "NEAR OCEAN    2658\n",
              "NEAR BAY      2290\n",
              "ISLAND           5\n",
              "Name: ocean_proximity, dtype: int64"
            ]
          },
          "metadata": {},
          "execution_count": 21
        }
      ]
    },
    {
      "cell_type": "code",
      "source": [
        "housing.describe()"
      ],
      "metadata": {
        "colab": {
          "base_uri": "https://localhost:8080/",
          "height": 300
        },
        "id": "hhLzll18d6RR",
        "outputId": "21142e07-a6ea-45d8-919b-01d033e8c56a"
      },
      "execution_count": 56,
      "outputs": [
        {
          "output_type": "execute_result",
          "data": {
            "text/plain": [
              "          longitude      latitude  housing_median_age   total_rooms  \\\n",
              "count  16512.000000  16512.000000        16512.000000  16512.000000   \n",
              "mean    -119.575635     35.639314           28.653404   2622.539789   \n",
              "std        2.001828      2.137963           12.574819   2138.417080   \n",
              "min     -124.350000     32.540000            1.000000      6.000000   \n",
              "25%     -121.800000     33.940000           18.000000   1443.000000   \n",
              "50%     -118.510000     34.260000           29.000000   2119.000000   \n",
              "75%     -118.010000     37.720000           37.000000   3141.000000   \n",
              "max     -114.310000     41.950000           52.000000  39320.000000   \n",
              "\n",
              "       total_bedrooms    population    households  median_income  \\\n",
              "count    16354.000000  16512.000000  16512.000000   16512.000000   \n",
              "mean       534.914639   1419.687379    497.011810       3.875884   \n",
              "std        412.665649   1115.663036    375.696156       1.904931   \n",
              "min          2.000000      3.000000      2.000000       0.499900   \n",
              "25%        295.000000    784.000000    279.000000       2.566950   \n",
              "50%        433.000000   1164.000000    408.000000       3.541550   \n",
              "75%        644.000000   1719.000000    602.000000       4.745325   \n",
              "max       6210.000000  35682.000000   5358.000000      15.000100   \n",
              "\n",
              "       median_house_value  \n",
              "count        16512.000000  \n",
              "mean        207005.322372  \n",
              "std         115701.297250  \n",
              "min          14999.000000  \n",
              "25%         119800.000000  \n",
              "50%         179500.000000  \n",
              "75%         263900.000000  \n",
              "max         500001.000000  "
            ],
            "text/html": [
              "\n",
              "  <div id=\"df-89afc25d-a84a-41a1-9804-ccd55ca5eb69\">\n",
              "    <div class=\"colab-df-container\">\n",
              "      <div>\n",
              "<style scoped>\n",
              "    .dataframe tbody tr th:only-of-type {\n",
              "        vertical-align: middle;\n",
              "    }\n",
              "\n",
              "    .dataframe tbody tr th {\n",
              "        vertical-align: top;\n",
              "    }\n",
              "\n",
              "    .dataframe thead th {\n",
              "        text-align: right;\n",
              "    }\n",
              "</style>\n",
              "<table border=\"1\" class=\"dataframe\">\n",
              "  <thead>\n",
              "    <tr style=\"text-align: right;\">\n",
              "      <th></th>\n",
              "      <th>longitude</th>\n",
              "      <th>latitude</th>\n",
              "      <th>housing_median_age</th>\n",
              "      <th>total_rooms</th>\n",
              "      <th>total_bedrooms</th>\n",
              "      <th>population</th>\n",
              "      <th>households</th>\n",
              "      <th>median_income</th>\n",
              "      <th>median_house_value</th>\n",
              "    </tr>\n",
              "  </thead>\n",
              "  <tbody>\n",
              "    <tr>\n",
              "      <th>count</th>\n",
              "      <td>16512.000000</td>\n",
              "      <td>16512.000000</td>\n",
              "      <td>16512.000000</td>\n",
              "      <td>16512.000000</td>\n",
              "      <td>16354.000000</td>\n",
              "      <td>16512.000000</td>\n",
              "      <td>16512.000000</td>\n",
              "      <td>16512.000000</td>\n",
              "      <td>16512.000000</td>\n",
              "    </tr>\n",
              "    <tr>\n",
              "      <th>mean</th>\n",
              "      <td>-119.575635</td>\n",
              "      <td>35.639314</td>\n",
              "      <td>28.653404</td>\n",
              "      <td>2622.539789</td>\n",
              "      <td>534.914639</td>\n",
              "      <td>1419.687379</td>\n",
              "      <td>497.011810</td>\n",
              "      <td>3.875884</td>\n",
              "      <td>207005.322372</td>\n",
              "    </tr>\n",
              "    <tr>\n",
              "      <th>std</th>\n",
              "      <td>2.001828</td>\n",
              "      <td>2.137963</td>\n",
              "      <td>12.574819</td>\n",
              "      <td>2138.417080</td>\n",
              "      <td>412.665649</td>\n",
              "      <td>1115.663036</td>\n",
              "      <td>375.696156</td>\n",
              "      <td>1.904931</td>\n",
              "      <td>115701.297250</td>\n",
              "    </tr>\n",
              "    <tr>\n",
              "      <th>min</th>\n",
              "      <td>-124.350000</td>\n",
              "      <td>32.540000</td>\n",
              "      <td>1.000000</td>\n",
              "      <td>6.000000</td>\n",
              "      <td>2.000000</td>\n",
              "      <td>3.000000</td>\n",
              "      <td>2.000000</td>\n",
              "      <td>0.499900</td>\n",
              "      <td>14999.000000</td>\n",
              "    </tr>\n",
              "    <tr>\n",
              "      <th>25%</th>\n",
              "      <td>-121.800000</td>\n",
              "      <td>33.940000</td>\n",
              "      <td>18.000000</td>\n",
              "      <td>1443.000000</td>\n",
              "      <td>295.000000</td>\n",
              "      <td>784.000000</td>\n",
              "      <td>279.000000</td>\n",
              "      <td>2.566950</td>\n",
              "      <td>119800.000000</td>\n",
              "    </tr>\n",
              "    <tr>\n",
              "      <th>50%</th>\n",
              "      <td>-118.510000</td>\n",
              "      <td>34.260000</td>\n",
              "      <td>29.000000</td>\n",
              "      <td>2119.000000</td>\n",
              "      <td>433.000000</td>\n",
              "      <td>1164.000000</td>\n",
              "      <td>408.000000</td>\n",
              "      <td>3.541550</td>\n",
              "      <td>179500.000000</td>\n",
              "    </tr>\n",
              "    <tr>\n",
              "      <th>75%</th>\n",
              "      <td>-118.010000</td>\n",
              "      <td>37.720000</td>\n",
              "      <td>37.000000</td>\n",
              "      <td>3141.000000</td>\n",
              "      <td>644.000000</td>\n",
              "      <td>1719.000000</td>\n",
              "      <td>602.000000</td>\n",
              "      <td>4.745325</td>\n",
              "      <td>263900.000000</td>\n",
              "    </tr>\n",
              "    <tr>\n",
              "      <th>max</th>\n",
              "      <td>-114.310000</td>\n",
              "      <td>41.950000</td>\n",
              "      <td>52.000000</td>\n",
              "      <td>39320.000000</td>\n",
              "      <td>6210.000000</td>\n",
              "      <td>35682.000000</td>\n",
              "      <td>5358.000000</td>\n",
              "      <td>15.000100</td>\n",
              "      <td>500001.000000</td>\n",
              "    </tr>\n",
              "  </tbody>\n",
              "</table>\n",
              "</div>\n",
              "      <button class=\"colab-df-convert\" onclick=\"convertToInteractive('df-89afc25d-a84a-41a1-9804-ccd55ca5eb69')\"\n",
              "              title=\"Convert this dataframe to an interactive table.\"\n",
              "              style=\"display:none;\">\n",
              "        \n",
              "  <svg xmlns=\"http://www.w3.org/2000/svg\" height=\"24px\"viewBox=\"0 0 24 24\"\n",
              "       width=\"24px\">\n",
              "    <path d=\"M0 0h24v24H0V0z\" fill=\"none\"/>\n",
              "    <path d=\"M18.56 5.44l.94 2.06.94-2.06 2.06-.94-2.06-.94-.94-2.06-.94 2.06-2.06.94zm-11 1L8.5 8.5l.94-2.06 2.06-.94-2.06-.94L8.5 2.5l-.94 2.06-2.06.94zm10 10l.94 2.06.94-2.06 2.06-.94-2.06-.94-.94-2.06-.94 2.06-2.06.94z\"/><path d=\"M17.41 7.96l-1.37-1.37c-.4-.4-.92-.59-1.43-.59-.52 0-1.04.2-1.43.59L10.3 9.45l-7.72 7.72c-.78.78-.78 2.05 0 2.83L4 21.41c.39.39.9.59 1.41.59.51 0 1.02-.2 1.41-.59l7.78-7.78 2.81-2.81c.8-.78.8-2.07 0-2.86zM5.41 20L4 18.59l7.72-7.72 1.47 1.35L5.41 20z\"/>\n",
              "  </svg>\n",
              "      </button>\n",
              "      \n",
              "  <style>\n",
              "    .colab-df-container {\n",
              "      display:flex;\n",
              "      flex-wrap:wrap;\n",
              "      gap: 12px;\n",
              "    }\n",
              "\n",
              "    .colab-df-convert {\n",
              "      background-color: #E8F0FE;\n",
              "      border: none;\n",
              "      border-radius: 50%;\n",
              "      cursor: pointer;\n",
              "      display: none;\n",
              "      fill: #1967D2;\n",
              "      height: 32px;\n",
              "      padding: 0 0 0 0;\n",
              "      width: 32px;\n",
              "    }\n",
              "\n",
              "    .colab-df-convert:hover {\n",
              "      background-color: #E2EBFA;\n",
              "      box-shadow: 0px 1px 2px rgba(60, 64, 67, 0.3), 0px 1px 3px 1px rgba(60, 64, 67, 0.15);\n",
              "      fill: #174EA6;\n",
              "    }\n",
              "\n",
              "    [theme=dark] .colab-df-convert {\n",
              "      background-color: #3B4455;\n",
              "      fill: #D2E3FC;\n",
              "    }\n",
              "\n",
              "    [theme=dark] .colab-df-convert:hover {\n",
              "      background-color: #434B5C;\n",
              "      box-shadow: 0px 1px 3px 1px rgba(0, 0, 0, 0.15);\n",
              "      filter: drop-shadow(0px 1px 2px rgba(0, 0, 0, 0.3));\n",
              "      fill: #FFFFFF;\n",
              "    }\n",
              "  </style>\n",
              "\n",
              "      <script>\n",
              "        const buttonEl =\n",
              "          document.querySelector('#df-89afc25d-a84a-41a1-9804-ccd55ca5eb69 button.colab-df-convert');\n",
              "        buttonEl.style.display =\n",
              "          google.colab.kernel.accessAllowed ? 'block' : 'none';\n",
              "\n",
              "        async function convertToInteractive(key) {\n",
              "          const element = document.querySelector('#df-89afc25d-a84a-41a1-9804-ccd55ca5eb69');\n",
              "          const dataTable =\n",
              "            await google.colab.kernel.invokeFunction('convertToInteractive',\n",
              "                                                     [key], {});\n",
              "          if (!dataTable) return;\n",
              "\n",
              "          const docLinkHtml = 'Like what you see? Visit the ' +\n",
              "            '<a target=\"_blank\" href=https://colab.research.google.com/notebooks/data_table.ipynb>data table notebook</a>'\n",
              "            + ' to learn more about interactive tables.';\n",
              "          element.innerHTML = '';\n",
              "          dataTable['output_type'] = 'display_data';\n",
              "          await google.colab.output.renderOutput(dataTable, element);\n",
              "          const docLink = document.createElement('div');\n",
              "          docLink.innerHTML = docLinkHtml;\n",
              "          element.appendChild(docLink);\n",
              "        }\n",
              "      </script>\n",
              "    </div>\n",
              "  </div>\n",
              "  "
            ]
          },
          "metadata": {},
          "execution_count": 56
        }
      ]
    },
    {
      "cell_type": "markdown",
      "source": [
        "- 데이터의 형태를 빠르게 검토하기 위한 숫자형 특성 히스토그램 시각화 (`df.hist`)"
      ],
      "metadata": {
        "id": "hWjFDFfPgHlC"
      }
    },
    {
      "cell_type": "code",
      "source": [
        "housing.hist(bins=50, figsize=(20, 15)) # bins -> 가로축 구간의 개수 지정\n",
        "plt.show()"
      ],
      "metadata": {
        "id": "sF6yFQ4GemAi"
      },
      "execution_count": null,
      "outputs": []
    },
    {
      "cell_type": "markdown",
      "source": [
        "## 데이터 분리"
      ],
      "metadata": {
        "id": "aPeQBYwOENWm"
      }
    },
    {
      "cell_type": "markdown",
      "source": [
        "- 계층적 샘플링\n",
        "  - 테스트 세트가 전체 인구를 대표하도록 각 계층에서 올바른 수의 샘플을 추출하는 것\n",
        "  - 전문가가 중간 소득이 중간 주택 가격을 예측하는 데 매우 중요하다고 이야기해주었다고 가정하면, 중간 소득을 기준으로 계층적 샘플링을 수행"
      ],
      "metadata": {
        "id": "lLwJZFcAFhrp"
      }
    },
    {
      "cell_type": "code",
      "source": [
        "housing[\"median_income\"].hist()"
      ],
      "metadata": {
        "colab": {
          "base_uri": "https://localhost:8080/",
          "height": 286
        },
        "id": "hjIPqjKGGDCz",
        "outputId": "92f8846d-9bd7-4edd-e504-9f0861932e83"
      },
      "execution_count": 25,
      "outputs": [
        {
          "output_type": "execute_result",
          "data": {
            "text/plain": [
              "<matplotlib.axes._subplots.AxesSubplot at 0x7f41c06dcb90>"
            ]
          },
          "metadata": {},
          "execution_count": 25
        },
        {
          "output_type": "display_data",
          "data": {
            "text/plain": [
              "<Figure size 432x288 with 1 Axes>"
            ],
            "image/png": "[encoded data removed]"
          },
          "metadata": {
            "needs_background": "light"
          }
        }
      ]
    },
    {
      "cell_type": "code",
      "source": [
        "## pd.cut() 함수를 이용하여 중간 소득을 5개의 구간으로 나눔\n",
        "## 중간 소득 특성은 1.5 ~ 6 사이에 치우친 경향을 보임 (위 시각화 자료 참고)\n",
        "housing[\"income_cat\"] = pd.cut(housing[\"median_income\"],\n",
        "                               bins=[0., 1.5, 3.0, 4.5, 6., np.inf],\n",
        "                               labels=[1, 2, 3, 4, 5])"
      ],
      "metadata": {
        "id": "hNrA5mtjFeS1"
      },
      "execution_count": 26,
      "outputs": []
    },
    {
      "cell_type": "code",
      "source": [
        "housing[\"income_cat\"].value_counts()"
      ],
      "metadata": {
        "colab": {
          "base_uri": "https://localhost:8080/"
        },
        "id": "vGIHAADzGW0q",
        "outputId": "4c4f8385-2798-49a4-cd5b-24f87b638fc8"
      },
      "execution_count": 28,
      "outputs": [
        {
          "output_type": "execute_result",
          "data": {
            "text/plain": [
              "3    7236\n",
              "2    6581\n",
              "4    3639\n",
              "5    2362\n",
              "1     822\n",
              "Name: income_cat, dtype: int64"
            ]
          },
          "metadata": {},
          "execution_count": 28
        }
      ]
    },
    {
      "cell_type": "code",
      "source": [
        "housing[\"income_cat\"].hist()"
      ],
      "metadata": {
        "colab": {
          "base_uri": "https://localhost:8080/",
          "height": 286
        },
        "id": "_59UGY9iGzqk",
        "outputId": "0314f808-7a8a-47af-b8ad-0e0b2e809435"
      },
      "execution_count": 29,
      "outputs": [
        {
          "output_type": "execute_result",
          "data": {
            "text/plain": [
              "<matplotlib.axes._subplots.AxesSubplot at 0x7f41bfb35f50>"
            ]
          },
          "metadata": {},
          "execution_count": 29
        },
        {
          "output_type": "display_data",
          "data": {
            "text/plain": [
              "<Figure size 432x288 with 1 Axes>"
            ],
            "image/png": "[encoded data removed]"
          },
          "metadata": {
            "needs_background": "light"
          }
        }
      ]
    },
    {
      "cell_type": "code",
      "source": [
        "housing.head(5)"
      ],
      "metadata": {
        "colab": {
          "base_uri": "https://localhost:8080/",
          "height": 206
        },
        "id": "O9lAL6I3GTfr",
        "outputId": "b4489b9d-21c3-42a3-9116-b66bdd367838"
      },
      "execution_count": 27,
      "outputs": [
        {
          "output_type": "execute_result",
          "data": {
            "text/plain": [
              "   longitude  latitude  housing_median_age  total_rooms  total_bedrooms  \\\n",
              "0    -122.23     37.88                41.0        880.0           129.0   \n",
              "1    -122.22     37.86                21.0       7099.0          1106.0   \n",
              "2    -122.24     37.85                52.0       1467.0           190.0   \n",
              "3    -122.25     37.85                52.0       1274.0           235.0   \n",
              "4    -122.25     37.85                52.0       1627.0           280.0   \n",
              "\n",
              "   population  households  median_income  median_house_value ocean_proximity  \\\n",
              "0       322.0       126.0         8.3252            452600.0        NEAR BAY   \n",
              "1      2401.0      1138.0         8.3014            358500.0        NEAR BAY   \n",
              "2       496.0       177.0         7.2574            352100.0        NEAR BAY   \n",
              "3       558.0       219.0         5.6431            341300.0        NEAR BAY   \n",
              "4       565.0       259.0         3.8462            342200.0        NEAR BAY   \n",
              "\n",
              "  income_cat  \n",
              "0          5  \n",
              "1          5  \n",
              "2          5  \n",
              "3          4  \n",
              "4          3  "
            ],
            "text/html": [
              "\n",
              "  <div id=\"df-2087077c-70b2-4868-9286-26c2370dacbc\">\n",
              "    <div class=\"colab-df-container\">\n",
              "      <div>\n",
              "<style scoped>\n",
              "    .dataframe tbody tr th:only-of-type {\n",
              "        vertical-align: middle;\n",
              "    }\n",
              "\n",
              "    .dataframe tbody tr th {\n",
              "        vertical-align: top;\n",
              "    }\n",
              "\n",
              "    .dataframe thead th {\n",
              "        text-align: right;\n",
              "    }\n",
              "</style>\n",
              "<table border=\"1\" class=\"dataframe\">\n",
              "  <thead>\n",
              "    <tr style=\"text-align: right;\">\n",
              "      <th></th>\n",
              "      <th>longitude</th>\n",
              "      <th>latitude</th>\n",
              "      <th>housing_median_age</th>\n",
              "      <th>total_rooms</th>\n",
              "      <th>total_bedrooms</th>\n",
              "      <th>population</th>\n",
              "      <th>households</th>\n",
              "      <th>median_income</th>\n",
              "      <th>median_house_value</th>\n",
              "      <th>ocean_proximity</th>\n",
              "      <th>income_cat</th>\n",
              "    </tr>\n",
              "  </thead>\n",
              "  <tbody>\n",
              "    <tr>\n",
              "      <th>0</th>\n",
              "      <td>-122.23</td>\n",
              "      <td>37.88</td>\n",
              "      <td>41.0</td>\n",
              "      <td>880.0</td>\n",
              "      <td>129.0</td>\n",
              "      <td>322.0</td>\n",
              "      <td>126.0</td>\n",
              "      <td>8.3252</td>\n",
              "      <td>452600.0</td>\n",
              "      <td>NEAR BAY</td>\n",
              "      <td>5</td>\n",
              "    </tr>\n",
              "    <tr>\n",
              "      <th>1</th>\n",
              "      <td>-122.22</td>\n",
              "      <td>37.86</td>\n",
              "      <td>21.0</td>\n",
              "      <td>7099.0</td>\n",
              "      <td>1106.0</td>\n",
              "      <td>2401.0</td>\n",
              "      <td>1138.0</td>\n",
              "      <td>8.3014</td>\n",
              "      <td>358500.0</td>\n",
              "      <td>NEAR BAY</td>\n",
              "      <td>5</td>\n",
              "    </tr>\n",
              "    <tr>\n",
              "      <th>2</th>\n",
              "      <td>-122.24</td>\n",
              "      <td>37.85</td>\n",
              "      <td>52.0</td>\n",
              "      <td>1467.0</td>\n",
              "      <td>190.0</td>\n",
              "      <td>496.0</td>\n",
              "      <td>177.0</td>\n",
              "      <td>7.2574</td>\n",
              "      <td>352100.0</td>\n",
              "      <td>NEAR BAY</td>\n",
              "      <td>5</td>\n",
              "    </tr>\n",
              "    <tr>\n",
              "      <th>3</th>\n",
              "      <td>-122.25</td>\n",
              "      <td>37.85</td>\n",
              "      <td>52.0</td>\n",
              "      <td>1274.0</td>\n",
              "      <td>235.0</td>\n",
              "      <td>558.0</td>\n",
              "      <td>219.0</td>\n",
              "      <td>5.6431</td>\n",
              "      <td>341300.0</td>\n",
              "      <td>NEAR BAY</td>\n",
              "      <td>4</td>\n",
              "    </tr>\n",
              "    <tr>\n",
              "      <th>4</th>\n",
              "      <td>-122.25</td>\n",
              "      <td>37.85</td>\n",
              "      <td>52.0</td>\n",
              "      <td>1627.0</td>\n",
              "      <td>280.0</td>\n",
              "      <td>565.0</td>\n",
              "      <td>259.0</td>\n",
              "      <td>3.8462</td>\n",
              "      <td>342200.0</td>\n",
              "      <td>NEAR BAY</td>\n",
              "      <td>3</td>\n",
              "    </tr>\n",
              "  </tbody>\n",
              "</table>\n",
              "</div>\n",
              "      <button class=\"colab-df-convert\" onclick=\"convertToInteractive('df-2087077c-70b2-4868-9286-26c2370dacbc')\"\n",
              "              title=\"Convert this dataframe to an interactive table.\"\n",
              "              style=\"display:none;\">\n",
              "        \n",
              "  <svg xmlns=\"http://www.w3.org/2000/svg\" height=\"24px\"viewBox=\"0 0 24 24\"\n",
              "       width=\"24px\">\n",
              "    <path d=\"M0 0h24v24H0V0z\" fill=\"none\"/>\n",
              "    <path d=\"M18.56 5.44l.94 2.06.94-2.06 2.06-.94-2.06-.94-.94-2.06-.94 2.06-2.06.94zm-11 1L8.5 8.5l.94-2.06 2.06-.94-2.06-.94L8.5 2.5l-.94 2.06-2.06.94zm10 10l.94 2.06.94-2.06 2.06-.94-2.06-.94-.94-2.06-.94 2.06-2.06.94z\"/><path d=\"M17.41 7.96l-1.37-1.37c-.4-.4-.92-.59-1.43-.59-.52 0-1.04.2-1.43.59L10.3 9.45l-7.72 7.72c-.78.78-.78 2.05 0 2.83L4 21.41c.39.39.9.59 1.41.59.51 0 1.02-.2 1.41-.59l7.78-7.78 2.81-2.81c.8-.78.8-2.07 0-2.86zM5.41 20L4 18.59l7.72-7.72 1.47 1.35L5.41 20z\"/>\n",
              "  </svg>\n",
              "      </button>\n",
              "      \n",
              "  <style>\n",
              "    .colab-df-container {\n",
              "      display:flex;\n",
              "      flex-wrap:wrap;\n",
              "      gap: 12px;\n",
              "    }\n",
              "\n",
              "    .colab-df-convert {\n",
              "      background-color: #E8F0FE;\n",
              "      border: none;\n",
              "      border-radius: 50%;\n",
              "      cursor: pointer;\n",
              "      display: none;\n",
              "      fill: #1967D2;\n",
              "      height: 32px;\n",
              "      padding: 0 0 0 0;\n",
              "      width: 32px;\n",
              "    }\n",
              "\n",
              "    .colab-df-convert:hover {\n",
              "      background-color: #E2EBFA;\n",
              "      box-shadow: 0px 1px 2px rgba(60, 64, 67, 0.3), 0px 1px 3px 1px rgba(60, 64, 67, 0.15);\n",
              "      fill: #174EA6;\n",
              "    }\n",
              "\n",
              "    [theme=dark] .colab-df-convert {\n",
              "      background-color: #3B4455;\n",
              "      fill: #D2E3FC;\n",
              "    }\n",
              "\n",
              "    [theme=dark] .colab-df-convert:hover {\n",
              "      background-color: #434B5C;\n",
              "      box-shadow: 0px 1px 3px 1px rgba(0, 0, 0, 0.15);\n",
              "      filter: drop-shadow(0px 1px 2px rgba(0, 0, 0, 0.3));\n",
              "      fill: #FFFFFF;\n",
              "    }\n",
              "  </style>\n",
              "\n",
              "      <script>\n",
              "        const buttonEl =\n",
              "          document.querySelector('#df-2087077c-70b2-4868-9286-26c2370dacbc button.colab-df-convert');\n",
              "        buttonEl.style.display =\n",
              "          google.colab.kernel.accessAllowed ? 'block' : 'none';\n",
              "\n",
              "        async function convertToInteractive(key) {\n",
              "          const element = document.querySelector('#df-2087077c-70b2-4868-9286-26c2370dacbc');\n",
              "          const dataTable =\n",
              "            await google.colab.kernel.invokeFunction('convertToInteractive',\n",
              "                                                     [key], {});\n",
              "          if (!dataTable) return;\n",
              "\n",
              "          const docLinkHtml = 'Like what you see? Visit the ' +\n",
              "            '<a target=\"_blank\" href=https://colab.research.google.com/notebooks/data_table.ipynb>data table notebook</a>'\n",
              "            + ' to learn more about interactive tables.';\n",
              "          element.innerHTML = '';\n",
              "          dataTable['output_type'] = 'display_data';\n",
              "          await google.colab.output.renderOutput(dataTable, element);\n",
              "          const docLink = document.createElement('div');\n",
              "          docLink.innerHTML = docLinkHtml;\n",
              "          element.appendChild(docLink);\n",
              "        }\n",
              "      </script>\n",
              "    </div>\n",
              "  </div>\n",
              "  "
            ]
          },
          "metadata": {},
          "execution_count": 27
        }
      ]
    },
    {
      "cell_type": "markdown",
      "source": [
        "- 중간 소득을 기준으로 데이터 분할 (`StratifiedShuffleSplit`)\n",
        "  - 모집단을 게층별 그룹으로 나눈 뒤, 테스트 데이터를 전체 데이터의 각 계층 비율과 동일하게 생성함"
      ],
      "metadata": {
        "id": "91DHAvAtHMQA"
      }
    },
    {
      "cell_type": "code",
      "source": [
        "from sklearn.model_selection import StratifiedShuffleSplit\n",
        "\n",
        "## 계층적 샘플링 수행\n",
        "split = StratifiedShuffleSplit(n_splits=1, test_size=0.2, random_state=42) # n_splits -> 다시 섞기, 분할 반복 횟수\n",
        "\n",
        "## 훈련, 테스트 데이터셋 인덱스 생성\n",
        "for train_index, test_index in split.split(housing, housing[\"income_cat\"]):  # split.split() 함수는 훈련, 테스트 데이터셋으로 분할하기 위한 인덱스를 생성\n",
        "    \n",
        "    print('train_index: ')\n",
        "    print(train_index)\n",
        "    print('test_index: ')\n",
        "    print(test_index)\n",
        "\n",
        "    ## 훈련 데이터\n",
        "    strat_train_set = housing.loc[train_index]\n",
        "    ## 테스트 데이터\n",
        "    strat_test_set = housing.loc[test_index]"
      ],
      "metadata": {
        "colab": {
          "base_uri": "https://localhost:8080/"
        },
        "id": "FHP0A4W_HLpI",
        "outputId": "7f78c532-ef0c-4fdd-c246-66ec76835f69"
      },
      "execution_count": 34,
      "outputs": [
        {
          "output_type": "stream",
          "name": "stdout",
          "text": [
            "train_index: \n",
            "[12655 15502  2908 ... 19263 19140 19773]\n",
            "test_index: \n",
            "[ 5241 17352  3505 ... 17223 10786  3965]\n"
          ]
        }
      ]
    },
    {
      "cell_type": "code",
      "source": [
        "## 전체 데이터셋, 테스트 데이터셋의 각 계층별 데이터 수 확인\n",
        "print(strat_test_set[\"income_cat\"].value_counts() / len(strat_test_set))\n",
        "print()\n",
        "print(housing[\"income_cat\"].value_counts() / len(housing))"
      ],
      "metadata": {
        "colab": {
          "base_uri": "https://localhost:8080/"
        },
        "id": "65HHUcd2GVHZ",
        "outputId": "4d9d49d2-244d-4891-f85c-154863db2ec0"
      },
      "execution_count": 39,
      "outputs": [
        {
          "output_type": "stream",
          "name": "stdout",
          "text": [
            "3    0.350533\n",
            "2    0.318798\n",
            "4    0.176357\n",
            "5    0.114341\n",
            "1    0.039971\n",
            "Name: income_cat, dtype: float64\n",
            "\n",
            "3    0.350581\n",
            "2    0.318847\n",
            "4    0.176308\n",
            "5    0.114438\n",
            "1    0.039826\n",
            "Name: income_cat, dtype: float64\n"
          ]
        }
      ]
    },
    {
      "cell_type": "markdown",
      "source": [
        "- 분할 기준을 위해 생성한 특성 삭제"
      ],
      "metadata": {
        "id": "OmZXcc6wLCUe"
      }
    },
    {
      "cell_type": "code",
      "source": [
        "## 계층적 샘플링을 완료했으니, income_cat 특성 삭제\n",
        "for set_ in (strat_train_set, strat_test_set):\n",
        "    set_.drop(\"income_cat\", axis=1, inplace=True)"
      ],
      "metadata": {
        "id": "nvNPDYJzJrnu"
      },
      "execution_count": 40,
      "outputs": []
    },
    {
      "cell_type": "code",
      "source": [
        "strat_train_set.head(5)"
      ],
      "metadata": {
        "colab": {
          "base_uri": "https://localhost:8080/",
          "height": 206
        },
        "id": "UcnFKmZFK9tq",
        "outputId": "bb7a6cf1-436c-4162-cb32-3bfe7ae9957a"
      },
      "execution_count": 41,
      "outputs": [
        {
          "output_type": "execute_result",
          "data": {
            "text/plain": [
              "       longitude  latitude  housing_median_age  total_rooms  total_bedrooms  \\\n",
              "12655    -121.46     38.52                29.0       3873.0           797.0   \n",
              "15502    -117.23     33.09                 7.0       5320.0           855.0   \n",
              "2908     -119.04     35.37                44.0       1618.0           310.0   \n",
              "14053    -117.13     32.75                24.0       1877.0           519.0   \n",
              "20496    -118.70     34.28                27.0       3536.0           646.0   \n",
              "\n",
              "       population  households  median_income  median_house_value  \\\n",
              "12655      2237.0       706.0         2.1736             72100.0   \n",
              "15502      2015.0       768.0         6.3373            279600.0   \n",
              "2908        667.0       300.0         2.8750             82700.0   \n",
              "14053       898.0       483.0         2.2264            112500.0   \n",
              "20496      1837.0       580.0         4.4964            238300.0   \n",
              "\n",
              "      ocean_proximity  \n",
              "12655          INLAND  \n",
              "15502      NEAR OCEAN  \n",
              "2908           INLAND  \n",
              "14053      NEAR OCEAN  \n",
              "20496       <1H OCEAN  "
            ],
            "text/html": [
              "\n",
              "  <div id=\"df-089eb967-1494-4b18-8d5b-125bb4b10fb2\">\n",
              "    <div class=\"colab-df-container\">\n",
              "      <div>\n",
              "<style scoped>\n",
              "    .dataframe tbody tr th:only-of-type {\n",
              "        vertical-align: middle;\n",
              "    }\n",
              "\n",
              "    .dataframe tbody tr th {\n",
              "        vertical-align: top;\n",
              "    }\n",
              "\n",
              "    .dataframe thead th {\n",
              "        text-align: right;\n",
              "    }\n",
              "</style>\n",
              "<table border=\"1\" class=\"dataframe\">\n",
              "  <thead>\n",
              "    <tr style=\"text-align: right;\">\n",
              "      <th></th>\n",
              "      <th>longitude</th>\n",
              "      <th>latitude</th>\n",
              "      <th>housing_median_age</th>\n",
              "      <th>total_rooms</th>\n",
              "      <th>total_bedrooms</th>\n",
              "      <th>population</th>\n",
              "      <th>households</th>\n",
              "      <th>median_income</th>\n",
              "      <th>median_house_value</th>\n",
              "      <th>ocean_proximity</th>\n",
              "    </tr>\n",
              "  </thead>\n",
              "  <tbody>\n",
              "    <tr>\n",
              "      <th>12655</th>\n",
              "      <td>-121.46</td>\n",
              "      <td>38.52</td>\n",
              "      <td>29.0</td>\n",
              "      <td>3873.0</td>\n",
              "      <td>797.0</td>\n",
              "      <td>2237.0</td>\n",
              "      <td>706.0</td>\n",
              "      <td>2.1736</td>\n",
              "      <td>72100.0</td>\n",
              "      <td>INLAND</td>\n",
              "    </tr>\n",
              "    <tr>\n",
              "      <th>15502</th>\n",
              "      <td>-117.23</td>\n",
              "      <td>33.09</td>\n",
              "      <td>7.0</td>\n",
              "      <td>5320.0</td>\n",
              "      <td>855.0</td>\n",
              "      <td>2015.0</td>\n",
              "      <td>768.0</td>\n",
              "      <td>6.3373</td>\n",
              "      <td>279600.0</td>\n",
              "      <td>NEAR OCEAN</td>\n",
              "    </tr>\n",
              "    <tr>\n",
              "      <th>2908</th>\n",
              "      <td>-119.04</td>\n",
              "      <td>35.37</td>\n",
              "      <td>44.0</td>\n",
              "      <td>1618.0</td>\n",
              "      <td>310.0</td>\n",
              "      <td>667.0</td>\n",
              "      <td>300.0</td>\n",
              "      <td>2.8750</td>\n",
              "      <td>82700.0</td>\n",
              "      <td>INLAND</td>\n",
              "    </tr>\n",
              "    <tr>\n",
              "      <th>14053</th>\n",
              "      <td>-117.13</td>\n",
              "      <td>32.75</td>\n",
              "      <td>24.0</td>\n",
              "      <td>1877.0</td>\n",
              "      <td>519.0</td>\n",
              "      <td>898.0</td>\n",
              "      <td>483.0</td>\n",
              "      <td>2.2264</td>\n",
              "      <td>112500.0</td>\n",
              "      <td>NEAR OCEAN</td>\n",
              "    </tr>\n",
              "    <tr>\n",
              "      <th>20496</th>\n",
              "      <td>-118.70</td>\n",
              "      <td>34.28</td>\n",
              "      <td>27.0</td>\n",
              "      <td>3536.0</td>\n",
              "      <td>646.0</td>\n",
              "      <td>1837.0</td>\n",
              "      <td>580.0</td>\n",
              "      <td>4.4964</td>\n",
              "      <td>238300.0</td>\n",
              "      <td>&lt;1H OCEAN</td>\n",
              "    </tr>\n",
              "  </tbody>\n",
              "</table>\n",
              "</div>\n",
              "      <button class=\"colab-df-convert\" onclick=\"convertToInteractive('df-089eb967-1494-4b18-8d5b-125bb4b10fb2')\"\n",
              "              title=\"Convert this dataframe to an interactive table.\"\n",
              "              style=\"display:none;\">\n",
              "        \n",
              "  <svg xmlns=\"http://www.w3.org/2000/svg\" height=\"24px\"viewBox=\"0 0 24 24\"\n",
              "       width=\"24px\">\n",
              "    <path d=\"M0 0h24v24H0V0z\" fill=\"none\"/>\n",
              "    <path d=\"M18.56 5.44l.94 2.06.94-2.06 2.06-.94-2.06-.94-.94-2.06-.94 2.06-2.06.94zm-11 1L8.5 8.5l.94-2.06 2.06-.94-2.06-.94L8.5 2.5l-.94 2.06-2.06.94zm10 10l.94 2.06.94-2.06 2.06-.94-2.06-.94-.94-2.06-.94 2.06-2.06.94z\"/><path d=\"M17.41 7.96l-1.37-1.37c-.4-.4-.92-.59-1.43-.59-.52 0-1.04.2-1.43.59L10.3 9.45l-7.72 7.72c-.78.78-.78 2.05 0 2.83L4 21.41c.39.39.9.59 1.41.59.51 0 1.02-.2 1.41-.59l7.78-7.78 2.81-2.81c.8-.78.8-2.07 0-2.86zM5.41 20L4 18.59l7.72-7.72 1.47 1.35L5.41 20z\"/>\n",
              "  </svg>\n",
              "      </button>\n",
              "      \n",
              "  <style>\n",
              "    .colab-df-container {\n",
              "      display:flex;\n",
              "      flex-wrap:wrap;\n",
              "      gap: 12px;\n",
              "    }\n",
              "\n",
              "    .colab-df-convert {\n",
              "      background-color: #E8F0FE;\n",
              "      border: none;\n",
              "      border-radius: 50%;\n",
              "      cursor: pointer;\n",
              "      display: none;\n",
              "      fill: #1967D2;\n",
              "      height: 32px;\n",
              "      padding: 0 0 0 0;\n",
              "      width: 32px;\n",
              "    }\n",
              "\n",
              "    .colab-df-convert:hover {\n",
              "      background-color: #E2EBFA;\n",
              "      box-shadow: 0px 1px 2px rgba(60, 64, 67, 0.3), 0px 1px 3px 1px rgba(60, 64, 67, 0.15);\n",
              "      fill: #174EA6;\n",
              "    }\n",
              "\n",
              "    [theme=dark] .colab-df-convert {\n",
              "      background-color: #3B4455;\n",
              "      fill: #D2E3FC;\n",
              "    }\n",
              "\n",
              "    [theme=dark] .colab-df-convert:hover {\n",
              "      background-color: #434B5C;\n",
              "      box-shadow: 0px 1px 3px 1px rgba(0, 0, 0, 0.15);\n",
              "      filter: drop-shadow(0px 1px 2px rgba(0, 0, 0, 0.3));\n",
              "      fill: #FFFFFF;\n",
              "    }\n",
              "  </style>\n",
              "\n",
              "      <script>\n",
              "        const buttonEl =\n",
              "          document.querySelector('#df-089eb967-1494-4b18-8d5b-125bb4b10fb2 button.colab-df-convert');\n",
              "        buttonEl.style.display =\n",
              "          google.colab.kernel.accessAllowed ? 'block' : 'none';\n",
              "\n",
              "        async function convertToInteractive(key) {\n",
              "          const element = document.querySelector('#df-089eb967-1494-4b18-8d5b-125bb4b10fb2');\n",
              "          const dataTable =\n",
              "            await google.colab.kernel.invokeFunction('convertToInteractive',\n",
              "                                                     [key], {});\n",
              "          if (!dataTable) return;\n",
              "\n",
              "          const docLinkHtml = 'Like what you see? Visit the ' +\n",
              "            '<a target=\"_blank\" href=https://colab.research.google.com/notebooks/data_table.ipynb>data table notebook</a>'\n",
              "            + ' to learn more about interactive tables.';\n",
              "          element.innerHTML = '';\n",
              "          dataTable['output_type'] = 'display_data';\n",
              "          await google.colab.output.renderOutput(dataTable, element);\n",
              "          const docLink = document.createElement('div');\n",
              "          docLink.innerHTML = docLinkHtml;\n",
              "          element.appendChild(docLink);\n",
              "        }\n",
              "      </script>\n",
              "    </div>\n",
              "  </div>\n",
              "  "
            ]
          },
          "metadata": {},
          "execution_count": 41
        }
      ]
    },
    {
      "cell_type": "code",
      "source": [
        "strat_test_set.head(5)"
      ],
      "metadata": {
        "colab": {
          "base_uri": "https://localhost:8080/",
          "height": 206
        },
        "id": "D_KqYkZCLIs9",
        "outputId": "a4a0136c-808f-445f-d4cc-4d7af98a3b98"
      },
      "execution_count": 42,
      "outputs": [
        {
          "output_type": "execute_result",
          "data": {
            "text/plain": [
              "       longitude  latitude  housing_median_age  total_rooms  total_bedrooms  \\\n",
              "5241     -118.39     34.12                29.0       6447.0          1012.0   \n",
              "17352    -120.42     34.89                24.0       2020.0           307.0   \n",
              "3505     -118.45     34.25                36.0       1453.0           270.0   \n",
              "7777     -118.10     33.91                35.0       1653.0           325.0   \n",
              "14155    -117.07     32.77                38.0       3779.0           614.0   \n",
              "\n",
              "       population  households  median_income  median_house_value  \\\n",
              "5241       2184.0       960.0         8.2816            500001.0   \n",
              "17352       855.0       283.0         5.0099            162500.0   \n",
              "3505        808.0       275.0         4.3839            204600.0   \n",
              "7777       1072.0       301.0         3.2708            159700.0   \n",
              "14155      1495.0       614.0         4.3529            184000.0   \n",
              "\n",
              "      ocean_proximity  \n",
              "5241        <1H OCEAN  \n",
              "17352       <1H OCEAN  \n",
              "3505        <1H OCEAN  \n",
              "7777        <1H OCEAN  \n",
              "14155      NEAR OCEAN  "
            ],
            "text/html": [
              "\n",
              "  <div id=\"df-86b96ba7-8721-4bde-8547-064aebd131d0\">\n",
              "    <div class=\"colab-df-container\">\n",
              "      <div>\n",
              "<style scoped>\n",
              "    .dataframe tbody tr th:only-of-type {\n",
              "        vertical-align: middle;\n",
              "    }\n",
              "\n",
              "    .dataframe tbody tr th {\n",
              "        vertical-align: top;\n",
              "    }\n",
              "\n",
              "    .dataframe thead th {\n",
              "        text-align: right;\n",
              "    }\n",
              "</style>\n",
              "<table border=\"1\" class=\"dataframe\">\n",
              "  <thead>\n",
              "    <tr style=\"text-align: right;\">\n",
              "      <th></th>\n",
              "      <th>longitude</th>\n",
              "      <th>latitude</th>\n",
              "      <th>housing_median_age</th>\n",
              "      <th>total_rooms</th>\n",
              "      <th>total_bedrooms</th>\n",
              "      <th>population</th>\n",
              "      <th>households</th>\n",
              "      <th>median_income</th>\n",
              "      <th>median_house_value</th>\n",
              "      <th>ocean_proximity</th>\n",
              "    </tr>\n",
              "  </thead>\n",
              "  <tbody>\n",
              "    <tr>\n",
              "      <th>5241</th>\n",
              "      <td>-118.39</td>\n",
              "      <td>34.12</td>\n",
              "      <td>29.0</td>\n",
              "      <td>6447.0</td>\n",
              "      <td>1012.0</td>\n",
              "      <td>2184.0</td>\n",
              "      <td>960.0</td>\n",
              "      <td>8.2816</td>\n",
              "      <td>500001.0</td>\n",
              "      <td>&lt;1H OCEAN</td>\n",
              "    </tr>\n",
              "    <tr>\n",
              "      <th>17352</th>\n",
              "      <td>-120.42</td>\n",
              "      <td>34.89</td>\n",
              "      <td>24.0</td>\n",
              "      <td>2020.0</td>\n",
              "      <td>307.0</td>\n",
              "      <td>855.0</td>\n",
              "      <td>283.0</td>\n",
              "      <td>5.0099</td>\n",
              "      <td>162500.0</td>\n",
              "      <td>&lt;1H OCEAN</td>\n",
              "    </tr>\n",
              "    <tr>\n",
              "      <th>3505</th>\n",
              "      <td>-118.45</td>\n",
              "      <td>34.25</td>\n",
              "      <td>36.0</td>\n",
              "      <td>1453.0</td>\n",
              "      <td>270.0</td>\n",
              "      <td>808.0</td>\n",
              "      <td>275.0</td>\n",
              "      <td>4.3839</td>\n",
              "      <td>204600.0</td>\n",
              "      <td>&lt;1H OCEAN</td>\n",
              "    </tr>\n",
              "    <tr>\n",
              "      <th>7777</th>\n",
              "      <td>-118.10</td>\n",
              "      <td>33.91</td>\n",
              "      <td>35.0</td>\n",
              "      <td>1653.0</td>\n",
              "      <td>325.0</td>\n",
              "      <td>1072.0</td>\n",
              "      <td>301.0</td>\n",
              "      <td>3.2708</td>\n",
              "      <td>159700.0</td>\n",
              "      <td>&lt;1H OCEAN</td>\n",
              "    </tr>\n",
              "    <tr>\n",
              "      <th>14155</th>\n",
              "      <td>-117.07</td>\n",
              "      <td>32.77</td>\n",
              "      <td>38.0</td>\n",
              "      <td>3779.0</td>\n",
              "      <td>614.0</td>\n",
              "      <td>1495.0</td>\n",
              "      <td>614.0</td>\n",
              "      <td>4.3529</td>\n",
              "      <td>184000.0</td>\n",
              "      <td>NEAR OCEAN</td>\n",
              "    </tr>\n",
              "  </tbody>\n",
              "</table>\n",
              "</div>\n",
              "      <button class=\"colab-df-convert\" onclick=\"convertToInteractive('df-86b96ba7-8721-4bde-8547-064aebd131d0')\"\n",
              "              title=\"Convert this dataframe to an interactive table.\"\n",
              "              style=\"display:none;\">\n",
              "        \n",
              "  <svg xmlns=\"http://www.w3.org/2000/svg\" height=\"24px\"viewBox=\"0 0 24 24\"\n",
              "       width=\"24px\">\n",
              "    <path d=\"M0 0h24v24H0V0z\" fill=\"none\"/>\n",
              "    <path d=\"M18.56 5.44l.94 2.06.94-2.06 2.06-.94-2.06-.94-.94-2.06-.94 2.06-2.06.94zm-11 1L8.5 8.5l.94-2.06 2.06-.94-2.06-.94L8.5 2.5l-.94 2.06-2.06.94zm10 10l.94 2.06.94-2.06 2.06-.94-2.06-.94-.94-2.06-.94 2.06-2.06.94z\"/><path d=\"M17.41 7.96l-1.37-1.37c-.4-.4-.92-.59-1.43-.59-.52 0-1.04.2-1.43.59L10.3 9.45l-7.72 7.72c-.78.78-.78 2.05 0 2.83L4 21.41c.39.39.9.59 1.41.59.51 0 1.02-.2 1.41-.59l7.78-7.78 2.81-2.81c.8-.78.8-2.07 0-2.86zM5.41 20L4 18.59l7.72-7.72 1.47 1.35L5.41 20z\"/>\n",
              "  </svg>\n",
              "      </button>\n",
              "      \n",
              "  <style>\n",
              "    .colab-df-container {\n",
              "      display:flex;\n",
              "      flex-wrap:wrap;\n",
              "      gap: 12px;\n",
              "    }\n",
              "\n",
              "    .colab-df-convert {\n",
              "      background-color: #E8F0FE;\n",
              "      border: none;\n",
              "      border-radius: 50%;\n",
              "      cursor: pointer;\n",
              "      display: none;\n",
              "      fill: #1967D2;\n",
              "      height: 32px;\n",
              "      padding: 0 0 0 0;\n",
              "      width: 32px;\n",
              "    }\n",
              "\n",
              "    .colab-df-convert:hover {\n",
              "      background-color: #E2EBFA;\n",
              "      box-shadow: 0px 1px 2px rgba(60, 64, 67, 0.3), 0px 1px 3px 1px rgba(60, 64, 67, 0.15);\n",
              "      fill: #174EA6;\n",
              "    }\n",
              "\n",
              "    [theme=dark] .colab-df-convert {\n",
              "      background-color: #3B4455;\n",
              "      fill: #D2E3FC;\n",
              "    }\n",
              "\n",
              "    [theme=dark] .colab-df-convert:hover {\n",
              "      background-color: #434B5C;\n",
              "      box-shadow: 0px 1px 3px 1px rgba(0, 0, 0, 0.15);\n",
              "      filter: drop-shadow(0px 1px 2px rgba(0, 0, 0, 0.3));\n",
              "      fill: #FFFFFF;\n",
              "    }\n",
              "  </style>\n",
              "\n",
              "      <script>\n",
              "        const buttonEl =\n",
              "          document.querySelector('#df-86b96ba7-8721-4bde-8547-064aebd131d0 button.colab-df-convert');\n",
              "        buttonEl.style.display =\n",
              "          google.colab.kernel.accessAllowed ? 'block' : 'none';\n",
              "\n",
              "        async function convertToInteractive(key) {\n",
              "          const element = document.querySelector('#df-86b96ba7-8721-4bde-8547-064aebd131d0');\n",
              "          const dataTable =\n",
              "            await google.colab.kernel.invokeFunction('convertToInteractive',\n",
              "                                                     [key], {});\n",
              "          if (!dataTable) return;\n",
              "\n",
              "          const docLinkHtml = 'Like what you see? Visit the ' +\n",
              "            '<a target=\"_blank\" href=https://colab.research.google.com/notebooks/data_table.ipynb>data table notebook</a>'\n",
              "            + ' to learn more about interactive tables.';\n",
              "          element.innerHTML = '';\n",
              "          dataTable['output_type'] = 'display_data';\n",
              "          await google.colab.output.renderOutput(dataTable, element);\n",
              "          const docLink = document.createElement('div');\n",
              "          docLink.innerHTML = docLinkHtml;\n",
              "          element.appendChild(docLink);\n",
              "        }\n",
              "      </script>\n",
              "    </div>\n",
              "  </div>\n",
              "  "
            ]
          },
          "metadata": {},
          "execution_count": 42
        }
      ]
    },
    {
      "cell_type": "markdown",
      "source": [
        "## 데이터 탐색과 시각화"
      ],
      "metadata": {
        "id": "Xcja4RDkLS20"
      }
    },
    {
      "cell_type": "markdown",
      "source": [
        "- 훈련 데이터셋에 대해서만 탐색"
      ],
      "metadata": {
        "id": "CKilbRa4Lf2F"
      }
    },
    {
      "cell_type": "code",
      "source": [
        "housing = strat_train_set.copy()"
      ],
      "metadata": {
        "id": "xbmzvajFLUBw"
      },
      "execution_count": 43,
      "outputs": []
    },
    {
      "cell_type": "code",
      "source": [
        "housing.head(3)"
      ],
      "metadata": {
        "colab": {
          "base_uri": "https://localhost:8080/",
          "height": 143
        },
        "id": "VMO7-0C8Lnld",
        "outputId": "e9bd7d1e-6657-45a4-8afd-80bac73d1ec2"
      },
      "execution_count": 44,
      "outputs": [
        {
          "output_type": "execute_result",
          "data": {
            "text/plain": [
              "       longitude  latitude  housing_median_age  total_rooms  total_bedrooms  \\\n",
              "12655    -121.46     38.52                29.0       3873.0           797.0   \n",
              "15502    -117.23     33.09                 7.0       5320.0           855.0   \n",
              "2908     -119.04     35.37                44.0       1618.0           310.0   \n",
              "\n",
              "       population  households  median_income  median_house_value  \\\n",
              "12655      2237.0       706.0         2.1736             72100.0   \n",
              "15502      2015.0       768.0         6.3373            279600.0   \n",
              "2908        667.0       300.0         2.8750             82700.0   \n",
              "\n",
              "      ocean_proximity  \n",
              "12655          INLAND  \n",
              "15502      NEAR OCEAN  \n",
              "2908           INLAND  "
            ],
            "text/html": [
              "\n",
              "  <div id=\"df-72c98047-7e0c-4233-8ebc-5a7e6d433eca\">\n",
              "    <div class=\"colab-df-container\">\n",
              "      <div>\n",
              "<style scoped>\n",
              "    .dataframe tbody tr th:only-of-type {\n",
              "        vertical-align: middle;\n",
              "    }\n",
              "\n",
              "    .dataframe tbody tr th {\n",
              "        vertical-align: top;\n",
              "    }\n",
              "\n",
              "    .dataframe thead th {\n",
              "        text-align: right;\n",
              "    }\n",
              "</style>\n",
              "<table border=\"1\" class=\"dataframe\">\n",
              "  <thead>\n",
              "    <tr style=\"text-align: right;\">\n",
              "      <th></th>\n",
              "      <th>longitude</th>\n",
              "      <th>latitude</th>\n",
              "      <th>housing_median_age</th>\n",
              "      <th>total_rooms</th>\n",
              "      <th>total_bedrooms</th>\n",
              "      <th>population</th>\n",
              "      <th>households</th>\n",
              "      <th>median_income</th>\n",
              "      <th>median_house_value</th>\n",
              "      <th>ocean_proximity</th>\n",
              "    </tr>\n",
              "  </thead>\n",
              "  <tbody>\n",
              "    <tr>\n",
              "      <th>12655</th>\n",
              "      <td>-121.46</td>\n",
              "      <td>38.52</td>\n",
              "      <td>29.0</td>\n",
              "      <td>3873.0</td>\n",
              "      <td>797.0</td>\n",
              "      <td>2237.0</td>\n",
              "      <td>706.0</td>\n",
              "      <td>2.1736</td>\n",
              "      <td>72100.0</td>\n",
              "      <td>INLAND</td>\n",
              "    </tr>\n",
              "    <tr>\n",
              "      <th>15502</th>\n",
              "      <td>-117.23</td>\n",
              "      <td>33.09</td>\n",
              "      <td>7.0</td>\n",
              "      <td>5320.0</td>\n",
              "      <td>855.0</td>\n",
              "      <td>2015.0</td>\n",
              "      <td>768.0</td>\n",
              "      <td>6.3373</td>\n",
              "      <td>279600.0</td>\n",
              "      <td>NEAR OCEAN</td>\n",
              "    </tr>\n",
              "    <tr>\n",
              "      <th>2908</th>\n",
              "      <td>-119.04</td>\n",
              "      <td>35.37</td>\n",
              "      <td>44.0</td>\n",
              "      <td>1618.0</td>\n",
              "      <td>310.0</td>\n",
              "      <td>667.0</td>\n",
              "      <td>300.0</td>\n",
              "      <td>2.8750</td>\n",
              "      <td>82700.0</td>\n",
              "      <td>INLAND</td>\n",
              "    </tr>\n",
              "  </tbody>\n",
              "</table>\n",
              "</div>\n",
              "      <button class=\"colab-df-convert\" onclick=\"convertToInteractive('df-72c98047-7e0c-4233-8ebc-5a7e6d433eca')\"\n",
              "              title=\"Convert this dataframe to an interactive table.\"\n",
              "              style=\"display:none;\">\n",
              "        \n",
              "  <svg xmlns=\"http://www.w3.org/2000/svg\" height=\"24px\"viewBox=\"0 0 24 24\"\n",
              "       width=\"24px\">\n",
              "    <path d=\"M0 0h24v24H0V0z\" fill=\"none\"/>\n",
              "    <path d=\"M18.56 5.44l.94 2.06.94-2.06 2.06-.94-2.06-.94-.94-2.06-.94 2.06-2.06.94zm-11 1L8.5 8.5l.94-2.06 2.06-.94-2.06-.94L8.5 2.5l-.94 2.06-2.06.94zm10 10l.94 2.06.94-2.06 2.06-.94-2.06-.94-.94-2.06-.94 2.06-2.06.94z\"/><path d=\"M17.41 7.96l-1.37-1.37c-.4-.4-.92-.59-1.43-.59-.52 0-1.04.2-1.43.59L10.3 9.45l-7.72 7.72c-.78.78-.78 2.05 0 2.83L4 21.41c.39.39.9.59 1.41.59.51 0 1.02-.2 1.41-.59l7.78-7.78 2.81-2.81c.8-.78.8-2.07 0-2.86zM5.41 20L4 18.59l7.72-7.72 1.47 1.35L5.41 20z\"/>\n",
              "  </svg>\n",
              "      </button>\n",
              "      \n",
              "  <style>\n",
              "    .colab-df-container {\n",
              "      display:flex;\n",
              "      flex-wrap:wrap;\n",
              "      gap: 12px;\n",
              "    }\n",
              "\n",
              "    .colab-df-convert {\n",
              "      background-color: #E8F0FE;\n",
              "      border: none;\n",
              "      border-radius: 50%;\n",
              "      cursor: pointer;\n",
              "      display: none;\n",
              "      fill: #1967D2;\n",
              "      height: 32px;\n",
              "      padding: 0 0 0 0;\n",
              "      width: 32px;\n",
              "    }\n",
              "\n",
              "    .colab-df-convert:hover {\n",
              "      background-color: #E2EBFA;\n",
              "      box-shadow: 0px 1px 2px rgba(60, 64, 67, 0.3), 0px 1px 3px 1px rgba(60, 64, 67, 0.15);\n",
              "      fill: #174EA6;\n",
              "    }\n",
              "\n",
              "    [theme=dark] .colab-df-convert {\n",
              "      background-color: #3B4455;\n",
              "      fill: #D2E3FC;\n",
              "    }\n",
              "\n",
              "    [theme=dark] .colab-df-convert:hover {\n",
              "      background-color: #434B5C;\n",
              "      box-shadow: 0px 1px 3px 1px rgba(0, 0, 0, 0.15);\n",
              "      filter: drop-shadow(0px 1px 2px rgba(0, 0, 0, 0.3));\n",
              "      fill: #FFFFFF;\n",
              "    }\n",
              "  </style>\n",
              "\n",
              "      <script>\n",
              "        const buttonEl =\n",
              "          document.querySelector('#df-72c98047-7e0c-4233-8ebc-5a7e6d433eca button.colab-df-convert');\n",
              "        buttonEl.style.display =\n",
              "          google.colab.kernel.accessAllowed ? 'block' : 'none';\n",
              "\n",
              "        async function convertToInteractive(key) {\n",
              "          const element = document.querySelector('#df-72c98047-7e0c-4233-8ebc-5a7e6d433eca');\n",
              "          const dataTable =\n",
              "            await google.colab.kernel.invokeFunction('convertToInteractive',\n",
              "                                                     [key], {});\n",
              "          if (!dataTable) return;\n",
              "\n",
              "          const docLinkHtml = 'Like what you see? Visit the ' +\n",
              "            '<a target=\"_blank\" href=https://colab.research.google.com/notebooks/data_table.ipynb>data table notebook</a>'\n",
              "            + ' to learn more about interactive tables.';\n",
              "          element.innerHTML = '';\n",
              "          dataTable['output_type'] = 'display_data';\n",
              "          await google.colab.output.renderOutput(dataTable, element);\n",
              "          const docLink = document.createElement('div');\n",
              "          docLink.innerHTML = docLinkHtml;\n",
              "          element.appendChild(docLink);\n",
              "        }\n",
              "      </script>\n",
              "    </div>\n",
              "  </div>\n",
              "  "
            ]
          },
          "metadata": {},
          "execution_count": 44
        }
      ]
    },
    {
      "cell_type": "markdown",
      "source": [
        "- 위경도 산점도 시각화"
      ],
      "metadata": {
        "id": "ogZlUhqBLv0M"
      }
    },
    {
      "cell_type": "code",
      "source": [
        "## 위경도 산점도 시각화\n",
        "housing.plot(kind=\"scatter\", x=\"longitude\", y=\"latitude\")"
      ],
      "metadata": {
        "colab": {
          "base_uri": "https://localhost:8080/",
          "height": 304
        },
        "id": "T2txwGG3LuC0",
        "outputId": "de804094-bdf4-4c16-9bc6-743cfddaed07"
      },
      "execution_count": 46,
      "outputs": [
        {
          "output_type": "execute_result",
          "data": {
            "text/plain": [
              "<matplotlib.axes._subplots.AxesSubplot at 0x7f41bfc4b410>"
            ]
          },
          "metadata": {},
          "execution_count": 46
        },
        {
          "output_type": "display_data",
          "data": {
            "text/plain": [
              "<Figure size 432x288 with 1 Axes>"
            ],
            "image/png": "[encoded data removed]"
          },
          "metadata": {
            "needs_background": "light"
          }
        }
      ]
    },
    {
      "cell_type": "code",
      "source": [
        "## 데이터 밀집 영역 확인\n",
        "housing.plot(kind=\"scatter\", x=\"longitude\", y=\"latitude\", alpha=0.1)"
      ],
      "metadata": {
        "colab": {
          "base_uri": "https://localhost:8080/",
          "height": 304
        },
        "id": "VnPMyMh4L0fk",
        "outputId": "97617f51-4b36-4f9e-cee9-60918bc9ee25"
      },
      "execution_count": 47,
      "outputs": [
        {
          "output_type": "execute_result",
          "data": {
            "text/plain": [
              "<matplotlib.axes._subplots.AxesSubplot at 0x7f41c0002590>"
            ]
          },
          "metadata": {},
          "execution_count": 47
        },
        {
          "output_type": "display_data",
          "data": {
            "text/plain": [
              "<Figure size 432x288 with 1 Axes>"
            ],
            "image/png": "[encoded data removed]"
          },
          "metadata": {
            "needs_background": "light"
          }
        }
      ]
    },
    {
      "cell_type": "markdown",
      "source": [
        "- 주택 가격 시각화\n",
        "  - 주택 가격은 지역 (예 - 바다와 밀접) 과 인구 밀도에 관련이 크다는 것을 알 수 있음"
      ],
      "metadata": {
        "id": "9MWT1R0YM75g"
      }
    },
    {
      "cell_type": "code",
      "source": [
        "housing.plot(kind=\"scatter\", x=\"longitude\", y=\"latitude\", alpha=0.4,\n",
        "             ## s = 마커의 크기를 결정하는 파라미터 -> 구역 인구\n",
        "             s=housing[\"population\"]/100, label=\"population\", figsize=(10,7),\n",
        "             ## c = 마커의 색상을 결정하는 파라미터 -> 중간 주택 가격\n",
        "             c=\"median_house_value\", cmap=plt.get_cmap(\"jet\"), colorbar=True,\n",
        "             sharex=False)"
      ],
      "metadata": {
        "colab": {
          "base_uri": "https://localhost:8080/",
          "height": 472
        },
        "id": "Q61_sSQQMDJ_",
        "outputId": "b497c8f0-579c-49c8-bcab-2bf882a72c12"
      },
      "execution_count": 48,
      "outputs": [
        {
          "output_type": "execute_result",
          "data": {
            "text/plain": [
              "<matplotlib.axes._subplots.AxesSubplot at 0x7f41bff70410>"
            ]
          },
          "metadata": {},
          "execution_count": 48
        },
        {
          "output_type": "display_data",
          "data": {
            "text/plain": [
              "<Figure size 720x504 with 2 Axes>"
            ],
            "image/png": "[encoded data removed]"
          },
          "metadata": {
            "needs_background": "light"
          }
        }
      ]
    },
    {
      "cell_type": "markdown",
      "source": [
        "- 특성 간의 상관관계 조사\n",
        "  - 선형적인 상관관계 조사\n",
        "  - 모든 특성 간의 표준 상관계수 (= 피어슨 r) 을 계산 (`corr`)\n",
        "![image.png](data:image/png;base64,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)"
      ],
      "metadata": {
        "id": "oNVU2KEYSHZs"
      }
    },
    {
      "cell_type": "code",
      "source": [
        "corr_matrix = housing.corr()\n",
        "corr_matrix"
      ],
      "metadata": {
        "colab": {
          "base_uri": "https://localhost:8080/",
          "height": 331
        },
        "id": "uYJl04ETRcTD",
        "outputId": "91843720-5312-4c63-80ea-0853d9b104da"
      },
      "execution_count": 53,
      "outputs": [
        {
          "output_type": "execute_result",
          "data": {
            "text/plain": [
              "                    longitude  latitude  housing_median_age  total_rooms  \\\n",
              "longitude            1.000000 -0.924478           -0.105823     0.048909   \n",
              "latitude            -0.924478  1.000000            0.005737    -0.039245   \n",
              "housing_median_age  -0.105823  0.005737            1.000000    -0.364535   \n",
              "total_rooms          0.048909 -0.039245           -0.364535     1.000000   \n",
              "total_bedrooms       0.076686 -0.072550           -0.325101     0.929391   \n",
              "population           0.108071 -0.115290           -0.298737     0.855103   \n",
              "households           0.063146 -0.077765           -0.306473     0.918396   \n",
              "median_income       -0.019615 -0.075146           -0.111315     0.200133   \n",
              "median_house_value  -0.047466 -0.142673            0.114146     0.135140   \n",
              "\n",
              "                    total_bedrooms  population  households  median_income  \\\n",
              "longitude                 0.076686    0.108071    0.063146      -0.019615   \n",
              "latitude                 -0.072550   -0.115290   -0.077765      -0.075146   \n",
              "housing_median_age       -0.325101   -0.298737   -0.306473      -0.111315   \n",
              "total_rooms               0.929391    0.855103    0.918396       0.200133   \n",
              "total_bedrooms            1.000000    0.876324    0.980167      -0.009643   \n",
              "population                0.876324    1.000000    0.904639       0.002421   \n",
              "households                0.980167    0.904639    1.000000       0.010869   \n",
              "median_income            -0.009643    0.002421    0.010869       1.000000   \n",
              "median_house_value        0.047781   -0.026882    0.064590       0.687151   \n",
              "\n",
              "                    median_house_value  \n",
              "longitude                    -0.047466  \n",
              "latitude                     -0.142673  \n",
              "housing_median_age            0.114146  \n",
              "total_rooms                   0.135140  \n",
              "total_bedrooms                0.047781  \n",
              "population                   -0.026882  \n",
              "households                    0.064590  \n",
              "median_income                 0.687151  \n",
              "median_house_value            1.000000  "
            ],
            "text/html": [
              "\n",
              "  <div id=\"df-1aed4db0-3def-4e7f-8926-ad380bfb1f52\">\n",
              "    <div class=\"colab-df-container\">\n",
              "      <div>\n",
              "<style scoped>\n",
              "    .dataframe tbody tr th:only-of-type {\n",
              "        vertical-align: middle;\n",
              "    }\n",
              "\n",
              "    .dataframe tbody tr th {\n",
              "        vertical-align: top;\n",
              "    }\n",
              "\n",
              "    .dataframe thead th {\n",
              "        text-align: right;\n",
              "    }\n",
              "</style>\n",
              "<table border=\"1\" class=\"dataframe\">\n",
              "  <thead>\n",
              "    <tr style=\"text-align: right;\">\n",
              "      <th></th>\n",
              "      <th>longitude</th>\n",
              "      <th>latitude</th>\n",
              "      <th>housing_median_age</th>\n",
              "      <th>total_rooms</th>\n",
              "      <th>total_bedrooms</th>\n",
              "      <th>population</th>\n",
              "      <th>households</th>\n",
              "      <th>median_income</th>\n",
              "      <th>median_house_value</th>\n",
              "    </tr>\n",
              "  </thead>\n",
              "  <tbody>\n",
              "    <tr>\n",
              "      <th>longitude</th>\n",
              "      <td>1.000000</td>\n",
              "      <td>-0.924478</td>\n",
              "      <td>-0.105823</td>\n",
              "      <td>0.048909</td>\n",
              "      <td>0.076686</td>\n",
              "      <td>0.108071</td>\n",
              "      <td>0.063146</td>\n",
              "      <td>-0.019615</td>\n",
              "      <td>-0.047466</td>\n",
              "    </tr>\n",
              "    <tr>\n",
              "      <th>latitude</th>\n",
              "      <td>-0.924478</td>\n",
              "      <td>1.000000</td>\n",
              "      <td>0.005737</td>\n",
              "      <td>-0.039245</td>\n",
              "      <td>-0.072550</td>\n",
              "      <td>-0.115290</td>\n",
              "      <td>-0.077765</td>\n",
              "      <td>-0.075146</td>\n",
              "      <td>-0.142673</td>\n",
              "    </tr>\n",
              "    <tr>\n",
              "      <th>housing_median_age</th>\n",
              "      <td>-0.105823</td>\n",
              "      <td>0.005737</td>\n",
              "      <td>1.000000</td>\n",
              "      <td>-0.364535</td>\n",
              "      <td>-0.325101</td>\n",
              "      <td>-0.298737</td>\n",
              "      <td>-0.306473</td>\n",
              "      <td>-0.111315</td>\n",
              "      <td>0.114146</td>\n",
              "    </tr>\n",
              "    <tr>\n",
              "      <th>total_rooms</th>\n",
              "      <td>0.048909</td>\n",
              "      <td>-0.039245</td>\n",
              "      <td>-0.364535</td>\n",
              "      <td>1.000000</td>\n",
              "      <td>0.929391</td>\n",
              "      <td>0.855103</td>\n",
              "      <td>0.918396</td>\n",
              "      <td>0.200133</td>\n",
              "      <td>0.135140</td>\n",
              "    </tr>\n",
              "    <tr>\n",
              "      <th>total_bedrooms</th>\n",
              "      <td>0.076686</td>\n",
              "      <td>-0.072550</td>\n",
              "      <td>-0.325101</td>\n",
              "      <td>0.929391</td>\n",
              "      <td>1.000000</td>\n",
              "      <td>0.876324</td>\n",
              "      <td>0.980167</td>\n",
              "      <td>-0.009643</td>\n",
              "      <td>0.047781</td>\n",
              "    </tr>\n",
              "    <tr>\n",
              "      <th>population</th>\n",
              "      <td>0.108071</td>\n",
              "      <td>-0.115290</td>\n",
              "      <td>-0.298737</td>\n",
              "      <td>0.855103</td>\n",
              "      <td>0.876324</td>\n",
              "      <td>1.000000</td>\n",
              "      <td>0.904639</td>\n",
              "      <td>0.002421</td>\n",
              "      <td>-0.026882</td>\n",
              "    </tr>\n",
              "    <tr>\n",
              "      <th>households</th>\n",
              "      <td>0.063146</td>\n",
              "      <td>-0.077765</td>\n",
              "      <td>-0.306473</td>\n",
              "      <td>0.918396</td>\n",
              "      <td>0.980167</td>\n",
              "      <td>0.904639</td>\n",
              "      <td>1.000000</td>\n",
              "      <td>0.010869</td>\n",
              "      <td>0.064590</td>\n",
              "    </tr>\n",
              "    <tr>\n",
              "      <th>median_income</th>\n",
              "      <td>-0.019615</td>\n",
              "      <td>-0.075146</td>\n",
              "      <td>-0.111315</td>\n",
              "      <td>0.200133</td>\n",
              "      <td>-0.009643</td>\n",
              "      <td>0.002421</td>\n",
              "      <td>0.010869</td>\n",
              "      <td>1.000000</td>\n",
              "      <td>0.687151</td>\n",
              "    </tr>\n",
              "    <tr>\n",
              "      <th>median_house_value</th>\n",
              "      <td>-0.047466</td>\n",
              "      <td>-0.142673</td>\n",
              "      <td>0.114146</td>\n",
              "      <td>0.135140</td>\n",
              "      <td>0.047781</td>\n",
              "      <td>-0.026882</td>\n",
              "      <td>0.064590</td>\n",
              "      <td>0.687151</td>\n",
              "      <td>1.000000</td>\n",
              "    </tr>\n",
              "  </tbody>\n",
              "</table>\n",
              "</div>\n",
              "      <button class=\"colab-df-convert\" onclick=\"convertToInteractive('df-1aed4db0-3def-4e7f-8926-ad380bfb1f52')\"\n",
              "              title=\"Convert this dataframe to an interactive table.\"\n",
              "              style=\"display:none;\">\n",
              "        \n",
              "  <svg xmlns=\"http://www.w3.org/2000/svg\" height=\"24px\"viewBox=\"0 0 24 24\"\n",
              "       width=\"24px\">\n",
              "    <path d=\"M0 0h24v24H0V0z\" fill=\"none\"/>\n",
              "    <path d=\"M18.56 5.44l.94 2.06.94-2.06 2.06-.94-2.06-.94-.94-2.06-.94 2.06-2.06.94zm-11 1L8.5 8.5l.94-2.06 2.06-.94-2.06-.94L8.5 2.5l-.94 2.06-2.06.94zm10 10l.94 2.06.94-2.06 2.06-.94-2.06-.94-.94-2.06-.94 2.06-2.06.94z\"/><path d=\"M17.41 7.96l-1.37-1.37c-.4-.4-.92-.59-1.43-.59-.52 0-1.04.2-1.43.59L10.3 9.45l-7.72 7.72c-.78.78-.78 2.05 0 2.83L4 21.41c.39.39.9.59 1.41.59.51 0 1.02-.2 1.41-.59l7.78-7.78 2.81-2.81c.8-.78.8-2.07 0-2.86zM5.41 20L4 18.59l7.72-7.72 1.47 1.35L5.41 20z\"/>\n",
              "  </svg>\n",
              "      </button>\n",
              "      \n",
              "  <style>\n",
              "    .colab-df-container {\n",
              "      display:flex;\n",
              "      flex-wrap:wrap;\n",
              "      gap: 12px;\n",
              "    }\n",
              "\n",
              "    .colab-df-convert {\n",
              "      background-color: #E8F0FE;\n",
              "      border: none;\n",
              "      border-radius: 50%;\n",
              "      cursor: pointer;\n",
              "      display: none;\n",
              "      fill: #1967D2;\n",
              "      height: 32px;\n",
              "      padding: 0 0 0 0;\n",
              "      width: 32px;\n",
              "    }\n",
              "\n",
              "    .colab-df-convert:hover {\n",
              "      background-color: #E2EBFA;\n",
              "      box-shadow: 0px 1px 2px rgba(60, 64, 67, 0.3), 0px 1px 3px 1px rgba(60, 64, 67, 0.15);\n",
              "      fill: #174EA6;\n",
              "    }\n",
              "\n",
              "    [theme=dark] .colab-df-convert {\n",
              "      background-color: #3B4455;\n",
              "      fill: #D2E3FC;\n",
              "    }\n",
              "\n",
              "    [theme=dark] .colab-df-convert:hover {\n",
              "      background-color: #434B5C;\n",
              "      box-shadow: 0px 1px 3px 1px rgba(0, 0, 0, 0.15);\n",
              "      filter: drop-shadow(0px 1px 2px rgba(0, 0, 0, 0.3));\n",
              "      fill: #FFFFFF;\n",
              "    }\n",
              "  </style>\n",
              "\n",
              "      <script>\n",
              "        const buttonEl =\n",
              "          document.querySelector('#df-1aed4db0-3def-4e7f-8926-ad380bfb1f52 button.colab-df-convert');\n",
              "        buttonEl.style.display =\n",
              "          google.colab.kernel.accessAllowed ? 'block' : 'none';\n",
              "\n",
              "        async function convertToInteractive(key) {\n",
              "          const element = document.querySelector('#df-1aed4db0-3def-4e7f-8926-ad380bfb1f52');\n",
              "          const dataTable =\n",
              "            await google.colab.kernel.invokeFunction('convertToInteractive',\n",
              "                                                     [key], {});\n",
              "          if (!dataTable) return;\n",
              "\n",
              "          const docLinkHtml = 'Like what you see? Visit the ' +\n",
              "            '<a target=\"_blank\" href=https://colab.research.google.com/notebooks/data_table.ipynb>data table notebook</a>'\n",
              "            + ' to learn more about interactive tables.';\n",
              "          element.innerHTML = '';\n",
              "          dataTable['output_type'] = 'display_data';\n",
              "          await google.colab.output.renderOutput(dataTable, element);\n",
              "          const docLink = document.createElement('div');\n",
              "          docLink.innerHTML = docLinkHtml;\n",
              "          element.appendChild(docLink);\n",
              "        }\n",
              "      </script>\n",
              "    </div>\n",
              "  </div>\n",
              "  "
            ]
          },
          "metadata": {},
          "execution_count": 53
        }
      ]
    },
    {
      "cell_type": "code",
      "source": [
        "corr_matrix[\"median_house_value\"].sort_values(ascending=False)"
      ],
      "metadata": {
        "colab": {
          "base_uri": "https://localhost:8080/"
        },
        "id": "G6r_exJcS59R",
        "outputId": "a1b11fe6-e124-4b84-de5b-e6f1f7f6582e"
      },
      "execution_count": 52,
      "outputs": [
        {
          "output_type": "execute_result",
          "data": {
            "text/plain": [
              "median_house_value    1.000000\n",
              "median_income         0.687151\n",
              "total_rooms           0.135140\n",
              "housing_median_age    0.114146\n",
              "households            0.064590\n",
              "total_bedrooms        0.047781\n",
              "population           -0.026882\n",
              "longitude            -0.047466\n",
              "latitude             -0.142673\n",
              "Name: median_house_value, dtype: float64"
            ]
          },
          "metadata": {},
          "execution_count": 52
        }
      ]
    },
    {
      "cell_type": "markdown",
      "source": [
        "- 특성 간의 상관관계 조사\n",
        "  - 숫자형 특성 사이의 산점도 확인 (`scatter_matrix`)"
      ],
      "metadata": {
        "id": "cnukrBGYU63W"
      }
    },
    {
      "cell_type": "code",
      "source": [
        "from pandas.plotting import scatter_matrix\n",
        "\n",
        "attributes = [\"median_house_value\", \"median_income\", \"total_rooms\", \"housing_median_age\"]\n",
        "scatter_matrix(housing[attributes], figsize=(12, 8))"
      ],
      "metadata": {
        "colab": {
          "base_uri": "https://localhost:8080/",
          "height": 854
        },
        "id": "c0JNHAULS7ln",
        "outputId": "550fc3a3-0c69-408a-e848-c6ef875d3b03"
      },
      "execution_count": 54,
      "outputs": [
        {
          "output_type": "execute_result",
          "data": {
            "text/plain": [
              "array([[<matplotlib.axes._subplots.AxesSubplot object at 0x7f41bffa7b10>,\n",
              "        <matplotlib.axes._subplots.AxesSubplot object at 0x7f41bfadac50>,\n",
              "        <matplotlib.axes._subplots.AxesSubplot object at 0x7f41bf4a0ed0>,\n",
              "        <matplotlib.axes._subplots.AxesSubplot object at 0x7f41befe5fd0>],\n",
              "       [<matplotlib.axes._subplots.AxesSubplot object at 0x7f41bf4e3b50>,\n",
              "        <matplotlib.axes._subplots.AxesSubplot object at 0x7f41bef66e50>,\n",
              "        <matplotlib.axes._subplots.AxesSubplot object at 0x7f41beeba590>,\n",
              "        <matplotlib.axes._subplots.AxesSubplot object at 0x7f41bfbede90>],\n",
              "       [<matplotlib.axes._subplots.AxesSubplot object at 0x7f41bfbedd10>,\n",
              "        <matplotlib.axes._subplots.AxesSubplot object at 0x7f41bf58dc90>,\n",
              "        <matplotlib.axes._subplots.AxesSubplot object at 0x7f41bfa079d0>,\n",
              "        <matplotlib.axes._subplots.AxesSubplot object at 0x7f41bf172290>],\n",
              "       [<matplotlib.axes._subplots.AxesSubplot object at 0x7f41bf253fd0>,\n",
              "        <matplotlib.axes._subplots.AxesSubplot object at 0x7f41bfb74050>,\n",
              "        <matplotlib.axes._subplots.AxesSubplot object at 0x7f41bef4be10>,\n",
              "        <matplotlib.axes._subplots.AxesSubplot object at 0x7f41bf49bcd0>]],\n",
              "      dtype=object)"
            ]
          },
          "metadata": {},
          "execution_count": 54
        },
        {
          "output_type": "display_data",
          "data": {
            "text/plain": [
              "<Figure size 864x576 with 16 Axes>"
            ],
            "image/png": "[encoded data removed]"
          },
          "metadata": {
            "needs_background": "light"
          }
        }
      ]
    },
    {
      "cell_type": "code",
      "source": [
        "## 가장 유용할 것으로 판단되는 median_income 과의 상관관계 확인\n",
        "housing.plot(kind=\"scatter\", x=\"median_income\", y=\"median_house_value\", alpha=0.1)\n",
        "plt.axis([0, 16, 0, 550000]) # median_income min, max & median_house_value min, max\n",
        "\n",
        "## 500000, 350000 등에서 직선에 가까운 형태의 데이터 분포를 확인할 수 있음\n",
        "## 알고리즘이 이러한 형태를 학습하지 않도록 해당 구역을 제거해야 함"
      ],
      "metadata": {
        "colab": {
          "base_uri": "https://localhost:8080/",
          "height": 304
        },
        "id": "Yia5OnD8VNRn",
        "outputId": "443d84b5-3d8e-4290-f222-a2ab6c198fe3"
      },
      "execution_count": 60,
      "outputs": [
        {
          "output_type": "execute_result",
          "data": {
            "text/plain": [
              "(0.0, 16.0, 0.0, 550000.0)"
            ]
          },
          "metadata": {},
          "execution_count": 60
        },
        {
          "output_type": "display_data",
          "data": {
            "text/plain": [
              "<Figure size 432x288 with 1 Axes>"
            ],
            "image/png": "[encoded data removed]"
          },
          "metadata": {
            "needs_background": "light"
          }
        }
      ]
    },
    {
      "cell_type": "markdown",
      "source": [
        "## 특성 조합 실험"
      ],
      "metadata": {
        "id": "SlEpGeu3WvDk"
      }
    },
    {
      "cell_type": "markdown",
      "source": [
        "- 데이터 탐색 및 시각화 과정에서 한 것\n",
        "  - 이상한 데이터 확인\n",
        "  - 특성 사이의 상관관계 확인\n",
        "  - 꼬리가 두꺼운 분포를 보이는 데이터는 변형이 필요함을 확인 (예 - 로그 스케일)\n",
        "\n",
        "- 추가적으로 할 수 있는 실험\n",
        "  - 특성 조합"
      ],
      "metadata": {
        "id": "63NKkM3LW2Qt"
      }
    },
    {
      "cell_type": "code",
      "source": [
        "## 특성 조합\n",
        "housing[\"rooms_per_household\"] = housing[\"total_rooms\"] / housing[\"households\"]   ## 한 가구 당 방 수\n",
        "housing[\"bedrooms_per_room\"] = housing[\"total_bedrooms\"] / housing[\"total_rooms\"] ## 방 하나 당 침대 수\n",
        "housing[\"population_per_household\"]=housing[\"population\"] / housing[\"households\"] ## 한 가구 당 인구 수"
      ],
      "metadata": {
        "id": "FFc8LLoGWDyt"
      },
      "execution_count": 63,
      "outputs": []
    },
    {
      "cell_type": "code",
      "source": [
        "housing.head(5)"
      ],
      "metadata": {
        "colab": {
          "base_uri": "https://localhost:8080/",
          "height": 270
        },
        "id": "5lgcCdPnXLud",
        "outputId": "f7a27d0f-123a-4bd7-edc4-40da3de56bb3"
      },
      "execution_count": 62,
      "outputs": [
        {
          "output_type": "execute_result",
          "data": {
            "text/plain": [
              "   longitude  latitude  housing_median_age  total_rooms  total_bedrooms  \\\n",
              "0    -122.23     37.88                41.0        880.0           129.0   \n",
              "1    -122.22     37.86                21.0       7099.0          1106.0   \n",
              "2    -122.24     37.85                52.0       1467.0           190.0   \n",
              "3    -122.25     37.85                52.0       1274.0           235.0   \n",
              "4    -122.25     37.85                52.0       1627.0           280.0   \n",
              "\n",
              "   population  households  median_income  median_house_value ocean_proximity  \\\n",
              "0       322.0       126.0         8.3252            452600.0        NEAR BAY   \n",
              "1      2401.0      1138.0         8.3014            358500.0        NEAR BAY   \n",
              "2       496.0       177.0         7.2574            352100.0        NEAR BAY   \n",
              "3       558.0       219.0         5.6431            341300.0        NEAR BAY   \n",
              "4       565.0       259.0         3.8462            342200.0        NEAR BAY   \n",
              "\n",
              "   rooms_per_household  bedrooms_per_room  population_per_household  \n",
              "0             6.984127           0.146591                  2.555556  \n",
              "1             6.238137           0.155797                  2.109842  \n",
              "2             8.288136           0.129516                  2.802260  \n",
              "3             5.817352           0.184458                  2.547945  \n",
              "4             6.281853           0.172096                  2.181467  "
            ],
            "text/html": [
              "\n",
              "  <div id=\"df-d36b26af-f844-48f3-bc84-bf0ba95ee61e\">\n",
              "    <div class=\"colab-df-container\">\n",
              "      <div>\n",
              "<style scoped>\n",
              "    .dataframe tbody tr th:only-of-type {\n",
              "        vertical-align: middle;\n",
              "    }\n",
              "\n",
              "    .dataframe tbody tr th {\n",
              "        vertical-align: top;\n",
              "    }\n",
              "\n",
              "    .dataframe thead th {\n",
              "        text-align: right;\n",
              "    }\n",
              "</style>\n",
              "<table border=\"1\" class=\"dataframe\">\n",
              "  <thead>\n",
              "    <tr style=\"text-align: right;\">\n",
              "      <th></th>\n",
              "      <th>longitude</th>\n",
              "      <th>latitude</th>\n",
              "      <th>housing_median_age</th>\n",
              "      <th>total_rooms</th>\n",
              "      <th>total_bedrooms</th>\n",
              "      <th>population</th>\n",
              "      <th>households</th>\n",
              "      <th>median_income</th>\n",
              "      <th>median_house_value</th>\n",
              "      <th>ocean_proximity</th>\n",
              "      <th>rooms_per_household</th>\n",
              "      <th>bedrooms_per_room</th>\n",
              "      <th>population_per_household</th>\n",
              "    </tr>\n",
              "  </thead>\n",
              "  <tbody>\n",
              "    <tr>\n",
              "      <th>0</th>\n",
              "      <td>-122.23</td>\n",
              "      <td>37.88</td>\n",
              "      <td>41.0</td>\n",
              "      <td>880.0</td>\n",
              "      <td>129.0</td>\n",
              "      <td>322.0</td>\n",
              "      <td>126.0</td>\n",
              "      <td>8.3252</td>\n",
              "      <td>452600.0</td>\n",
              "      <td>NEAR BAY</td>\n",
              "      <td>6.984127</td>\n",
              "      <td>0.146591</td>\n",
              "      <td>2.555556</td>\n",
              "    </tr>\n",
              "    <tr>\n",
              "      <th>1</th>\n",
              "      <td>-122.22</td>\n",
              "      <td>37.86</td>\n",
              "      <td>21.0</td>\n",
              "      <td>7099.0</td>\n",
              "      <td>1106.0</td>\n",
              "      <td>2401.0</td>\n",
              "      <td>1138.0</td>\n",
              "      <td>8.3014</td>\n",
              "      <td>358500.0</td>\n",
              "      <td>NEAR BAY</td>\n",
              "      <td>6.238137</td>\n",
              "      <td>0.155797</td>\n",
              "      <td>2.109842</td>\n",
              "    </tr>\n",
              "    <tr>\n",
              "      <th>2</th>\n",
              "      <td>-122.24</td>\n",
              "      <td>37.85</td>\n",
              "      <td>52.0</td>\n",
              "      <td>1467.0</td>\n",
              "      <td>190.0</td>\n",
              "      <td>496.0</td>\n",
              "      <td>177.0</td>\n",
              "      <td>7.2574</td>\n",
              "      <td>352100.0</td>\n",
              "      <td>NEAR BAY</td>\n",
              "      <td>8.288136</td>\n",
              "      <td>0.129516</td>\n",
              "      <td>2.802260</td>\n",
              "    </tr>\n",
              "    <tr>\n",
              "      <th>3</th>\n",
              "      <td>-122.25</td>\n",
              "      <td>37.85</td>\n",
              "      <td>52.0</td>\n",
              "      <td>1274.0</td>\n",
              "      <td>235.0</td>\n",
              "      <td>558.0</td>\n",
              "      <td>219.0</td>\n",
              "      <td>5.6431</td>\n",
              "      <td>341300.0</td>\n",
              "      <td>NEAR BAY</td>\n",
              "      <td>5.817352</td>\n",
              "      <td>0.184458</td>\n",
              "      <td>2.547945</td>\n",
              "    </tr>\n",
              "    <tr>\n",
              "      <th>4</th>\n",
              "      <td>-122.25</td>\n",
              "      <td>37.85</td>\n",
              "      <td>52.0</td>\n",
              "      <td>1627.0</td>\n",
              "      <td>280.0</td>\n",
              "      <td>565.0</td>\n",
              "      <td>259.0</td>\n",
              "      <td>3.8462</td>\n",
              "      <td>342200.0</td>\n",
              "      <td>NEAR BAY</td>\n",
              "      <td>6.281853</td>\n",
              "      <td>0.172096</td>\n",
              "      <td>2.181467</td>\n",
              "    </tr>\n",
              "  </tbody>\n",
              "</table>\n",
              "</div>\n",
              "      <button class=\"colab-df-convert\" onclick=\"convertToInteractive('df-d36b26af-f844-48f3-bc84-bf0ba95ee61e')\"\n",
              "              title=\"Convert this dataframe to an interactive table.\"\n",
              "              style=\"display:none;\">\n",
              "        \n",
              "  <svg xmlns=\"http://www.w3.org/2000/svg\" height=\"24px\"viewBox=\"0 0 24 24\"\n",
              "       width=\"24px\">\n",
              "    <path d=\"M0 0h24v24H0V0z\" fill=\"none\"/>\n",
              "    <path d=\"M18.56 5.44l.94 2.06.94-2.06 2.06-.94-2.06-.94-.94-2.06-.94 2.06-2.06.94zm-11 1L8.5 8.5l.94-2.06 2.06-.94-2.06-.94L8.5 2.5l-.94 2.06-2.06.94zm10 10l.94 2.06.94-2.06 2.06-.94-2.06-.94-.94-2.06-.94 2.06-2.06.94z\"/><path d=\"M17.41 7.96l-1.37-1.37c-.4-.4-.92-.59-1.43-.59-.52 0-1.04.2-1.43.59L10.3 9.45l-7.72 7.72c-.78.78-.78 2.05 0 2.83L4 21.41c.39.39.9.59 1.41.59.51 0 1.02-.2 1.41-.59l7.78-7.78 2.81-2.81c.8-.78.8-2.07 0-2.86zM5.41 20L4 18.59l7.72-7.72 1.47 1.35L5.41 20z\"/>\n",
              "  </svg>\n",
              "      </button>\n",
              "      \n",
              "  <style>\n",
              "    .colab-df-container {\n",
              "      display:flex;\n",
              "      flex-wrap:wrap;\n",
              "      gap: 12px;\n",
              "    }\n",
              "\n",
              "    .colab-df-convert {\n",
              "      background-color: #E8F0FE;\n",
              "      border: none;\n",
              "      border-radius: 50%;\n",
              "      cursor: pointer;\n",
              "      display: none;\n",
              "      fill: #1967D2;\n",
              "      height: 32px;\n",
              "      padding: 0 0 0 0;\n",
              "      width: 32px;\n",
              "    }\n",
              "\n",
              "    .colab-df-convert:hover {\n",
              "      background-color: #E2EBFA;\n",
              "      box-shadow: 0px 1px 2px rgba(60, 64, 67, 0.3), 0px 1px 3px 1px rgba(60, 64, 67, 0.15);\n",
              "      fill: #174EA6;\n",
              "    }\n",
              "\n",
              "    [theme=dark] .colab-df-convert {\n",
              "      background-color: #3B4455;\n",
              "      fill: #D2E3FC;\n",
              "    }\n",
              "\n",
              "    [theme=dark] .colab-df-convert:hover {\n",
              "      background-color: #434B5C;\n",
              "      box-shadow: 0px 1px 3px 1px rgba(0, 0, 0, 0.15);\n",
              "      filter: drop-shadow(0px 1px 2px rgba(0, 0, 0, 0.3));\n",
              "      fill: #FFFFFF;\n",
              "    }\n",
              "  </style>\n",
              "\n",
              "      <script>\n",
              "        const buttonEl =\n",
              "          document.querySelector('#df-d36b26af-f844-48f3-bc84-bf0ba95ee61e button.colab-df-convert');\n",
              "        buttonEl.style.display =\n",
              "          google.colab.kernel.accessAllowed ? 'block' : 'none';\n",
              "\n",
              "        async function convertToInteractive(key) {\n",
              "          const element = document.querySelector('#df-d36b26af-f844-48f3-bc84-bf0ba95ee61e');\n",
              "          const dataTable =\n",
              "            await google.colab.kernel.invokeFunction('convertToInteractive',\n",
              "                                                     [key], {});\n",
              "          if (!dataTable) return;\n",
              "\n",
              "          const docLinkHtml = 'Like what you see? Visit the ' +\n",
              "            '<a target=\"_blank\" href=https://colab.research.google.com/notebooks/data_table.ipynb>data table notebook</a>'\n",
              "            + ' to learn more about interactive tables.';\n",
              "          element.innerHTML = '';\n",
              "          dataTable['output_type'] = 'display_data';\n",
              "          await google.colab.output.renderOutput(dataTable, element);\n",
              "          const docLink = document.createElement('div');\n",
              "          docLink.innerHTML = docLinkHtml;\n",
              "          element.appendChild(docLink);\n",
              "        }\n",
              "      </script>\n",
              "    </div>\n",
              "  </div>\n",
              "  "
            ]
          },
          "metadata": {},
          "execution_count": 62
        }
      ]
    },
    {
      "cell_type": "code",
      "source": [
        "## 특성 조합 후 상관관계 확인\n",
        "corr_matrix = housing.corr()\n",
        "corr_matrix[\"median_house_value\"].sort_values(ascending=False)"
      ],
      "metadata": {
        "colab": {
          "base_uri": "https://localhost:8080/"
        },
        "id": "BAEo6WWRXNw9",
        "outputId": "43cd744f-e064-4570-ac08-aef7dd9d9607"
      },
      "execution_count": 65,
      "outputs": [
        {
          "output_type": "execute_result",
          "data": {
            "text/plain": [
              "median_house_value          1.000000\n",
              "median_income               0.688075\n",
              "rooms_per_household         0.151948\n",
              "total_rooms                 0.134153\n",
              "housing_median_age          0.105623\n",
              "households                  0.065843\n",
              "total_bedrooms              0.049686\n",
              "population_per_household   -0.023737\n",
              "population                 -0.024650\n",
              "longitude                  -0.045967\n",
              "latitude                   -0.144160\n",
              "bedrooms_per_room          -0.255880\n",
              "Name: median_house_value, dtype: float64"
            ]
          },
          "metadata": {},
          "execution_count": 65
        }
      ]
    },
    {
      "cell_type": "markdown",
      "source": [
        "## 머신러닝 알고리즘을 위한 데이터 준비"
      ],
      "metadata": {
        "id": "Nt_Bv4KeYhWF"
      }
    },
    {
      "cell_type": "code",
      "source": [
        "housing = strat_train_set.drop(\"median_house_value\", axis=1) \n",
        "housing_labels = strat_train_set[\"median_house_value\"].copy()"
      ],
      "metadata": {
        "id": "6b7CLanrXiR7"
      },
      "execution_count": 66,
      "outputs": []
    },
    {
      "cell_type": "code",
      "source": [
        "housing.head(5)"
      ],
      "metadata": {
        "colab": {
          "base_uri": "https://localhost:8080/",
          "height": 206
        },
        "id": "zK5XOzbJjhkV",
        "outputId": "dea1a9af-2d44-4e38-d6fe-aa808c4d1e96"
      },
      "execution_count": 67,
      "outputs": [
        {
          "output_type": "execute_result",
          "data": {
            "text/plain": [
              "       longitude  latitude  housing_median_age  total_rooms  total_bedrooms  \\\n",
              "12655    -121.46     38.52                29.0       3873.0           797.0   \n",
              "15502    -117.23     33.09                 7.0       5320.0           855.0   \n",
              "2908     -119.04     35.37                44.0       1618.0           310.0   \n",
              "14053    -117.13     32.75                24.0       1877.0           519.0   \n",
              "20496    -118.70     34.28                27.0       3536.0           646.0   \n",
              "\n",
              "       population  households  median_income ocean_proximity  \n",
              "12655      2237.0       706.0         2.1736          INLAND  \n",
              "15502      2015.0       768.0         6.3373      NEAR OCEAN  \n",
              "2908        667.0       300.0         2.8750          INLAND  \n",
              "14053       898.0       483.0         2.2264      NEAR OCEAN  \n",
              "20496      1837.0       580.0         4.4964       <1H OCEAN  "
            ],
            "text/html": [
              "\n",
              "  <div id=\"df-8ca4518f-8821-4a1b-a046-e22d0f64c670\">\n",
              "    <div class=\"colab-df-container\">\n",
              "      <div>\n",
              "<style scoped>\n",
              "    .dataframe tbody tr th:only-of-type {\n",
              "        vertical-align: middle;\n",
              "    }\n",
              "\n",
              "    .dataframe tbody tr th {\n",
              "        vertical-align: top;\n",
              "    }\n",
              "\n",
              "    .dataframe thead th {\n",
              "        text-align: right;\n",
              "    }\n",
              "</style>\n",
              "<table border=\"1\" class=\"dataframe\">\n",
              "  <thead>\n",
              "    <tr style=\"text-align: right;\">\n",
              "      <th></th>\n",
              "      <th>longitude</th>\n",
              "      <th>latitude</th>\n",
              "      <th>housing_median_age</th>\n",
              "      <th>total_rooms</th>\n",
              "      <th>total_bedrooms</th>\n",
              "      <th>population</th>\n",
              "      <th>households</th>\n",
              "      <th>median_income</th>\n",
              "      <th>ocean_proximity</th>\n",
              "    </tr>\n",
              "  </thead>\n",
              "  <tbody>\n",
              "    <tr>\n",
              "      <th>12655</th>\n",
              "      <td>-121.46</td>\n",
              "      <td>38.52</td>\n",
              "      <td>29.0</td>\n",
              "      <td>3873.0</td>\n",
              "      <td>797.0</td>\n",
              "      <td>2237.0</td>\n",
              "      <td>706.0</td>\n",
              "      <td>2.1736</td>\n",
              "      <td>INLAND</td>\n",
              "    </tr>\n",
              "    <tr>\n",
              "      <th>15502</th>\n",
              "      <td>-117.23</td>\n",
              "      <td>33.09</td>\n",
              "      <td>7.0</td>\n",
              "      <td>5320.0</td>\n",
              "      <td>855.0</td>\n",
              "      <td>2015.0</td>\n",
              "      <td>768.0</td>\n",
              "      <td>6.3373</td>\n",
              "      <td>NEAR OCEAN</td>\n",
              "    </tr>\n",
              "    <tr>\n",
              "      <th>2908</th>\n",
              "      <td>-119.04</td>\n",
              "      <td>35.37</td>\n",
              "      <td>44.0</td>\n",
              "      <td>1618.0</td>\n",
              "      <td>310.0</td>\n",
              "      <td>667.0</td>\n",
              "      <td>300.0</td>\n",
              "      <td>2.8750</td>\n",
              "      <td>INLAND</td>\n",
              "    </tr>\n",
              "    <tr>\n",
              "      <th>14053</th>\n",
              "      <td>-117.13</td>\n",
              "      <td>32.75</td>\n",
              "      <td>24.0</td>\n",
              "      <td>1877.0</td>\n",
              "      <td>519.0</td>\n",
              "      <td>898.0</td>\n",
              "      <td>483.0</td>\n",
              "      <td>2.2264</td>\n",
              "      <td>NEAR OCEAN</td>\n",
              "    </tr>\n",
              "    <tr>\n",
              "      <th>20496</th>\n",
              "      <td>-118.70</td>\n",
              "      <td>34.28</td>\n",
              "      <td>27.0</td>\n",
              "      <td>3536.0</td>\n",
              "      <td>646.0</td>\n",
              "      <td>1837.0</td>\n",
              "      <td>580.0</td>\n",
              "      <td>4.4964</td>\n",
              "      <td>&lt;1H OCEAN</td>\n",
              "    </tr>\n",
              "  </tbody>\n",
              "</table>\n",
              "</div>\n",
              "      <button class=\"colab-df-convert\" onclick=\"convertToInteractive('df-8ca4518f-8821-4a1b-a046-e22d0f64c670')\"\n",
              "              title=\"Convert this dataframe to an interactive table.\"\n",
              "              style=\"display:none;\">\n",
              "        \n",
              "  <svg xmlns=\"http://www.w3.org/2000/svg\" height=\"24px\"viewBox=\"0 0 24 24\"\n",
              "       width=\"24px\">\n",
              "    <path d=\"M0 0h24v24H0V0z\" fill=\"none\"/>\n",
              "    <path d=\"M18.56 5.44l.94 2.06.94-2.06 2.06-.94-2.06-.94-.94-2.06-.94 2.06-2.06.94zm-11 1L8.5 8.5l.94-2.06 2.06-.94-2.06-.94L8.5 2.5l-.94 2.06-2.06.94zm10 10l.94 2.06.94-2.06 2.06-.94-2.06-.94-.94-2.06-.94 2.06-2.06.94z\"/><path d=\"M17.41 7.96l-1.37-1.37c-.4-.4-.92-.59-1.43-.59-.52 0-1.04.2-1.43.59L10.3 9.45l-7.72 7.72c-.78.78-.78 2.05 0 2.83L4 21.41c.39.39.9.59 1.41.59.51 0 1.02-.2 1.41-.59l7.78-7.78 2.81-2.81c.8-.78.8-2.07 0-2.86zM5.41 20L4 18.59l7.72-7.72 1.47 1.35L5.41 20z\"/>\n",
              "  </svg>\n",
              "      </button>\n",
              "      \n",
              "  <style>\n",
              "    .colab-df-container {\n",
              "      display:flex;\n",
              "      flex-wrap:wrap;\n",
              "      gap: 12px;\n",
              "    }\n",
              "\n",
              "    .colab-df-convert {\n",
              "      background-color: #E8F0FE;\n",
              "      border: none;\n",
              "      border-radius: 50%;\n",
              "      cursor: pointer;\n",
              "      display: none;\n",
              "      fill: #1967D2;\n",
              "      height: 32px;\n",
              "      padding: 0 0 0 0;\n",
              "      width: 32px;\n",
              "    }\n",
              "\n",
              "    .colab-df-convert:hover {\n",
              "      background-color: #E2EBFA;\n",
              "      box-shadow: 0px 1px 2px rgba(60, 64, 67, 0.3), 0px 1px 3px 1px rgba(60, 64, 67, 0.15);\n",
              "      fill: #174EA6;\n",
              "    }\n",
              "\n",
              "    [theme=dark] .colab-df-convert {\n",
              "      background-color: #3B4455;\n",
              "      fill: #D2E3FC;\n",
              "    }\n",
              "\n",
              "    [theme=dark] .colab-df-convert:hover {\n",
              "      background-color: #434B5C;\n",
              "      box-shadow: 0px 1px 3px 1px rgba(0, 0, 0, 0.15);\n",
              "      filter: drop-shadow(0px 1px 2px rgba(0, 0, 0, 0.3));\n",
              "      fill: #FFFFFF;\n",
              "    }\n",
              "  </style>\n",
              "\n",
              "      <script>\n",
              "        const buttonEl =\n",
              "          document.querySelector('#df-8ca4518f-8821-4a1b-a046-e22d0f64c670 button.colab-df-convert');\n",
              "        buttonEl.style.display =\n",
              "          google.colab.kernel.accessAllowed ? 'block' : 'none';\n",
              "\n",
              "        async function convertToInteractive(key) {\n",
              "          const element = document.querySelector('#df-8ca4518f-8821-4a1b-a046-e22d0f64c670');\n",
              "          const dataTable =\n",
              "            await google.colab.kernel.invokeFunction('convertToInteractive',\n",
              "                                                     [key], {});\n",
              "          if (!dataTable) return;\n",
              "\n",
              "          const docLinkHtml = 'Like what you see? Visit the ' +\n",
              "            '<a target=\"_blank\" href=https://colab.research.google.com/notebooks/data_table.ipynb>data table notebook</a>'\n",
              "            + ' to learn more about interactive tables.';\n",
              "          element.innerHTML = '';\n",
              "          dataTable['output_type'] = 'display_data';\n",
              "          await google.colab.output.renderOutput(dataTable, element);\n",
              "          const docLink = document.createElement('div');\n",
              "          docLink.innerHTML = docLinkHtml;\n",
              "          element.appendChild(docLink);\n",
              "        }\n",
              "      </script>\n",
              "    </div>\n",
              "  </div>\n",
              "  "
            ]
          },
          "metadata": {},
          "execution_count": 67
        }
      ]
    },
    {
      "cell_type": "code",
      "source": [
        "housing_labels.head(5)"
      ],
      "metadata": {
        "colab": {
          "base_uri": "https://localhost:8080/"
        },
        "id": "hp5bSi_ujjjx",
        "outputId": "c4b8a842-ec9c-45e5-c893-7a5c9b46aafa"
      },
      "execution_count": 68,
      "outputs": [
        {
          "output_type": "execute_result",
          "data": {
            "text/plain": [
              "12655     72100.0\n",
              "15502    279600.0\n",
              "2908      82700.0\n",
              "14053    112500.0\n",
              "20496    238300.0\n",
              "Name: median_house_value, dtype: float64"
            ]
          },
          "metadata": {},
          "execution_count": 68
        }
      ]
    },
    {
      "cell_type": "markdown",
      "source": [
        "## 데이터 정제 (수치형 데이터 결측치 처리)"
      ],
      "metadata": {
        "id": "nAlVeRB1jtQZ"
      }
    },
    {
      "cell_type": "markdown",
      "source": [
        "- 결측치 처리 1\n",
        "  - 해당 구역 제거 `dropna`\n",
        "  - 전체 특성 삭제 `drop`\n",
        "  - 어떤 값으로 채움 (예 - 0, 평균, 중간값 등), 테스트 데이터셋 결측치 처리를 위해 해당 값 저장 필요 `fillna`"
      ],
      "metadata": {
        "id": "RfX0_kuRjwBS"
      }
    },
    {
      "cell_type": "code",
      "source": [
        "'''\n",
        "housing.dropna(subset=[\"total_bedrooms\"])    # 옵션 1\n",
        "housing.drop(\"total_bedrooms\", axis=1)       # 옵션 2\n",
        "median = housing[\"total_bedrooms\"].median()  # 옵션 3\n",
        "housing[\"total_bedrooms\"].fillna(median, inplace=True)\n",
        "'''"
      ],
      "metadata": {
        "id": "kzH7GVKPjl3C"
      },
      "execution_count": null,
      "outputs": []
    },
    {
      "cell_type": "markdown",
      "source": [
        "- 결측치 처리 2\n",
        "  - 사이킷런의 `SimpleImputer` 를 사용하여 결측치 처리"
      ],
      "metadata": {
        "id": "dc8aFaFClNnD"
      }
    },
    {
      "cell_type": "code",
      "source": [
        "## SimpleImputer 객체 셍성\n",
        "from sklearn.impute import SimpleImputer\n",
        "imputer = SimpleImputer(strategy=\"median\") ## 결측치를 해당 특성의 중간값으로 대체함, 단, 수치형 특성에 한함"
      ],
      "metadata": {
        "id": "SoPlenBkkMNh"
      },
      "execution_count": 69,
      "outputs": []
    },
    {
      "cell_type": "code",
      "source": [
        "## 텍스트 특성을 제외한 수치형 특성 데이터 복사본 생성\n",
        "housing_num = housing.drop(\"ocean_proximity\", axis=1)"
      ],
      "metadata": {
        "id": "Z1Q_0TN5lnea"
      },
      "execution_count": 70,
      "outputs": []
    },
    {
      "cell_type": "code",
      "source": [
        "## SimpleImputer 를 수치형 특성 데이터에 적용\n",
        "imputer.fit(housing_num)"
      ],
      "metadata": {
        "colab": {
          "base_uri": "https://localhost:8080/"
        },
        "id": "GVSPnqKDmg7V",
        "outputId": "4526e092-d348-44ad-e5fa-fd24121ae203"
      },
      "execution_count": 71,
      "outputs": [
        {
          "output_type": "execute_result",
          "data": {
            "text/plain": [
              "SimpleImputer(strategy='median')"
            ]
          },
          "metadata": {},
          "execution_count": 71
        }
      ]
    },
    {
      "cell_type": "code",
      "source": [
        "## 각 특성의 중간값 확인\n",
        "imputer.statistics_"
      ],
      "metadata": {
        "colab": {
          "base_uri": "https://localhost:8080/"
        },
        "id": "uoyeEDdzmm2i",
        "outputId": "c0551f62-b312-4d59-ebdd-ef38d88d0996"
      },
      "execution_count": 72,
      "outputs": [
        {
          "output_type": "execute_result",
          "data": {
            "text/plain": [
              "array([-118.51   ,   34.26   ,   29.     , 2119.     ,  433.     ,\n",
              "       1164.     ,  408.     ,    3.54155])"
            ]
          },
          "metadata": {},
          "execution_count": 72
        }
      ]
    },
    {
      "cell_type": "code",
      "source": [
        "## 각 특성의 결측치를 중간값으로 대체함 => numpy 배열\n",
        "X = imputer.transform(housing_num)"
      ],
      "metadata": {
        "id": "jR7fElIJmqkQ"
      },
      "execution_count": 73,
      "outputs": []
    },
    {
      "cell_type": "code",
      "source": [
        "## 넘파이 배열을 판다스 데이터프레임으로 변형\n",
        "housing_tr = pd.DataFrame(X, \n",
        "                          columns=housing_num.columns,\n",
        "                          index=housing_num.index)\n",
        "\n",
        "housing_tr.head(5)"
      ],
      "metadata": {
        "colab": {
          "base_uri": "https://localhost:8080/",
          "height": 206
        },
        "id": "qmxejXZzmwYT",
        "outputId": "c6900719-14a2-446e-c556-1daac2550391"
      },
      "execution_count": 76,
      "outputs": [
        {
          "output_type": "execute_result",
          "data": {
            "text/plain": [
              "       longitude  latitude  housing_median_age  total_rooms  total_bedrooms  \\\n",
              "12655    -121.46     38.52                29.0       3873.0           797.0   \n",
              "15502    -117.23     33.09                 7.0       5320.0           855.0   \n",
              "2908     -119.04     35.37                44.0       1618.0           310.0   \n",
              "14053    -117.13     32.75                24.0       1877.0           519.0   \n",
              "20496    -118.70     34.28                27.0       3536.0           646.0   \n",
              "\n",
              "       population  households  median_income  \n",
              "12655      2237.0       706.0         2.1736  \n",
              "15502      2015.0       768.0         6.3373  \n",
              "2908        667.0       300.0         2.8750  \n",
              "14053       898.0       483.0         2.2264  \n",
              "20496      1837.0       580.0         4.4964  "
            ],
            "text/html": [
              "\n",
              "  <div id=\"df-17401e7d-91ad-4389-bbe0-a7da6d75fedf\">\n",
              "    <div class=\"colab-df-container\">\n",
              "      <div>\n",
              "<style scoped>\n",
              "    .dataframe tbody tr th:only-of-type {\n",
              "        vertical-align: middle;\n",
              "    }\n",
              "\n",
              "    .dataframe tbody tr th {\n",
              "        vertical-align: top;\n",
              "    }\n",
              "\n",
              "    .dataframe thead th {\n",
              "        text-align: right;\n",
              "    }\n",
              "</style>\n",
              "<table border=\"1\" class=\"dataframe\">\n",
              "  <thead>\n",
              "    <tr style=\"text-align: right;\">\n",
              "      <th></th>\n",
              "      <th>longitude</th>\n",
              "      <th>latitude</th>\n",
              "      <th>housing_median_age</th>\n",
              "      <th>total_rooms</th>\n",
              "      <th>total_bedrooms</th>\n",
              "      <th>population</th>\n",
              "      <th>households</th>\n",
              "      <th>median_income</th>\n",
              "    </tr>\n",
              "  </thead>\n",
              "  <tbody>\n",
              "    <tr>\n",
              "      <th>12655</th>\n",
              "      <td>-121.46</td>\n",
              "      <td>38.52</td>\n",
              "      <td>29.0</td>\n",
              "      <td>3873.0</td>\n",
              "      <td>797.0</td>\n",
              "      <td>2237.0</td>\n",
              "      <td>706.0</td>\n",
              "      <td>2.1736</td>\n",
              "    </tr>\n",
              "    <tr>\n",
              "      <th>15502</th>\n",
              "      <td>-117.23</td>\n",
              "      <td>33.09</td>\n",
              "      <td>7.0</td>\n",
              "      <td>5320.0</td>\n",
              "      <td>855.0</td>\n",
              "      <td>2015.0</td>\n",
              "      <td>768.0</td>\n",
              "      <td>6.3373</td>\n",
              "    </tr>\n",
              "    <tr>\n",
              "      <th>2908</th>\n",
              "      <td>-119.04</td>\n",
              "      <td>35.37</td>\n",
              "      <td>44.0</td>\n",
              "      <td>1618.0</td>\n",
              "      <td>310.0</td>\n",
              "      <td>667.0</td>\n",
              "      <td>300.0</td>\n",
              "      <td>2.8750</td>\n",
              "    </tr>\n",
              "    <tr>\n",
              "      <th>14053</th>\n",
              "      <td>-117.13</td>\n",
              "      <td>32.75</td>\n",
              "      <td>24.0</td>\n",
              "      <td>1877.0</td>\n",
              "      <td>519.0</td>\n",
              "      <td>898.0</td>\n",
              "      <td>483.0</td>\n",
              "      <td>2.2264</td>\n",
              "    </tr>\n",
              "    <tr>\n",
              "      <th>20496</th>\n",
              "      <td>-118.70</td>\n",
              "      <td>34.28</td>\n",
              "      <td>27.0</td>\n",
              "      <td>3536.0</td>\n",
              "      <td>646.0</td>\n",
              "      <td>1837.0</td>\n",
              "      <td>580.0</td>\n",
              "      <td>4.4964</td>\n",
              "    </tr>\n",
              "  </tbody>\n",
              "</table>\n",
              "</div>\n",
              "      <button class=\"colab-df-convert\" onclick=\"convertToInteractive('df-17401e7d-91ad-4389-bbe0-a7da6d75fedf')\"\n",
              "              title=\"Convert this dataframe to an interactive table.\"\n",
              "              style=\"display:none;\">\n",
              "        \n",
              "  <svg xmlns=\"http://www.w3.org/2000/svg\" height=\"24px\"viewBox=\"0 0 24 24\"\n",
              "       width=\"24px\">\n",
              "    <path d=\"M0 0h24v24H0V0z\" fill=\"none\"/>\n",
              "    <path d=\"M18.56 5.44l.94 2.06.94-2.06 2.06-.94-2.06-.94-.94-2.06-.94 2.06-2.06.94zm-11 1L8.5 8.5l.94-2.06 2.06-.94-2.06-.94L8.5 2.5l-.94 2.06-2.06.94zm10 10l.94 2.06.94-2.06 2.06-.94-2.06-.94-.94-2.06-.94 2.06-2.06.94z\"/><path d=\"M17.41 7.96l-1.37-1.37c-.4-.4-.92-.59-1.43-.59-.52 0-1.04.2-1.43.59L10.3 9.45l-7.72 7.72c-.78.78-.78 2.05 0 2.83L4 21.41c.39.39.9.59 1.41.59.51 0 1.02-.2 1.41-.59l7.78-7.78 2.81-2.81c.8-.78.8-2.07 0-2.86zM5.41 20L4 18.59l7.72-7.72 1.47 1.35L5.41 20z\"/>\n",
              "  </svg>\n",
              "      </button>\n",
              "      \n",
              "  <style>\n",
              "    .colab-df-container {\n",
              "      display:flex;\n",
              "      flex-wrap:wrap;\n",
              "      gap: 12px;\n",
              "    }\n",
              "\n",
              "    .colab-df-convert {\n",
              "      background-color: #E8F0FE;\n",
              "      border: none;\n",
              "      border-radius: 50%;\n",
              "      cursor: pointer;\n",
              "      display: none;\n",
              "      fill: #1967D2;\n",
              "      height: 32px;\n",
              "      padding: 0 0 0 0;\n",
              "      width: 32px;\n",
              "    }\n",
              "\n",
              "    .colab-df-convert:hover {\n",
              "      background-color: #E2EBFA;\n",
              "      box-shadow: 0px 1px 2px rgba(60, 64, 67, 0.3), 0px 1px 3px 1px rgba(60, 64, 67, 0.15);\n",
              "      fill: #174EA6;\n",
              "    }\n",
              "\n",
              "    [theme=dark] .colab-df-convert {\n",
              "      background-color: #3B4455;\n",
              "      fill: #D2E3FC;\n",
              "    }\n",
              "\n",
              "    [theme=dark] .colab-df-convert:hover {\n",
              "      background-color: #434B5C;\n",
              "      box-shadow: 0px 1px 3px 1px rgba(0, 0, 0, 0.15);\n",
              "      filter: drop-shadow(0px 1px 2px rgba(0, 0, 0, 0.3));\n",
              "      fill: #FFFFFF;\n",
              "    }\n",
              "  </style>\n",
              "\n",
              "      <script>\n",
              "        const buttonEl =\n",
              "          document.querySelector('#df-17401e7d-91ad-4389-bbe0-a7da6d75fedf button.colab-df-convert');\n",
              "        buttonEl.style.display =\n",
              "          google.colab.kernel.accessAllowed ? 'block' : 'none';\n",
              "\n",
              "        async function convertToInteractive(key) {\n",
              "          const element = document.querySelector('#df-17401e7d-91ad-4389-bbe0-a7da6d75fedf');\n",
              "          const dataTable =\n",
              "            await google.colab.kernel.invokeFunction('convertToInteractive',\n",
              "                                                     [key], {});\n",
              "          if (!dataTable) return;\n",
              "\n",
              "          const docLinkHtml = 'Like what you see? Visit the ' +\n",
              "            '<a target=\"_blank\" href=https://colab.research.google.com/notebooks/data_table.ipynb>data table notebook</a>'\n",
              "            + ' to learn more about interactive tables.';\n",
              "          element.innerHTML = '';\n",
              "          dataTable['output_type'] = 'display_data';\n",
              "          await google.colab.output.renderOutput(dataTable, element);\n",
              "          const docLink = document.createElement('div');\n",
              "          docLink.innerHTML = docLinkHtml;\n",
              "          element.appendChild(docLink);\n",
              "        }\n",
              "      </script>\n",
              "    </div>\n",
              "  </div>\n",
              "  "
            ]
          },
          "metadata": {},
          "execution_count": 76
        }
      ]
    },
    {
      "cell_type": "markdown",
      "source": [
        "## 데이터 정제 (범주형 데이터)"
      ],
      "metadata": {
        "id": "z3X8wJZvnOD7"
      }
    },
    {
      "cell_type": "markdown",
      "source": [
        "- 범주형 데이터 확인"
      ],
      "metadata": {
        "id": "s1SkHUTusi8H"
      }
    },
    {
      "cell_type": "code",
      "source": [
        "housing_cat = housing[[\"ocean_proximity\"]]\n",
        "housing_cat.head(5)"
      ],
      "metadata": {
        "colab": {
          "base_uri": "https://localhost:8080/",
          "height": 206
        },
        "id": "opG_rv3MmykY",
        "outputId": "80a13b24-df84-4a2b-fee1-0b2ca2abc53d"
      },
      "execution_count": 79,
      "outputs": [
        {
          "output_type": "execute_result",
          "data": {
            "text/plain": [
              "      ocean_proximity\n",
              "12655          INLAND\n",
              "15502      NEAR OCEAN\n",
              "2908           INLAND\n",
              "14053      NEAR OCEAN\n",
              "20496       <1H OCEAN"
            ],
            "text/html": [
              "\n",
              "  <div id=\"df-1f405bb9-c5fd-4d98-a189-015a5f68d55b\">\n",
              "    <div class=\"colab-df-container\">\n",
              "      <div>\n",
              "<style scoped>\n",
              "    .dataframe tbody tr th:only-of-type {\n",
              "        vertical-align: middle;\n",
              "    }\n",
              "\n",
              "    .dataframe tbody tr th {\n",
              "        vertical-align: top;\n",
              "    }\n",
              "\n",
              "    .dataframe thead th {\n",
              "        text-align: right;\n",
              "    }\n",
              "</style>\n",
              "<table border=\"1\" class=\"dataframe\">\n",
              "  <thead>\n",
              "    <tr style=\"text-align: right;\">\n",
              "      <th></th>\n",
              "      <th>ocean_proximity</th>\n",
              "    </tr>\n",
              "  </thead>\n",
              "  <tbody>\n",
              "    <tr>\n",
              "      <th>12655</th>\n",
              "      <td>INLAND</td>\n",
              "    </tr>\n",
              "    <tr>\n",
              "      <th>15502</th>\n",
              "      <td>NEAR OCEAN</td>\n",
              "    </tr>\n",
              "    <tr>\n",
              "      <th>2908</th>\n",
              "      <td>INLAND</td>\n",
              "    </tr>\n",
              "    <tr>\n",
              "      <th>14053</th>\n",
              "      <td>NEAR OCEAN</td>\n",
              "    </tr>\n",
              "    <tr>\n",
              "      <th>20496</th>\n",
              "      <td>&lt;1H OCEAN</td>\n",
              "    </tr>\n",
              "  </tbody>\n",
              "</table>\n",
              "</div>\n",
              "      <button class=\"colab-df-convert\" onclick=\"convertToInteractive('df-1f405bb9-c5fd-4d98-a189-015a5f68d55b')\"\n",
              "              title=\"Convert this dataframe to an interactive table.\"\n",
              "              style=\"display:none;\">\n",
              "        \n",
              "  <svg xmlns=\"http://www.w3.org/2000/svg\" height=\"24px\"viewBox=\"0 0 24 24\"\n",
              "       width=\"24px\">\n",
              "    <path d=\"M0 0h24v24H0V0z\" fill=\"none\"/>\n",
              "    <path d=\"M18.56 5.44l.94 2.06.94-2.06 2.06-.94-2.06-.94-.94-2.06-.94 2.06-2.06.94zm-11 1L8.5 8.5l.94-2.06 2.06-.94-2.06-.94L8.5 2.5l-.94 2.06-2.06.94zm10 10l.94 2.06.94-2.06 2.06-.94-2.06-.94-.94-2.06-.94 2.06-2.06.94z\"/><path d=\"M17.41 7.96l-1.37-1.37c-.4-.4-.92-.59-1.43-.59-.52 0-1.04.2-1.43.59L10.3 9.45l-7.72 7.72c-.78.78-.78 2.05 0 2.83L4 21.41c.39.39.9.59 1.41.59.51 0 1.02-.2 1.41-.59l7.78-7.78 2.81-2.81c.8-.78.8-2.07 0-2.86zM5.41 20L4 18.59l7.72-7.72 1.47 1.35L5.41 20z\"/>\n",
              "  </svg>\n",
              "      </button>\n",
              "      \n",
              "  <style>\n",
              "    .colab-df-container {\n",
              "      display:flex;\n",
              "      flex-wrap:wrap;\n",
              "      gap: 12px;\n",
              "    }\n",
              "\n",
              "    .colab-df-convert {\n",
              "      background-color: #E8F0FE;\n",
              "      border: none;\n",
              "      border-radius: 50%;\n",
              "      cursor: pointer;\n",
              "      display: none;\n",
              "      fill: #1967D2;\n",
              "      height: 32px;\n",
              "      padding: 0 0 0 0;\n",
              "      width: 32px;\n",
              "    }\n",
              "\n",
              "    .colab-df-convert:hover {\n",
              "      background-color: #E2EBFA;\n",
              "      box-shadow: 0px 1px 2px rgba(60, 64, 67, 0.3), 0px 1px 3px 1px rgba(60, 64, 67, 0.15);\n",
              "      fill: #174EA6;\n",
              "    }\n",
              "\n",
              "    [theme=dark] .colab-df-convert {\n",
              "      background-color: #3B4455;\n",
              "      fill: #D2E3FC;\n",
              "    }\n",
              "\n",
              "    [theme=dark] .colab-df-convert:hover {\n",
              "      background-color: #434B5C;\n",
              "      box-shadow: 0px 1px 3px 1px rgba(0, 0, 0, 0.15);\n",
              "      filter: drop-shadow(0px 1px 2px rgba(0, 0, 0, 0.3));\n",
              "      fill: #FFFFFF;\n",
              "    }\n",
              "  </style>\n",
              "\n",
              "      <script>\n",
              "        const buttonEl =\n",
              "          document.querySelector('#df-1f405bb9-c5fd-4d98-a189-015a5f68d55b button.colab-df-convert');\n",
              "        buttonEl.style.display =\n",
              "          google.colab.kernel.accessAllowed ? 'block' : 'none';\n",
              "\n",
              "        async function convertToInteractive(key) {\n",
              "          const element = document.querySelector('#df-1f405bb9-c5fd-4d98-a189-015a5f68d55b');\n",
              "          const dataTable =\n",
              "            await google.colab.kernel.invokeFunction('convertToInteractive',\n",
              "                                                     [key], {});\n",
              "          if (!dataTable) return;\n",
              "\n",
              "          const docLinkHtml = 'Like what you see? Visit the ' +\n",
              "            '<a target=\"_blank\" href=https://colab.research.google.com/notebooks/data_table.ipynb>data table notebook</a>'\n",
              "            + ' to learn more about interactive tables.';\n",
              "          element.innerHTML = '';\n",
              "          dataTable['output_type'] = 'display_data';\n",
              "          await google.colab.output.renderOutput(dataTable, element);\n",
              "          const docLink = document.createElement('div');\n",
              "          docLink.innerHTML = docLinkHtml;\n",
              "          element.appendChild(docLink);\n",
              "        }\n",
              "      </script>\n",
              "    </div>\n",
              "  </div>\n",
              "  "
            ]
          },
          "metadata": {},
          "execution_count": 79
        }
      ]
    },
    {
      "cell_type": "code",
      "source": [
        "housing_cat.value_counts() ## 범주형 데이터"
      ],
      "metadata": {
        "colab": {
          "base_uri": "https://localhost:8080/"
        },
        "id": "8AFlmlMVr9oc",
        "outputId": "4cb1720e-fb26-458b-bb19-06fb4611b6a5"
      },
      "execution_count": 80,
      "outputs": [
        {
          "output_type": "execute_result",
          "data": {
            "text/plain": [
              "ocean_proximity\n",
              "<1H OCEAN          7277\n",
              "INLAND             5262\n",
              "NEAR OCEAN         2124\n",
              "NEAR BAY           1847\n",
              "ISLAND                2\n",
              "dtype: int64"
            ]
          },
          "metadata": {},
          "execution_count": 80
        }
      ]
    },
    {
      "cell_type": "markdown",
      "source": [
        "- 카테고리를 텍스트에서 숫자로 변환 1\n",
        "  - `OrdinalEncoder`\n",
        "  - A, B, C 카테고리를 0, 1, 2 형태로 변환"
      ],
      "metadata": {
        "id": "zk224xEdslFE"
      }
    },
    {
      "cell_type": "code",
      "source": [
        "## 대부분의 ML 알고리즘은 숫자를 다루기 때문에 해당 카테고리를 숫자로 변환\n",
        "'''\n",
        "from sklearn.preprocessing import OrdinalEncoder\n",
        "\n",
        "ordinal_encoder = OrdinalEncoder()\n",
        "housing_cat_encoded = ordinal_encoder.fit_transform(housing_cat)\n",
        "housing_cat_encoded[:10]\n",
        "'''"
      ],
      "metadata": {
        "colab": {
          "base_uri": "https://localhost:8080/"
        },
        "id": "TXL6TNAKsTCD",
        "outputId": "60b0565d-4ed5-4b17-9944-b23129cc36f4"
      },
      "execution_count": 81,
      "outputs": [
        {
          "output_type": "execute_result",
          "data": {
            "text/plain": [
              "array([[1.],\n",
              "       [4.],\n",
              "       [1.],\n",
              "       [4.],\n",
              "       [0.],\n",
              "       [3.],\n",
              "       [0.],\n",
              "       [0.],\n",
              "       [0.],\n",
              "       [0.]])"
            ]
          },
          "metadata": {},
          "execution_count": 81
        }
      ]
    },
    {
      "cell_type": "code",
      "source": [
        "## 카테고리 목록 확인\n",
        "'''\n",
        "ordinal_encoder.categories_\n",
        "'''"
      ],
      "metadata": {
        "colab": {
          "base_uri": "https://localhost:8080/"
        },
        "id": "magRuT86tG2F",
        "outputId": "a4db459d-0b60-450d-d4a7-05085124152b"
      },
      "execution_count": 82,
      "outputs": [
        {
          "output_type": "execute_result",
          "data": {
            "text/plain": [
              "[array(['<1H OCEAN', 'INLAND', 'ISLAND', 'NEAR BAY', 'NEAR OCEAN'],\n",
              "       dtype=object)]"
            ]
          },
          "metadata": {},
          "execution_count": 82
        }
      ]
    },
    {
      "cell_type": "markdown",
      "source": [
        "- 카테고리를 텍스트에서 숫자로 변환 2\n",
        "  - `OneHotEncoder`\n",
        "  - A, B, C 카테고리를 [1, 0, 0], [0, 1, 0], [0, 0, 1] 형태로 변환\n",
        "  - 범주의 값을 원-핫 벡터로 바꾸어 줌"
      ],
      "metadata": {
        "id": "fL8gvaObuz8k"
      }
    },
    {
      "cell_type": "code",
      "source": [
        "from sklearn.preprocessing import OneHotEncoder\n",
        "\n",
        "cat_encoder = OneHotEncoder()\n",
        "housing_cat_1hot = cat_encoder.fit_transform(housing_cat)\n",
        "housing_cat_1hot ## 희소 행렬 형태로 반환됨"
      ],
      "metadata": {
        "colab": {
          "base_uri": "https://localhost:8080/"
        },
        "id": "FDECx3YCtP9y",
        "outputId": "a5971070-fc56-4e9a-8ff3-fbdee15424a1"
      },
      "execution_count": 86,
      "outputs": [
        {
          "output_type": "execute_result",
          "data": {
            "text/plain": [
              "<16512x5 sparse matrix of type '<class 'numpy.float64'>'\n",
              "\twith 16512 stored elements in Compressed Sparse Row format>"
            ]
          },
          "metadata": {},
          "execution_count": 86
        }
      ]
    },
    {
      "cell_type": "code",
      "source": [
        "## 희소 행렬을 넘파이 배열로 변환\n",
        "housing_cat_1hot.toarray()"
      ],
      "metadata": {
        "colab": {
          "base_uri": "https://localhost:8080/"
        },
        "id": "gTn0fgFeufHD",
        "outputId": "e7cb4f33-66af-4890-aeb6-7e91fd55e4f0"
      },
      "execution_count": 87,
      "outputs": [
        {
          "output_type": "execute_result",
          "data": {
            "text/plain": [
              "array([[0., 1., 0., 0., 0.],\n",
              "       [0., 0., 0., 0., 1.],\n",
              "       [0., 1., 0., 0., 0.],\n",
              "       ...,\n",
              "       [1., 0., 0., 0., 0.],\n",
              "       [1., 0., 0., 0., 0.],\n",
              "       [0., 1., 0., 0., 0.]])"
            ]
          },
          "metadata": {},
          "execution_count": 87
        }
      ]
    },
    {
      "cell_type": "code",
      "source": [
        "## 카테고리 목록 확인\n",
        "cat_encoder.categories_"
      ],
      "metadata": {
        "colab": {
          "base_uri": "https://localhost:8080/"
        },
        "id": "Xkt-CCU6vOmp",
        "outputId": "f8bd6af3-80d2-4261-fadc-0c1a075506c7"
      },
      "execution_count": 88,
      "outputs": [
        {
          "output_type": "execute_result",
          "data": {
            "text/plain": [
              "[array(['<1H OCEAN', 'INLAND', 'ISLAND', 'NEAR BAY', 'NEAR OCEAN'],\n",
              "       dtype=object)]"
            ]
          },
          "metadata": {},
          "execution_count": 88
        }
      ]
    },
    {
      "cell_type": "markdown",
      "source": [
        "## 데이터 변환 파이프라인 생성"
      ],
      "metadata": {
        "id": "GQi6pwqpwe57"
      }
    },
    {
      "cell_type": "markdown",
      "source": [
        "- 특성 조합 작업을 위한 파이프라인 생성"
      ],
      "metadata": {
        "id": "NlvsOQ1oxi5X"
      }
    },
    {
      "cell_type": "code",
      "source": [
        "col_names = \"total_rooms\", \"total_bedrooms\", \"population\", \"households\"\n",
        "\n",
        "## 특성 조합을 위한 열 인덱스 구하기\n",
        "rooms_ix, bedrooms_ix, population_ix, households_ix = [\n",
        "                                                       housing.columns.get_loc(c) for c in col_names\n",
        "                                                       ] # 열 인덱스 구하기"
      ],
      "metadata": {
        "id": "1VmZw3GVxXfa"
      },
      "execution_count": 91,
      "outputs": []
    },
    {
      "cell_type": "code",
      "source": [
        "rooms_ix, bedrooms_ix, population_ix, households_ix"
      ],
      "metadata": {
        "colab": {
          "base_uri": "https://localhost:8080/"
        },
        "id": "Gn_R7GNvx1QL",
        "outputId": "5c4a8be2-7a8d-403c-b381-4f6c09f33f7c"
      },
      "execution_count": 92,
      "outputs": [
        {
          "output_type": "execute_result",
          "data": {
            "text/plain": [
              "(3, 4, 5, 6)"
            ]
          },
          "metadata": {},
          "execution_count": 92
        }
      ]
    },
    {
      "cell_type": "code",
      "source": [
        "from sklearn.base import BaseEstimator, TransformerMixin\n",
        "\n",
        "class CombinedAttributesAdder(BaseEstimator, TransformerMixin):\n",
        "\n",
        "    def __init__(self, add_bedrooms_per_room=True): # *args 또는 **kargs 없음\n",
        "        self.add_bedrooms_per_room = add_bedrooms_per_room\n",
        "\n",
        "    def fit(self, X, y=None):\n",
        "        return self  # 아무것도 하지 않음\n",
        "\n",
        "    def transform(self, X):\n",
        "        rooms_per_household = X[:, rooms_ix] / X[:, households_ix]               ## 특성 조합\n",
        "        population_per_household = X[:, population_ix] / X[:, households_ix]     ## 특성 조합\n",
        "\n",
        "        if self.add_bedrooms_per_room: \n",
        "            bedrooms_per_room = X[:, bedrooms_ix] / X[:, rooms_ix]               ## 특성 조합\n",
        "            return np.c_[X, rooms_per_household, population_per_household,\n",
        "                         bedrooms_per_room]\n",
        "\n",
        "        else:\n",
        "            return np.c_[X, rooms_per_household, population_per_household]"
      ],
      "metadata": {
        "id": "sh71bMR_voeS"
      },
      "execution_count": 93,
      "outputs": []
    },
    {
      "cell_type": "code",
      "source": [
        "## 특성 조합 변환기 객체 생성\n",
        "attr_adder = CombinedAttributesAdder(add_bedrooms_per_room=False)\n",
        "## 특성 조합 수행\n",
        "housing_extra_attribs = attr_adder.transform(housing.to_numpy())\n",
        "## 특성 조합 결과 확인\n",
        "housing_extra_attribs[:3, :] ## 넘파이 형태"
      ],
      "metadata": {
        "colab": {
          "base_uri": "https://localhost:8080/"
        },
        "id": "LJQffhAax8Oo",
        "outputId": "bc8e7974-e19d-41c3-fc78-289aa09196bb"
      },
      "execution_count": 99,
      "outputs": [
        {
          "output_type": "execute_result",
          "data": {
            "text/plain": [
              "array([[-121.46, 38.52, 29.0, 3873.0, 797.0, 2237.0, 706.0, 2.1736,\n",
              "        'INLAND', 5.485835694050992, 3.168555240793201],\n",
              "       [-117.23, 33.09, 7.0, 5320.0, 855.0, 2015.0, 768.0, 6.3373,\n",
              "        'NEAR OCEAN', 6.927083333333333, 2.6236979166666665],\n",
              "       [-119.04, 35.37, 44.0, 1618.0, 310.0, 667.0, 300.0, 2.875,\n",
              "        'INLAND', 5.3933333333333335, 2.223333333333333]], dtype=object)"
            ]
          },
          "metadata": {},
          "execution_count": 99
        }
      ]
    },
    {
      "cell_type": "code",
      "source": [
        "## 넘파이 형태를 판다스 데이터프레임 형태로 변환\n",
        "## 특성 조합 데이터 열 이름 추가\n",
        "housing_extra_attribs = pd.DataFrame(\n",
        "    housing_extra_attribs,\n",
        "    columns=list(housing.columns)+[\"rooms_per_household\", \"population_per_household\"],\n",
        "    index=housing.index)\n",
        "\n",
        "housing_extra_attribs.head(5)"
      ],
      "metadata": {
        "colab": {
          "base_uri": "https://localhost:8080/",
          "height": 206
        },
        "id": "XYg8bC7XyNAG",
        "outputId": "c5bd3759-926c-47d9-b264-d74881a3b7af"
      },
      "execution_count": 100,
      "outputs": [
        {
          "output_type": "execute_result",
          "data": {
            "text/plain": [
              "      longitude latitude housing_median_age total_rooms total_bedrooms  \\\n",
              "12655   -121.46    38.52               29.0      3873.0          797.0   \n",
              "15502   -117.23    33.09                7.0      5320.0          855.0   \n",
              "2908    -119.04    35.37               44.0      1618.0          310.0   \n",
              "14053   -117.13    32.75               24.0      1877.0          519.0   \n",
              "20496    -118.7    34.28               27.0      3536.0          646.0   \n",
              "\n",
              "      population households median_income ocean_proximity rooms_per_household  \\\n",
              "12655     2237.0      706.0        2.1736          INLAND            5.485836   \n",
              "15502     2015.0      768.0        6.3373      NEAR OCEAN            6.927083   \n",
              "2908       667.0      300.0         2.875          INLAND            5.393333   \n",
              "14053      898.0      483.0        2.2264      NEAR OCEAN            3.886128   \n",
              "20496     1837.0      580.0        4.4964       <1H OCEAN            6.096552   \n",
              "\n",
              "      population_per_household  \n",
              "12655                 3.168555  \n",
              "15502                 2.623698  \n",
              "2908                  2.223333  \n",
              "14053                 1.859213  \n",
              "20496                 3.167241  "
            ],
            "text/html": [
              "\n",
              "  <div id=\"df-b0e6bd41-839d-40bc-a2a5-5ae57cb2b454\">\n",
              "    <div class=\"colab-df-container\">\n",
              "      <div>\n",
              "<style scoped>\n",
              "    .dataframe tbody tr th:only-of-type {\n",
              "        vertical-align: middle;\n",
              "    }\n",
              "\n",
              "    .dataframe tbody tr th {\n",
              "        vertical-align: top;\n",
              "    }\n",
              "\n",
              "    .dataframe thead th {\n",
              "        text-align: right;\n",
              "    }\n",
              "</style>\n",
              "<table border=\"1\" class=\"dataframe\">\n",
              "  <thead>\n",
              "    <tr style=\"text-align: right;\">\n",
              "      <th></th>\n",
              "      <th>longitude</th>\n",
              "      <th>latitude</th>\n",
              "      <th>housing_median_age</th>\n",
              "      <th>total_rooms</th>\n",
              "      <th>total_bedrooms</th>\n",
              "      <th>population</th>\n",
              "      <th>households</th>\n",
              "      <th>median_income</th>\n",
              "      <th>ocean_proximity</th>\n",
              "      <th>rooms_per_household</th>\n",
              "      <th>population_per_household</th>\n",
              "    </tr>\n",
              "  </thead>\n",
              "  <tbody>\n",
              "    <tr>\n",
              "      <th>12655</th>\n",
              "      <td>-121.46</td>\n",
              "      <td>38.52</td>\n",
              "      <td>29.0</td>\n",
              "      <td>3873.0</td>\n",
              "      <td>797.0</td>\n",
              "      <td>2237.0</td>\n",
              "      <td>706.0</td>\n",
              "      <td>2.1736</td>\n",
              "      <td>INLAND</td>\n",
              "      <td>5.485836</td>\n",
              "      <td>3.168555</td>\n",
              "    </tr>\n",
              "    <tr>\n",
              "      <th>15502</th>\n",
              "      <td>-117.23</td>\n",
              "      <td>33.09</td>\n",
              "      <td>7.0</td>\n",
              "      <td>5320.0</td>\n",
              "      <td>855.0</td>\n",
              "      <td>2015.0</td>\n",
              "      <td>768.0</td>\n",
              "      <td>6.3373</td>\n",
              "      <td>NEAR OCEAN</td>\n",
              "      <td>6.927083</td>\n",
              "      <td>2.623698</td>\n",
              "    </tr>\n",
              "    <tr>\n",
              "      <th>2908</th>\n",
              "      <td>-119.04</td>\n",
              "      <td>35.37</td>\n",
              "      <td>44.0</td>\n",
              "      <td>1618.0</td>\n",
              "      <td>310.0</td>\n",
              "      <td>667.0</td>\n",
              "      <td>300.0</td>\n",
              "      <td>2.875</td>\n",
              "      <td>INLAND</td>\n",
              "      <td>5.393333</td>\n",
              "      <td>2.223333</td>\n",
              "    </tr>\n",
              "    <tr>\n",
              "      <th>14053</th>\n",
              "      <td>-117.13</td>\n",
              "      <td>32.75</td>\n",
              "      <td>24.0</td>\n",
              "      <td>1877.0</td>\n",
              "      <td>519.0</td>\n",
              "      <td>898.0</td>\n",
              "      <td>483.0</td>\n",
              "      <td>2.2264</td>\n",
              "      <td>NEAR OCEAN</td>\n",
              "      <td>3.886128</td>\n",
              "      <td>1.859213</td>\n",
              "    </tr>\n",
              "    <tr>\n",
              "      <th>20496</th>\n",
              "      <td>-118.7</td>\n",
              "      <td>34.28</td>\n",
              "      <td>27.0</td>\n",
              "      <td>3536.0</td>\n",
              "      <td>646.0</td>\n",
              "      <td>1837.0</td>\n",
              "      <td>580.0</td>\n",
              "      <td>4.4964</td>\n",
              "      <td>&lt;1H OCEAN</td>\n",
              "      <td>6.096552</td>\n",
              "      <td>3.167241</td>\n",
              "    </tr>\n",
              "  </tbody>\n",
              "</table>\n",
              "</div>\n",
              "      <button class=\"colab-df-convert\" onclick=\"convertToInteractive('df-b0e6bd41-839d-40bc-a2a5-5ae57cb2b454')\"\n",
              "              title=\"Convert this dataframe to an interactive table.\"\n",
              "              style=\"display:none;\">\n",
              "        \n",
              "  <svg xmlns=\"http://www.w3.org/2000/svg\" height=\"24px\"viewBox=\"0 0 24 24\"\n",
              "       width=\"24px\">\n",
              "    <path d=\"M0 0h24v24H0V0z\" fill=\"none\"/>\n",
              "    <path d=\"M18.56 5.44l.94 2.06.94-2.06 2.06-.94-2.06-.94-.94-2.06-.94 2.06-2.06.94zm-11 1L8.5 8.5l.94-2.06 2.06-.94-2.06-.94L8.5 2.5l-.94 2.06-2.06.94zm10 10l.94 2.06.94-2.06 2.06-.94-2.06-.94-.94-2.06-.94 2.06-2.06.94z\"/><path d=\"M17.41 7.96l-1.37-1.37c-.4-.4-.92-.59-1.43-.59-.52 0-1.04.2-1.43.59L10.3 9.45l-7.72 7.72c-.78.78-.78 2.05 0 2.83L4 21.41c.39.39.9.59 1.41.59.51 0 1.02-.2 1.41-.59l7.78-7.78 2.81-2.81c.8-.78.8-2.07 0-2.86zM5.41 20L4 18.59l7.72-7.72 1.47 1.35L5.41 20z\"/>\n",
              "  </svg>\n",
              "      </button>\n",
              "      \n",
              "  <style>\n",
              "    .colab-df-container {\n",
              "      display:flex;\n",
              "      flex-wrap:wrap;\n",
              "      gap: 12px;\n",
              "    }\n",
              "\n",
              "    .colab-df-convert {\n",
              "      background-color: #E8F0FE;\n",
              "      border: none;\n",
              "      border-radius: 50%;\n",
              "      cursor: pointer;\n",
              "      display: none;\n",
              "      fill: #1967D2;\n",
              "      height: 32px;\n",
              "      padding: 0 0 0 0;\n",
              "      width: 32px;\n",
              "    }\n",
              "\n",
              "    .colab-df-convert:hover {\n",
              "      background-color: #E2EBFA;\n",
              "      box-shadow: 0px 1px 2px rgba(60, 64, 67, 0.3), 0px 1px 3px 1px rgba(60, 64, 67, 0.15);\n",
              "      fill: #174EA6;\n",
              "    }\n",
              "\n",
              "    [theme=dark] .colab-df-convert {\n",
              "      background-color: #3B4455;\n",
              "      fill: #D2E3FC;\n",
              "    }\n",
              "\n",
              "    [theme=dark] .colab-df-convert:hover {\n",
              "      background-color: #434B5C;\n",
              "      box-shadow: 0px 1px 3px 1px rgba(0, 0, 0, 0.15);\n",
              "      filter: drop-shadow(0px 1px 2px rgba(0, 0, 0, 0.3));\n",
              "      fill: #FFFFFF;\n",
              "    }\n",
              "  </style>\n",
              "\n",
              "      <script>\n",
              "        const buttonEl =\n",
              "          document.querySelector('#df-b0e6bd41-839d-40bc-a2a5-5ae57cb2b454 button.colab-df-convert');\n",
              "        buttonEl.style.display =\n",
              "          google.colab.kernel.accessAllowed ? 'block' : 'none';\n",
              "\n",
              "        async function convertToInteractive(key) {\n",
              "          const element = document.querySelector('#df-b0e6bd41-839d-40bc-a2a5-5ae57cb2b454');\n",
              "          const dataTable =\n",
              "            await google.colab.kernel.invokeFunction('convertToInteractive',\n",
              "                                                     [key], {});\n",
              "          if (!dataTable) return;\n",
              "\n",
              "          const docLinkHtml = 'Like what you see? Visit the ' +\n",
              "            '<a target=\"_blank\" href=https://colab.research.google.com/notebooks/data_table.ipynb>data table notebook</a>'\n",
              "            + ' to learn more about interactive tables.';\n",
              "          element.innerHTML = '';\n",
              "          dataTable['output_type'] = 'display_data';\n",
              "          await google.colab.output.renderOutput(dataTable, element);\n",
              "          const docLink = document.createElement('div');\n",
              "          docLink.innerHTML = docLinkHtml;\n",
              "          element.appendChild(docLink);\n",
              "        }\n",
              "      </script>\n",
              "    </div>\n",
              "  </div>\n",
              "  "
            ]
          },
          "metadata": {},
          "execution_count": 100
        }
      ]
    },
    {
      "cell_type": "markdown",
      "source": [
        "- 특성 스케일링\n",
        "- 수치형 특성 전처리 파이프라인 생성\n",
        "  - `MinMaxScaler`\n",
        "    - 정규화\n",
        "    - 모든 특성의 범위를 같도록 만들어주는 방법\n",
        "    - 이상치에 민감함\n",
        "  - `StandardScaler`\n",
        "    - 표준화\n",
        "    - 값에서 평균을 뺀 후, 표준편차로 나눔으로써 분포의 분산이 1이 되도록 함\n",
        "    - 이상치에 민감하지 않지만 범위의 상하한이 없어 특정 알고리즘에는 문제가 될 수 있음"
      ],
      "metadata": {
        "id": "ttIFm7Rny5pz"
      }
    },
    {
      "cell_type": "markdown",
      "source": [
        "- `Pipeline` 를 사용한 데이터 변환"
      ],
      "metadata": {
        "id": "rpV7IPs_1cn2"
      }
    },
    {
      "cell_type": "code",
      "source": [
        "from sklearn.pipeline import Pipeline ## 사이킷런의 연속된 변환을 순서대로 처리해주는 클래스\n",
        "from sklearn.preprocessing import StandardScaler\n",
        "\n",
        "## 수치형 특성을 전처리하기 위한 파이프라인 정의\n",
        "## 사이킷런의 Pipeline은 이름/추정기 쌍의 목록을 입력으로 받음\n",
        "num_pipeline = Pipeline([\n",
        "        ('imputer', SimpleImputer(strategy=\"median\")), ## 결측치 처리\n",
        "        ('attribs_adder', CombinedAttributesAdder()),  ## 특성 조합\n",
        "        ('std_scaler', StandardScaler()),              ## 표준화\n",
        "    ])\n",
        "\n",
        "housing_num_tr = num_pipeline.fit_transform(housing_num)"
      ],
      "metadata": {
        "id": "3ylN2o6yy2Hu"
      },
      "execution_count": 102,
      "outputs": []
    },
    {
      "cell_type": "code",
      "source": [
        "housing_num_tr[:3, :]"
      ],
      "metadata": {
        "colab": {
          "base_uri": "https://localhost:8080/"
        },
        "id": "st37VdGL1FtS",
        "outputId": "d51aaee5-2485-4053-9e9c-b8ef7e7cfbd5"
      },
      "execution_count": 103,
      "outputs": [
        {
          "output_type": "execute_result",
          "data": {
            "text/plain": [
              "array([[-0.94135046,  1.34743822,  0.02756357,  0.58477745,  0.64037127,\n",
              "         0.73260236,  0.55628602, -0.8936472 ,  0.01739526,  0.00622264,\n",
              "        -0.12112176],\n",
              "       [ 1.17178212, -1.19243966, -1.72201763,  1.26146668,  0.78156132,\n",
              "         0.53361152,  0.72131799,  1.292168  ,  0.56925554, -0.04081077,\n",
              "        -0.81086696],\n",
              "       [ 0.26758118, -0.1259716 ,  1.22045984, -0.46977281, -0.54513828,\n",
              "        -0.67467519, -0.52440722, -0.52543365, -0.01802432, -0.07537122,\n",
              "        -0.33827252]])"
            ]
          },
          "metadata": {},
          "execution_count": 103
        }
      ]
    },
    {
      "cell_type": "markdown",
      "source": [
        "- `ColumnTransformer` 를 사용하여 각 열마다 적절한 변환 적용"
      ],
      "metadata": {
        "id": "H6E8brsw1jMD"
      }
    },
    {
      "cell_type": "code",
      "source": [
        "housing_num.head(5)"
      ],
      "metadata": {
        "colab": {
          "base_uri": "https://localhost:8080/",
          "height": 206
        },
        "id": "pAkVLMBp1x1l",
        "outputId": "8701366b-b1ff-4200-b313-80ccc979d01a"
      },
      "execution_count": 107,
      "outputs": [
        {
          "output_type": "execute_result",
          "data": {
            "text/plain": [
              "       longitude  latitude  housing_median_age  total_rooms  total_bedrooms  \\\n",
              "12655    -121.46     38.52                29.0       3873.0           797.0   \n",
              "15502    -117.23     33.09                 7.0       5320.0           855.0   \n",
              "2908     -119.04     35.37                44.0       1618.0           310.0   \n",
              "14053    -117.13     32.75                24.0       1877.0           519.0   \n",
              "20496    -118.70     34.28                27.0       3536.0           646.0   \n",
              "\n",
              "       population  households  median_income  \n",
              "12655      2237.0       706.0         2.1736  \n",
              "15502      2015.0       768.0         6.3373  \n",
              "2908        667.0       300.0         2.8750  \n",
              "14053       898.0       483.0         2.2264  \n",
              "20496      1837.0       580.0         4.4964  "
            ],
            "text/html": [
              "\n",
              "  <div id=\"df-3cab5840-2657-4c23-b43d-9374fcca68e5\">\n",
              "    <div class=\"colab-df-container\">\n",
              "      <div>\n",
              "<style scoped>\n",
              "    .dataframe tbody tr th:only-of-type {\n",
              "        vertical-align: middle;\n",
              "    }\n",
              "\n",
              "    .dataframe tbody tr th {\n",
              "        vertical-align: top;\n",
              "    }\n",
              "\n",
              "    .dataframe thead th {\n",
              "        text-align: right;\n",
              "    }\n",
              "</style>\n",
              "<table border=\"1\" class=\"dataframe\">\n",
              "  <thead>\n",
              "    <tr style=\"text-align: right;\">\n",
              "      <th></th>\n",
              "      <th>longitude</th>\n",
              "      <th>latitude</th>\n",
              "      <th>housing_median_age</th>\n",
              "      <th>total_rooms</th>\n",
              "      <th>total_bedrooms</th>\n",
              "      <th>population</th>\n",
              "      <th>households</th>\n",
              "      <th>median_income</th>\n",
              "    </tr>\n",
              "  </thead>\n",
              "  <tbody>\n",
              "    <tr>\n",
              "      <th>12655</th>\n",
              "      <td>-121.46</td>\n",
              "      <td>38.52</td>\n",
              "      <td>29.0</td>\n",
              "      <td>3873.0</td>\n",
              "      <td>797.0</td>\n",
              "      <td>2237.0</td>\n",
              "      <td>706.0</td>\n",
              "      <td>2.1736</td>\n",
              "    </tr>\n",
              "    <tr>\n",
              "      <th>15502</th>\n",
              "      <td>-117.23</td>\n",
              "      <td>33.09</td>\n",
              "      <td>7.0</td>\n",
              "      <td>5320.0</td>\n",
              "      <td>855.0</td>\n",
              "      <td>2015.0</td>\n",
              "      <td>768.0</td>\n",
              "      <td>6.3373</td>\n",
              "    </tr>\n",
              "    <tr>\n",
              "      <th>2908</th>\n",
              "      <td>-119.04</td>\n",
              "      <td>35.37</td>\n",
              "      <td>44.0</td>\n",
              "      <td>1618.0</td>\n",
              "      <td>310.0</td>\n",
              "      <td>667.0</td>\n",
              "      <td>300.0</td>\n",
              "      <td>2.8750</td>\n",
              "    </tr>\n",
              "    <tr>\n",
              "      <th>14053</th>\n",
              "      <td>-117.13</td>\n",
              "      <td>32.75</td>\n",
              "      <td>24.0</td>\n",
              "      <td>1877.0</td>\n",
              "      <td>519.0</td>\n",
              "      <td>898.0</td>\n",
              "      <td>483.0</td>\n",
              "      <td>2.2264</td>\n",
              "    </tr>\n",
              "    <tr>\n",
              "      <th>20496</th>\n",
              "      <td>-118.70</td>\n",
              "      <td>34.28</td>\n",
              "      <td>27.0</td>\n",
              "      <td>3536.0</td>\n",
              "      <td>646.0</td>\n",
              "      <td>1837.0</td>\n",
              "      <td>580.0</td>\n",
              "      <td>4.4964</td>\n",
              "    </tr>\n",
              "  </tbody>\n",
              "</table>\n",
              "</div>\n",
              "      <button class=\"colab-df-convert\" onclick=\"convertToInteractive('df-3cab5840-2657-4c23-b43d-9374fcca68e5')\"\n",
              "              title=\"Convert this dataframe to an interactive table.\"\n",
              "              style=\"display:none;\">\n",
              "        \n",
              "  <svg xmlns=\"http://www.w3.org/2000/svg\" height=\"24px\"viewBox=\"0 0 24 24\"\n",
              "       width=\"24px\">\n",
              "    <path d=\"M0 0h24v24H0V0z\" fill=\"none\"/>\n",
              "    <path d=\"M18.56 5.44l.94 2.06.94-2.06 2.06-.94-2.06-.94-.94-2.06-.94 2.06-2.06.94zm-11 1L8.5 8.5l.94-2.06 2.06-.94-2.06-.94L8.5 2.5l-.94 2.06-2.06.94zm10 10l.94 2.06.94-2.06 2.06-.94-2.06-.94-.94-2.06-.94 2.06-2.06.94z\"/><path d=\"M17.41 7.96l-1.37-1.37c-.4-.4-.92-.59-1.43-.59-.52 0-1.04.2-1.43.59L10.3 9.45l-7.72 7.72c-.78.78-.78 2.05 0 2.83L4 21.41c.39.39.9.59 1.41.59.51 0 1.02-.2 1.41-.59l7.78-7.78 2.81-2.81c.8-.78.8-2.07 0-2.86zM5.41 20L4 18.59l7.72-7.72 1.47 1.35L5.41 20z\"/>\n",
              "  </svg>\n",
              "      </button>\n",
              "      \n",
              "  <style>\n",
              "    .colab-df-container {\n",
              "      display:flex;\n",
              "      flex-wrap:wrap;\n",
              "      gap: 12px;\n",
              "    }\n",
              "\n",
              "    .colab-df-convert {\n",
              "      background-color: #E8F0FE;\n",
              "      border: none;\n",
              "      border-radius: 50%;\n",
              "      cursor: pointer;\n",
              "      display: none;\n",
              "      fill: #1967D2;\n",
              "      height: 32px;\n",
              "      padding: 0 0 0 0;\n",
              "      width: 32px;\n",
              "    }\n",
              "\n",
              "    .colab-df-convert:hover {\n",
              "      background-color: #E2EBFA;\n",
              "      box-shadow: 0px 1px 2px rgba(60, 64, 67, 0.3), 0px 1px 3px 1px rgba(60, 64, 67, 0.15);\n",
              "      fill: #174EA6;\n",
              "    }\n",
              "\n",
              "    [theme=dark] .colab-df-convert {\n",
              "      background-color: #3B4455;\n",
              "      fill: #D2E3FC;\n",
              "    }\n",
              "\n",
              "    [theme=dark] .colab-df-convert:hover {\n",
              "      background-color: #434B5C;\n",
              "      box-shadow: 0px 1px 3px 1px rgba(0, 0, 0, 0.15);\n",
              "      filter: drop-shadow(0px 1px 2px rgba(0, 0, 0, 0.3));\n",
              "      fill: #FFFFFF;\n",
              "    }\n",
              "  </style>\n",
              "\n",
              "      <script>\n",
              "        const buttonEl =\n",
              "          document.querySelector('#df-3cab5840-2657-4c23-b43d-9374fcca68e5 button.colab-df-convert');\n",
              "        buttonEl.style.display =\n",
              "          google.colab.kernel.accessAllowed ? 'block' : 'none';\n",
              "\n",
              "        async function convertToInteractive(key) {\n",
              "          const element = document.querySelector('#df-3cab5840-2657-4c23-b43d-9374fcca68e5');\n",
              "          const dataTable =\n",
              "            await google.colab.kernel.invokeFunction('convertToInteractive',\n",
              "                                                     [key], {});\n",
              "          if (!dataTable) return;\n",
              "\n",
              "          const docLinkHtml = 'Like what you see? Visit the ' +\n",
              "            '<a target=\"_blank\" href=https://colab.research.google.com/notebooks/data_table.ipynb>data table notebook</a>'\n",
              "            + ' to learn more about interactive tables.';\n",
              "          element.innerHTML = '';\n",
              "          dataTable['output_type'] = 'display_data';\n",
              "          await google.colab.output.renderOutput(dataTable, element);\n",
              "          const docLink = document.createElement('div');\n",
              "          docLink.innerHTML = docLinkHtml;\n",
              "          element.appendChild(docLink);\n",
              "        }\n",
              "      </script>\n",
              "    </div>\n",
              "  </div>\n",
              "  "
            ]
          },
          "metadata": {},
          "execution_count": 107
        }
      ]
    },
    {
      "cell_type": "code",
      "source": [
        "list(housing_num)"
      ],
      "metadata": {
        "colab": {
          "base_uri": "https://localhost:8080/"
        },
        "id": "3X1GwVSD1s4j",
        "outputId": "216a90d5-6f27-4557-b612-c4e986c188eb"
      },
      "execution_count": 105,
      "outputs": [
        {
          "output_type": "execute_result",
          "data": {
            "text/plain": [
              "['longitude',\n",
              " 'latitude',\n",
              " 'housing_median_age',\n",
              " 'total_rooms',\n",
              " 'total_bedrooms',\n",
              " 'population',\n",
              " 'households',\n",
              " 'median_income']"
            ]
          },
          "metadata": {},
          "execution_count": 105
        }
      ]
    },
    {
      "cell_type": "code",
      "source": [
        "from sklearn.compose import ColumnTransformer\n",
        "\n",
        "num_attribs = list(housing_num)   ## 수치형 특성 열 이름\n",
        "cat_attribs = [\"ocean_proximity\"] ## 범주형 특성 열 이름\n",
        "\n",
        "full_pipeline = ColumnTransformer([\n",
        "        (\"num\", num_pipeline, num_attribs),    ## 수치형 특성 열은 수치형 전처리 파이프라인 수행\n",
        "        (\"cat\", OneHotEncoder(), cat_attribs), ## 범주형 특성 열은 범주형 전처리 파이프라인 수행\n",
        "    ])\n",
        "\n",
        "housing_prepared = full_pipeline.fit_transform(housing)"
      ],
      "metadata": {
        "id": "y7w3xgqD1G4f"
      },
      "execution_count": 108,
      "outputs": []
    },
    {
      "cell_type": "code",
      "source": [
        "housing_prepared[:3, :]"
      ],
      "metadata": {
        "colab": {
          "base_uri": "https://localhost:8080/"
        },
        "id": "8OKyRKkb2d-P",
        "outputId": "030ea644-c086-43d6-ad06-6c466f036082"
      },
      "execution_count": 110,
      "outputs": [
        {
          "output_type": "execute_result",
          "data": {
            "text/plain": [
              "array([[-0.94135046,  1.34743822,  0.02756357,  0.58477745,  0.64037127,\n",
              "         0.73260236,  0.55628602, -0.8936472 ,  0.01739526,  0.00622264,\n",
              "        -0.12112176,  0.        ,  1.        ,  0.        ,  0.        ,\n",
              "         0.        ],\n",
              "       [ 1.17178212, -1.19243966, -1.72201763,  1.26146668,  0.78156132,\n",
              "         0.53361152,  0.72131799,  1.292168  ,  0.56925554, -0.04081077,\n",
              "        -0.81086696,  0.        ,  0.        ,  0.        ,  0.        ,\n",
              "         1.        ],\n",
              "       [ 0.26758118, -0.1259716 ,  1.22045984, -0.46977281, -0.54513828,\n",
              "        -0.67467519, -0.52440722, -0.52543365, -0.01802432, -0.07537122,\n",
              "        -0.33827252,  0.        ,  1.        ,  0.        ,  0.        ,\n",
              "         0.        ]])"
            ]
          },
          "metadata": {},
          "execution_count": 110
        }
      ]
    },
    {
      "cell_type": "code",
      "source": [
        "housing_prepared.shape"
      ],
      "metadata": {
        "colab": {
          "base_uri": "https://localhost:8080/"
        },
        "id": "oz5Jd3hL2eWr",
        "outputId": "5ca13888-7490-4972-9fa8-ff0066be2b69"
      },
      "execution_count": 111,
      "outputs": [
        {
          "output_type": "execute_result",
          "data": {
            "text/plain": [
              "(16512, 16)"
            ]
          },
          "metadata": {},
          "execution_count": 111
        }
      ]
    },
    {
      "cell_type": "code",
      "source": [
        ""
      ],
      "metadata": {
        "id": "SgwvdgsU28rC"
      },
      "execution_count": null,
      "outputs": []
    }
  ]
}